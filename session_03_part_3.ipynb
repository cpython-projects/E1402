{
  "nbformat": 4,
  "nbformat_minor": 0,
  "metadata": {
    "colab": {
      "provenance": [],
      "authorship_tag": "ABX9TyMoaEhXRRkzG3OoaPByarKh",
      "include_colab_link": true
    },
    "kernelspec": {
      "name": "python3",
      "display_name": "Python 3"
    },
    "language_info": {
      "name": "python"
    }
  },
  "cells": [
    {
      "cell_type": "markdown",
      "metadata": {
        "id": "view-in-github",
        "colab_type": "text"
      },
      "source": [
        "<a href=\"https://colab.research.google.com/github/cpython-projects/E1402/blob/main/session_03_part_3.ipynb\" target=\"_parent\"><img src=\"https://colab.research.google.com/assets/colab-badge.svg\" alt=\"Open In Colab\"/></a>"
      ]
    },
    {
      "cell_type": "markdown",
      "source": [
        "### **Dataset Description and Legend**\n",
        "\n",
        "Dataset (ecommerce_data.csv) contains **40 rows** and **19 columns**, representing e-commerce transactions. Below is a breakdown of each column:\n",
        "\n",
        "| Column Name         | Description |\n",
        "|--------------------|-------------|\n",
        "| `order_id`        | Unique identifier for each order. |\n",
        "| `customer_id`     | Unique identifier for the customer. |\n",
        "| `order_date`      | Date when the order was placed (YYYY-MM-DD format). |\n",
        "| `product_id`      | Unique identifier for the purchased product. |\n",
        "| `product_name`    | Name of the product. |\n",
        "| `category`        | Product category (e.g., Electronics, Clothing, etc.). |\n",
        "| `price`           | Price of a single unit of the product. |\n",
        "| `quantity`        | Number of units purchased. |\n",
        "| `weight`          | Weight of the product (in kg, but stored as a string). |\n",
        "| `discount`        | Discount applied (as a decimal, e.g., 0.10 for 10%). |\n",
        "| `shipping_cost`   | Cost of shipping the product (missing values exist). |\n",
        "| `payment_method`  | Method of payment (e.g., Credit Card, PayPal, Debit). |\n",
        "| `delivery_status` | Status of the delivery (Delivered, Shipped, Processing, etc.). |\n",
        "| `customer_city`   | City of the customer. |\n",
        "| `customer_state`  | State of the customer. |\n",
        "| `customer_country`| Country of the customer. |\n",
        "| `return_requested`| Whether a return was requested (1 = Yes, 0 = No). |\n",
        "| `review_score`    | Customer review score (out of 5, some missing values). |\n",
        "| `days_to_deliver` | Number of days taken to deliver the product (some missing values). |"
      ],
      "metadata": {
        "id": "fdkSBoK6-K6l"
      }
    },
    {
      "cell_type": "code",
      "execution_count": 2,
      "metadata": {
        "colab": {
          "base_uri": "https://localhost:8080/",
          "height": 243
        },
        "id": "yzxJlqwWx6SC",
        "outputId": "49f8407e-a510-41e7-abf8-82c8d7b0009a"
      },
      "outputs": [
        {
          "output_type": "execute_result",
          "data": {
            "text/plain": [
              "   order_id customer_id  order_date product_id      product_name     category  \\\n",
              "0      1001        C101  2023-01-15       P001      Smartphone X  Electronics   \n",
              "1      1002        C102  2023-01-16       P002        Laptop Pro  Electronics   \n",
              "2      1003        C103  2023-01-17       P003  Wireless Earbuds  Electronics   \n",
              "3      1004        C104  2023-01-18       P004       Smart Watch  Electronics   \n",
              "4      1005        C105  2023-01-19       P005       Tablet Mini  Electronics   \n",
              "\n",
              "     price  quantity weight  discount  shipping_cost payment_method  \\\n",
              "0   599.99         1  0.5kg      0.10           5.99    Credit Card   \n",
              "1  1299.99         1  2.2kg      0.15          12.99         paypal   \n",
              "2    79.99         2  0.1kg      0.00            NaN    Credit Card   \n",
              "3   199.99         1  0.3kg      0.05           4.99          debit   \n",
              "4   299.99         1  0.7kg       NaN           6.99         credit   \n",
              "\n",
              "  delivery_status customer_city customer_state customer_country  \\\n",
              "0       Delivered      New York             NY              USA   \n",
              "1       Delivered   los angeles             CA              USA   \n",
              "2         Shipped       Chicago             IL              USA   \n",
              "3       Delivered       Houston             TX              USA   \n",
              "4      Processing       PHOENIX             AZ              USA   \n",
              "\n",
              "   return_requested  review_score  days_to_deliver  \n",
              "0                 0           5.0              3.0  \n",
              "1                 1           4.0              5.0  \n",
              "2                 0           NaN              NaN  \n",
              "3                 0           5.0              4.0  \n",
              "4                 1           2.0              NaN  "
            ],
            "text/html": [
              "\n",
              "  <div id=\"df-c12829ea-5c70-4bad-be3b-025240200cbc\" class=\"colab-df-container\">\n",
              "    <div>\n",
              "<style scoped>\n",
              "    .dataframe tbody tr th:only-of-type {\n",
              "        vertical-align: middle;\n",
              "    }\n",
              "\n",
              "    .dataframe tbody tr th {\n",
              "        vertical-align: top;\n",
              "    }\n",
              "\n",
              "    .dataframe thead th {\n",
              "        text-align: right;\n",
              "    }\n",
              "</style>\n",
              "<table border=\"1\" class=\"dataframe\">\n",
              "  <thead>\n",
              "    <tr style=\"text-align: right;\">\n",
              "      <th></th>\n",
              "      <th>order_id</th>\n",
              "      <th>customer_id</th>\n",
              "      <th>order_date</th>\n",
              "      <th>product_id</th>\n",
              "      <th>product_name</th>\n",
              "      <th>category</th>\n",
              "      <th>price</th>\n",
              "      <th>quantity</th>\n",
              "      <th>weight</th>\n",
              "      <th>discount</th>\n",
              "      <th>shipping_cost</th>\n",
              "      <th>payment_method</th>\n",
              "      <th>delivery_status</th>\n",
              "      <th>customer_city</th>\n",
              "      <th>customer_state</th>\n",
              "      <th>customer_country</th>\n",
              "      <th>return_requested</th>\n",
              "      <th>review_score</th>\n",
              "      <th>days_to_deliver</th>\n",
              "    </tr>\n",
              "  </thead>\n",
              "  <tbody>\n",
              "    <tr>\n",
              "      <th>0</th>\n",
              "      <td>1001</td>\n",
              "      <td>C101</td>\n",
              "      <td>2023-01-15</td>\n",
              "      <td>P001</td>\n",
              "      <td>Smartphone X</td>\n",
              "      <td>Electronics</td>\n",
              "      <td>599.99</td>\n",
              "      <td>1</td>\n",
              "      <td>0.5kg</td>\n",
              "      <td>0.10</td>\n",
              "      <td>5.99</td>\n",
              "      <td>Credit Card</td>\n",
              "      <td>Delivered</td>\n",
              "      <td>New York</td>\n",
              "      <td>NY</td>\n",
              "      <td>USA</td>\n",
              "      <td>0</td>\n",
              "      <td>5.0</td>\n",
              "      <td>3.0</td>\n",
              "    </tr>\n",
              "    <tr>\n",
              "      <th>1</th>\n",
              "      <td>1002</td>\n",
              "      <td>C102</td>\n",
              "      <td>2023-01-16</td>\n",
              "      <td>P002</td>\n",
              "      <td>Laptop Pro</td>\n",
              "      <td>Electronics</td>\n",
              "      <td>1299.99</td>\n",
              "      <td>1</td>\n",
              "      <td>2.2kg</td>\n",
              "      <td>0.15</td>\n",
              "      <td>12.99</td>\n",
              "      <td>paypal</td>\n",
              "      <td>Delivered</td>\n",
              "      <td>los angeles</td>\n",
              "      <td>CA</td>\n",
              "      <td>USA</td>\n",
              "      <td>1</td>\n",
              "      <td>4.0</td>\n",
              "      <td>5.0</td>\n",
              "    </tr>\n",
              "    <tr>\n",
              "      <th>2</th>\n",
              "      <td>1003</td>\n",
              "      <td>C103</td>\n",
              "      <td>2023-01-17</td>\n",
              "      <td>P003</td>\n",
              "      <td>Wireless Earbuds</td>\n",
              "      <td>Electronics</td>\n",
              "      <td>79.99</td>\n",
              "      <td>2</td>\n",
              "      <td>0.1kg</td>\n",
              "      <td>0.00</td>\n",
              "      <td>NaN</td>\n",
              "      <td>Credit Card</td>\n",
              "      <td>Shipped</td>\n",
              "      <td>Chicago</td>\n",
              "      <td>IL</td>\n",
              "      <td>USA</td>\n",
              "      <td>0</td>\n",
              "      <td>NaN</td>\n",
              "      <td>NaN</td>\n",
              "    </tr>\n",
              "    <tr>\n",
              "      <th>3</th>\n",
              "      <td>1004</td>\n",
              "      <td>C104</td>\n",
              "      <td>2023-01-18</td>\n",
              "      <td>P004</td>\n",
              "      <td>Smart Watch</td>\n",
              "      <td>Electronics</td>\n",
              "      <td>199.99</td>\n",
              "      <td>1</td>\n",
              "      <td>0.3kg</td>\n",
              "      <td>0.05</td>\n",
              "      <td>4.99</td>\n",
              "      <td>debit</td>\n",
              "      <td>Delivered</td>\n",
              "      <td>Houston</td>\n",
              "      <td>TX</td>\n",
              "      <td>USA</td>\n",
              "      <td>0</td>\n",
              "      <td>5.0</td>\n",
              "      <td>4.0</td>\n",
              "    </tr>\n",
              "    <tr>\n",
              "      <th>4</th>\n",
              "      <td>1005</td>\n",
              "      <td>C105</td>\n",
              "      <td>2023-01-19</td>\n",
              "      <td>P005</td>\n",
              "      <td>Tablet Mini</td>\n",
              "      <td>Electronics</td>\n",
              "      <td>299.99</td>\n",
              "      <td>1</td>\n",
              "      <td>0.7kg</td>\n",
              "      <td>NaN</td>\n",
              "      <td>6.99</td>\n",
              "      <td>credit</td>\n",
              "      <td>Processing</td>\n",
              "      <td>PHOENIX</td>\n",
              "      <td>AZ</td>\n",
              "      <td>USA</td>\n",
              "      <td>1</td>\n",
              "      <td>2.0</td>\n",
              "      <td>NaN</td>\n",
              "    </tr>\n",
              "  </tbody>\n",
              "</table>\n",
              "</div>\n",
              "    <div class=\"colab-df-buttons\">\n",
              "\n",
              "  <div class=\"colab-df-container\">\n",
              "    <button class=\"colab-df-convert\" onclick=\"convertToInteractive('df-c12829ea-5c70-4bad-be3b-025240200cbc')\"\n",
              "            title=\"Convert this dataframe to an interactive table.\"\n",
              "            style=\"display:none;\">\n",
              "\n",
              "  <svg xmlns=\"http://www.w3.org/2000/svg\" height=\"24px\" viewBox=\"0 -960 960 960\">\n",
              "    <path d=\"M120-120v-720h720v720H120Zm60-500h600v-160H180v160Zm220 220h160v-160H400v160Zm0 220h160v-160H400v160ZM180-400h160v-160H180v160Zm440 0h160v-160H620v160ZM180-180h160v-160H180v160Zm440 0h160v-160H620v160Z\"/>\n",
              "  </svg>\n",
              "    </button>\n",
              "\n",
              "  <style>\n",
              "    .colab-df-container {\n",
              "      display:flex;\n",
              "      gap: 12px;\n",
              "    }\n",
              "\n",
              "    .colab-df-convert {\n",
              "      background-color: #E8F0FE;\n",
              "      border: none;\n",
              "      border-radius: 50%;\n",
              "      cursor: pointer;\n",
              "      display: none;\n",
              "      fill: #1967D2;\n",
              "      height: 32px;\n",
              "      padding: 0 0 0 0;\n",
              "      width: 32px;\n",
              "    }\n",
              "\n",
              "    .colab-df-convert:hover {\n",
              "      background-color: #E2EBFA;\n",
              "      box-shadow: 0px 1px 2px rgba(60, 64, 67, 0.3), 0px 1px 3px 1px rgba(60, 64, 67, 0.15);\n",
              "      fill: #174EA6;\n",
              "    }\n",
              "\n",
              "    .colab-df-buttons div {\n",
              "      margin-bottom: 4px;\n",
              "    }\n",
              "\n",
              "    [theme=dark] .colab-df-convert {\n",
              "      background-color: #3B4455;\n",
              "      fill: #D2E3FC;\n",
              "    }\n",
              "\n",
              "    [theme=dark] .colab-df-convert:hover {\n",
              "      background-color: #434B5C;\n",
              "      box-shadow: 0px 1px 3px 1px rgba(0, 0, 0, 0.15);\n",
              "      filter: drop-shadow(0px 1px 2px rgba(0, 0, 0, 0.3));\n",
              "      fill: #FFFFFF;\n",
              "    }\n",
              "  </style>\n",
              "\n",
              "    <script>\n",
              "      const buttonEl =\n",
              "        document.querySelector('#df-c12829ea-5c70-4bad-be3b-025240200cbc button.colab-df-convert');\n",
              "      buttonEl.style.display =\n",
              "        google.colab.kernel.accessAllowed ? 'block' : 'none';\n",
              "\n",
              "      async function convertToInteractive(key) {\n",
              "        const element = document.querySelector('#df-c12829ea-5c70-4bad-be3b-025240200cbc');\n",
              "        const dataTable =\n",
              "          await google.colab.kernel.invokeFunction('convertToInteractive',\n",
              "                                                    [key], {});\n",
              "        if (!dataTable) return;\n",
              "\n",
              "        const docLinkHtml = 'Like what you see? Visit the ' +\n",
              "          '<a target=\"_blank\" href=https://colab.research.google.com/notebooks/data_table.ipynb>data table notebook</a>'\n",
              "          + ' to learn more about interactive tables.';\n",
              "        element.innerHTML = '';\n",
              "        dataTable['output_type'] = 'display_data';\n",
              "        await google.colab.output.renderOutput(dataTable, element);\n",
              "        const docLink = document.createElement('div');\n",
              "        docLink.innerHTML = docLinkHtml;\n",
              "        element.appendChild(docLink);\n",
              "      }\n",
              "    </script>\n",
              "  </div>\n",
              "\n",
              "\n",
              "    <div id=\"df-30225ea4-e3e5-463b-8253-a663932c40ef\">\n",
              "      <button class=\"colab-df-quickchart\" onclick=\"quickchart('df-30225ea4-e3e5-463b-8253-a663932c40ef')\"\n",
              "                title=\"Suggest charts\"\n",
              "                style=\"display:none;\">\n",
              "\n",
              "<svg xmlns=\"http://www.w3.org/2000/svg\" height=\"24px\"viewBox=\"0 0 24 24\"\n",
              "     width=\"24px\">\n",
              "    <g>\n",
              "        <path d=\"M19 3H5c-1.1 0-2 .9-2 2v14c0 1.1.9 2 2 2h14c1.1 0 2-.9 2-2V5c0-1.1-.9-2-2-2zM9 17H7v-7h2v7zm4 0h-2V7h2v10zm4 0h-2v-4h2v4z\"/>\n",
              "    </g>\n",
              "</svg>\n",
              "      </button>\n",
              "\n",
              "<style>\n",
              "  .colab-df-quickchart {\n",
              "      --bg-color: #E8F0FE;\n",
              "      --fill-color: #1967D2;\n",
              "      --hover-bg-color: #E2EBFA;\n",
              "      --hover-fill-color: #174EA6;\n",
              "      --disabled-fill-color: #AAA;\n",
              "      --disabled-bg-color: #DDD;\n",
              "  }\n",
              "\n",
              "  [theme=dark] .colab-df-quickchart {\n",
              "      --bg-color: #3B4455;\n",
              "      --fill-color: #D2E3FC;\n",
              "      --hover-bg-color: #434B5C;\n",
              "      --hover-fill-color: #FFFFFF;\n",
              "      --disabled-bg-color: #3B4455;\n",
              "      --disabled-fill-color: #666;\n",
              "  }\n",
              "\n",
              "  .colab-df-quickchart {\n",
              "    background-color: var(--bg-color);\n",
              "    border: none;\n",
              "    border-radius: 50%;\n",
              "    cursor: pointer;\n",
              "    display: none;\n",
              "    fill: var(--fill-color);\n",
              "    height: 32px;\n",
              "    padding: 0;\n",
              "    width: 32px;\n",
              "  }\n",
              "\n",
              "  .colab-df-quickchart:hover {\n",
              "    background-color: var(--hover-bg-color);\n",
              "    box-shadow: 0 1px 2px rgba(60, 64, 67, 0.3), 0 1px 3px 1px rgba(60, 64, 67, 0.15);\n",
              "    fill: var(--button-hover-fill-color);\n",
              "  }\n",
              "\n",
              "  .colab-df-quickchart-complete:disabled,\n",
              "  .colab-df-quickchart-complete:disabled:hover {\n",
              "    background-color: var(--disabled-bg-color);\n",
              "    fill: var(--disabled-fill-color);\n",
              "    box-shadow: none;\n",
              "  }\n",
              "\n",
              "  .colab-df-spinner {\n",
              "    border: 2px solid var(--fill-color);\n",
              "    border-color: transparent;\n",
              "    border-bottom-color: var(--fill-color);\n",
              "    animation:\n",
              "      spin 1s steps(1) infinite;\n",
              "  }\n",
              "\n",
              "  @keyframes spin {\n",
              "    0% {\n",
              "      border-color: transparent;\n",
              "      border-bottom-color: var(--fill-color);\n",
              "      border-left-color: var(--fill-color);\n",
              "    }\n",
              "    20% {\n",
              "      border-color: transparent;\n",
              "      border-left-color: var(--fill-color);\n",
              "      border-top-color: var(--fill-color);\n",
              "    }\n",
              "    30% {\n",
              "      border-color: transparent;\n",
              "      border-left-color: var(--fill-color);\n",
              "      border-top-color: var(--fill-color);\n",
              "      border-right-color: var(--fill-color);\n",
              "    }\n",
              "    40% {\n",
              "      border-color: transparent;\n",
              "      border-right-color: var(--fill-color);\n",
              "      border-top-color: var(--fill-color);\n",
              "    }\n",
              "    60% {\n",
              "      border-color: transparent;\n",
              "      border-right-color: var(--fill-color);\n",
              "    }\n",
              "    80% {\n",
              "      border-color: transparent;\n",
              "      border-right-color: var(--fill-color);\n",
              "      border-bottom-color: var(--fill-color);\n",
              "    }\n",
              "    90% {\n",
              "      border-color: transparent;\n",
              "      border-bottom-color: var(--fill-color);\n",
              "    }\n",
              "  }\n",
              "</style>\n",
              "\n",
              "      <script>\n",
              "        async function quickchart(key) {\n",
              "          const quickchartButtonEl =\n",
              "            document.querySelector('#' + key + ' button');\n",
              "          quickchartButtonEl.disabled = true;  // To prevent multiple clicks.\n",
              "          quickchartButtonEl.classList.add('colab-df-spinner');\n",
              "          try {\n",
              "            const charts = await google.colab.kernel.invokeFunction(\n",
              "                'suggestCharts', [key], {});\n",
              "          } catch (error) {\n",
              "            console.error('Error during call to suggestCharts:', error);\n",
              "          }\n",
              "          quickchartButtonEl.classList.remove('colab-df-spinner');\n",
              "          quickchartButtonEl.classList.add('colab-df-quickchart-complete');\n",
              "        }\n",
              "        (() => {\n",
              "          let quickchartButtonEl =\n",
              "            document.querySelector('#df-30225ea4-e3e5-463b-8253-a663932c40ef button');\n",
              "          quickchartButtonEl.style.display =\n",
              "            google.colab.kernel.accessAllowed ? 'block' : 'none';\n",
              "        })();\n",
              "      </script>\n",
              "    </div>\n",
              "\n",
              "    </div>\n",
              "  </div>\n"
            ],
            "application/vnd.google.colaboratory.intrinsic+json": {
              "type": "dataframe",
              "variable_name": "df",
              "summary": "{\n  \"name\": \"df\",\n  \"rows\": 40,\n  \"fields\": [\n    {\n      \"column\": \"order_id\",\n      \"properties\": {\n        \"dtype\": \"number\",\n        \"std\": 156,\n        \"min\": 1001,\n        \"max\": 2006,\n        \"num_unique_values\": 31,\n        \"samples\": [\n          1028,\n          1016,\n          1024\n        ],\n        \"semantic_type\": \"\",\n        \"description\": \"\"\n      }\n    },\n    {\n      \"column\": \"customer_id\",\n      \"properties\": {\n        \"dtype\": \"string\",\n        \"num_unique_values\": 29,\n        \"samples\": [\n          \"C129\",\n          \"C117\",\n          \"C113\"\n        ],\n        \"semantic_type\": \"\",\n        \"description\": \"\"\n      }\n    },\n    {\n      \"column\": \"order_date\",\n      \"properties\": {\n        \"dtype\": \"object\",\n        \"num_unique_values\": 30,\n        \"samples\": [\n          \"2023-02-11\",\n          \"2023-01-30\",\n          \"2023-02-07\"\n        ],\n        \"semantic_type\": \"\",\n        \"description\": \"\"\n      }\n    },\n    {\n      \"column\": \"product_id\",\n      \"properties\": {\n        \"dtype\": \"string\",\n        \"num_unique_values\": 29,\n        \"samples\": [\n          \"P029\",\n          \"P017\",\n          \"P013\"\n        ],\n        \"semantic_type\": \"\",\n        \"description\": \"\"\n      }\n    },\n    {\n      \"column\": \"product_name\",\n      \"properties\": {\n        \"dtype\": \"string\",\n        \"num_unique_values\": 29,\n        \"samples\": [\n          \"VR Headset\",\n          \"Projector\",\n          \"Wireless Mouse\"\n        ],\n        \"semantic_type\": \"\",\n        \"description\": \"\"\n      }\n    },\n    {\n      \"column\": \"category\",\n      \"properties\": {\n        \"dtype\": \"category\",\n        \"num_unique_values\": 2,\n        \"samples\": [\n          \"Smart Home\",\n          \"Electronics\"\n        ],\n        \"semantic_type\": \"\",\n        \"description\": \"\"\n      }\n    },\n    {\n      \"column\": \"price\",\n      \"properties\": {\n        \"dtype\": \"number\",\n        \"std\": 273.0689485112243,\n        \"min\": 24.99,\n        \"max\": 1299.99,\n        \"num_unique_values\": 21,\n        \"samples\": [\n          599.99,\n          69.99\n        ],\n        \"semantic_type\": \"\",\n        \"description\": \"\"\n      }\n    },\n    {\n      \"column\": \"quantity\",\n      \"properties\": {\n        \"dtype\": \"number\",\n        \"std\": 0,\n        \"min\": 1,\n        \"max\": 4,\n        \"num_unique_values\": 4,\n        \"samples\": [\n          2,\n          4\n        ],\n        \"semantic_type\": \"\",\n        \"description\": \"\"\n      }\n    },\n    {\n      \"column\": \"weight\",\n      \"properties\": {\n        \"dtype\": \"category\",\n        \"num_unique_values\": 19,\n        \"samples\": [\n          \"0.5kg\",\n          \"1.1lbs\"\n        ],\n        \"semantic_type\": \"\",\n        \"description\": \"\"\n      }\n    },\n    {\n      \"column\": \"discount\",\n      \"properties\": {\n        \"dtype\": \"number\",\n        \"std\": 0.07371984389983056,\n        \"min\": 0.0,\n        \"max\": 0.25,\n        \"num_unique_values\": 6,\n        \"samples\": [\n          0.1,\n          0.15\n        ],\n        \"semantic_type\": \"\",\n        \"description\": \"\"\n      }\n    },\n    {\n      \"column\": \"shipping_cost\",\n      \"properties\": {\n        \"dtype\": \"number\",\n        \"std\": 5.005054916046744,\n        \"min\": 2.99,\n        \"max\": 19.99,\n        \"num_unique_values\": 11,\n        \"samples\": [\n          3.49,\n          5.99\n        ],\n        \"semantic_type\": \"\",\n        \"description\": \"\"\n      }\n    },\n    {\n      \"column\": \"payment_method\",\n      \"properties\": {\n        \"dtype\": \"category\",\n        \"num_unique_values\": 7,\n        \"samples\": [\n          \"Credit Card\",\n          \"paypal\"\n        ],\n        \"semantic_type\": \"\",\n        \"description\": \"\"\n      }\n    },\n    {\n      \"column\": \"delivery_status\",\n      \"properties\": {\n        \"dtype\": \"category\",\n        \"num_unique_values\": 6,\n        \"samples\": [\n          \"Delivered\",\n          \"Shipped\"\n        ],\n        \"semantic_type\": \"\",\n        \"description\": \"\"\n      }\n    },\n    {\n      \"column\": \"customer_city\",\n      \"properties\": {\n        \"dtype\": \"string\",\n        \"num_unique_values\": 30,\n        \"samples\": [\n          \"Oklahoma City\",\n          \"San Francisco\"\n        ],\n        \"semantic_type\": \"\",\n        \"description\": \"\"\n      }\n    },\n    {\n      \"column\": \"customer_state\",\n      \"properties\": {\n        \"dtype\": \"string\",\n        \"num_unique_values\": 20,\n        \"samples\": [\n          \"NY\",\n          \"OK\"\n        ],\n        \"semantic_type\": \"\",\n        \"description\": \"\"\n      }\n    },\n    {\n      \"column\": \"customer_country\",\n      \"properties\": {\n        \"dtype\": \"category\",\n        \"num_unique_values\": 3,\n        \"samples\": [\n          \"USA\",\n          \"U.S.A\"\n        ],\n        \"semantic_type\": \"\",\n        \"description\": \"\"\n      }\n    },\n    {\n      \"column\": \"return_requested\",\n      \"properties\": {\n        \"dtype\": \"number\",\n        \"std\": 0,\n        \"min\": 0,\n        \"max\": 1,\n        \"num_unique_values\": 2,\n        \"samples\": [\n          1,\n          0\n        ],\n        \"semantic_type\": \"\",\n        \"description\": \"\"\n      }\n    },\n    {\n      \"column\": \"review_score\",\n      \"properties\": {\n        \"dtype\": \"number\",\n        \"std\": 1.1024994234297238,\n        \"min\": 1.0,\n        \"max\": 5.0,\n        \"num_unique_values\": 5,\n        \"samples\": [\n          4.0,\n          1.0\n        ],\n        \"semantic_type\": \"\",\n        \"description\": \"\"\n      }\n    },\n    {\n      \"column\": \"days_to_deliver\",\n      \"properties\": {\n        \"dtype\": \"number\",\n        \"std\": 1.0235326314383177,\n        \"min\": 3.0,\n        \"max\": 6.0,\n        \"num_unique_values\": 4,\n        \"samples\": [\n          5.0,\n          6.0\n        ],\n        \"semantic_type\": \"\",\n        \"description\": \"\"\n      }\n    }\n  ]\n}"
            }
          },
          "metadata": {},
          "execution_count": 2
        }
      ],
      "source": [
        "import pandas as pd\n",
        "\n",
        "df = pd.read_csv('https://raw.githubusercontent.com/cpython-projects/E1402/refs/heads/main/session_03_part_3.csv')\n",
        "df.head()"
      ]
    },
    {
      "cell_type": "markdown",
      "source": [
        "### Handle Duplicates"
      ],
      "metadata": {
        "id": "hA08gS1vGMBb"
      }
    },
    {
      "cell_type": "markdown",
      "source": [
        "**Checking for Exact Duplicates**"
      ],
      "metadata": {
        "id": "xjy0b7b1GZNy"
      }
    },
    {
      "cell_type": "code",
      "source": [],
      "metadata": {
        "id": "mBN3RvN0CnqU"
      },
      "execution_count": null,
      "outputs": []
    },
    {
      "cell_type": "markdown",
      "source": [
        "**df.drop_duplicates()**"
      ],
      "metadata": {
        "id": "dE0xOUtbIvPD"
      }
    },
    {
      "cell_type": "code",
      "source": [],
      "metadata": {
        "id": "aJ3mHykYCoUG"
      },
      "execution_count": null,
      "outputs": []
    },
    {
      "cell_type": "markdown",
      "source": [
        "### Handling Incorrect Formats"
      ],
      "metadata": {
        "id": "yKApQYsM_ZxS"
      }
    },
    {
      "cell_type": "markdown",
      "source": [
        "**Numeric data stored as strings**"
      ],
      "metadata": {
        "id": "xxpI33rQ_eUN"
      }
    },
    {
      "cell_type": "code",
      "source": [],
      "metadata": {
        "id": "u6H56ccpDCXZ"
      },
      "execution_count": null,
      "outputs": []
    },
    {
      "cell_type": "markdown",
      "source": [
        "**Dates stored as strings**"
      ],
      "metadata": {
        "id": "HDRkTehbBJAA"
      }
    },
    {
      "cell_type": "code",
      "source": [],
      "metadata": {
        "id": "ZRTS_z0jDDAW"
      },
      "execution_count": null,
      "outputs": []
    },
    {
      "cell_type": "markdown",
      "source": [
        "**Categorical data stored as strings/numbers**"
      ],
      "metadata": {
        "id": "aG-6JEpLC6eQ"
      }
    },
    {
      "cell_type": "code",
      "source": [],
      "metadata": {
        "id": "tZFLxmBBDDkY"
      },
      "execution_count": null,
      "outputs": []
    },
    {
      "cell_type": "markdown",
      "source": [
        "### Handling Common Inconsistencies"
      ],
      "metadata": {
        "id": "jPbKSnpODLLV"
      }
    },
    {
      "cell_type": "markdown",
      "source": [
        "**Text: Mixed cases and extra spaces**"
      ],
      "metadata": {
        "id": "S5EbX3lmDNaM"
      }
    },
    {
      "cell_type": "code",
      "source": [],
      "metadata": {
        "id": "vcwydjgiDJro"
      },
      "execution_count": null,
      "outputs": []
    },
    {
      "cell_type": "markdown",
      "source": [
        "**Units: Inconsistent measurements**"
      ],
      "metadata": {
        "id": "B7W_G5chDc8g"
      }
    },
    {
      "cell_type": "code",
      "source": [],
      "metadata": {
        "id": "tIrxRjxiDKVZ"
      },
      "execution_count": null,
      "outputs": []
    },
    {
      "cell_type": "markdown",
      "source": [
        "**Categories: Different spellings**"
      ],
      "metadata": {
        "id": "Rcil3nKgEznn"
      }
    },
    {
      "cell_type": "code",
      "source": [],
      "metadata": {
        "id": "kbn_PvS9DK59"
      },
      "execution_count": null,
      "outputs": []
    },
    {
      "cell_type": "markdown",
      "source": [
        "### Handling Missing Values"
      ],
      "metadata": {
        "id": "k7PDeQ1t8p4l"
      }
    },
    {
      "cell_type": "code",
      "source": [],
      "metadata": {
        "id": "80IdZR4DTAH6"
      },
      "execution_count": null,
      "outputs": []
    },
    {
      "cell_type": "markdown",
      "source": [
        "### Handling Outliers"
      ],
      "metadata": {
        "id": "cjRaO05xF--i"
      }
    },
    {
      "cell_type": "code",
      "source": [],
      "metadata": {
        "id": "2hKr2nNlVMyU"
      },
      "execution_count": null,
      "outputs": []
    },
    {
      "cell_type": "markdown",
      "source": [
        "**Detecting outliers using Interquartile Range (IQR)**"
      ],
      "metadata": {
        "id": "EQ1dq2rMJ0XS"
      }
    },
    {
      "cell_type": "markdown",
      "source": [
        "### **1. Identifying the Most Profitable Products**  \n",
        "**Required Features:** `product_name`, `price`, `quantity`, `discount`  \n",
        "\n",
        "#### **Solution:**  \n",
        "- Calculate total revenue per product:  \n",
        "- After cleaning, the results will accurately show the top 5 most profitable products.  "
      ],
      "metadata": {
        "id": "uTkL_ugyhYU3"
      }
    },
    {
      "cell_type": "code",
      "source": [],
      "metadata": {
        "id": "IXWCy58uhZfa"
      },
      "execution_count": null,
      "outputs": []
    },
    {
      "cell_type": "markdown",
      "source": [
        "\n",
        "### **2. Analyzing Average Delivery Time by Country**  \n",
        "**Required Features:** `customer_country`, `days_to_deliver`  \n",
        "\n",
        "#### **Solution:**  \n",
        "- Calculate the average delivery time per country:  \n",
        "- This provides accurate estimates of delivery times across different countries."
      ],
      "metadata": {
        "id": "qOaoA4jvANuG"
      }
    },
    {
      "cell_type": "code",
      "source": [],
      "metadata": {
        "id": "pgGfsWnbVLOJ"
      },
      "execution_count": null,
      "outputs": []
    }
  ]
}