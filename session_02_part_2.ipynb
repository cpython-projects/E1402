{
  "cells": [
    {
      "cell_type": "markdown",
      "metadata": {
        "id": "view-in-github",
        "colab_type": "text"
      },
      "source": [
        "<a href=\"https://colab.research.google.com/github/cpython-projects/E1402/blob/main/session_02_part_2.ipynb\" target=\"_parent\"><img src=\"https://colab.research.google.com/assets/colab-badge.svg\" alt=\"Open In Colab\"/></a>"
      ]
    },
    {
      "cell_type": "code",
      "source": [
        "import pandas as pd\n",
        "from google.colab import files\n",
        "uploaded = files.upload()"
      ],
      "metadata": {
        "id": "OrEP821tiGoD",
        "outputId": "b6028045-896a-4cd6-c9d1-9e39bfd9df26",
        "colab": {
          "base_uri": "https://localhost:8080/",
          "height": 38
        }
      },
      "id": "OrEP821tiGoD",
      "execution_count": null,
      "outputs": [
        {
          "output_type": "display_data",
          "data": {
            "text/plain": [
              "<IPython.core.display.HTML object>"
            ],
            "text/html": [
              "\n",
              "     <input type=\"file\" id=\"files-2be51ca0-82de-44a6-adb8-dfa2989eef97\" name=\"files[]\" multiple disabled\n",
              "        style=\"border:none\" />\n",
              "     <output id=\"result-2be51ca0-82de-44a6-adb8-dfa2989eef97\">\n",
              "      Upload widget is only available when the cell has been executed in the\n",
              "      current browser session. Please rerun this cell to enable.\n",
              "      </output>\n",
              "      <script>// Copyright 2017 Google LLC\n",
              "//\n",
              "// Licensed under the Apache License, Version 2.0 (the \"License\");\n",
              "// you may not use this file except in compliance with the License.\n",
              "// You may obtain a copy of the License at\n",
              "//\n",
              "//      http://www.apache.org/licenses/LICENSE-2.0\n",
              "//\n",
              "// Unless required by applicable law or agreed to in writing, software\n",
              "// distributed under the License is distributed on an \"AS IS\" BASIS,\n",
              "// WITHOUT WARRANTIES OR CONDITIONS OF ANY KIND, either express or implied.\n",
              "// See the License for the specific language governing permissions and\n",
              "// limitations under the License.\n",
              "\n",
              "/**\n",
              " * @fileoverview Helpers for google.colab Python module.\n",
              " */\n",
              "(function(scope) {\n",
              "function span(text, styleAttributes = {}) {\n",
              "  const element = document.createElement('span');\n",
              "  element.textContent = text;\n",
              "  for (const key of Object.keys(styleAttributes)) {\n",
              "    element.style[key] = styleAttributes[key];\n",
              "  }\n",
              "  return element;\n",
              "}\n",
              "\n",
              "// Max number of bytes which will be uploaded at a time.\n",
              "const MAX_PAYLOAD_SIZE = 100 * 1024;\n",
              "\n",
              "function _uploadFiles(inputId, outputId) {\n",
              "  const steps = uploadFilesStep(inputId, outputId);\n",
              "  const outputElement = document.getElementById(outputId);\n",
              "  // Cache steps on the outputElement to make it available for the next call\n",
              "  // to uploadFilesContinue from Python.\n",
              "  outputElement.steps = steps;\n",
              "\n",
              "  return _uploadFilesContinue(outputId);\n",
              "}\n",
              "\n",
              "// This is roughly an async generator (not supported in the browser yet),\n",
              "// where there are multiple asynchronous steps and the Python side is going\n",
              "// to poll for completion of each step.\n",
              "// This uses a Promise to block the python side on completion of each step,\n",
              "// then passes the result of the previous step as the input to the next step.\n",
              "function _uploadFilesContinue(outputId) {\n",
              "  const outputElement = document.getElementById(outputId);\n",
              "  const steps = outputElement.steps;\n",
              "\n",
              "  const next = steps.next(outputElement.lastPromiseValue);\n",
              "  return Promise.resolve(next.value.promise).then((value) => {\n",
              "    // Cache the last promise value to make it available to the next\n",
              "    // step of the generator.\n",
              "    outputElement.lastPromiseValue = value;\n",
              "    return next.value.response;\n",
              "  });\n",
              "}\n",
              "\n",
              "/**\n",
              " * Generator function which is called between each async step of the upload\n",
              " * process.\n",
              " * @param {string} inputId Element ID of the input file picker element.\n",
              " * @param {string} outputId Element ID of the output display.\n",
              " * @return {!Iterable<!Object>} Iterable of next steps.\n",
              " */\n",
              "function* uploadFilesStep(inputId, outputId) {\n",
              "  const inputElement = document.getElementById(inputId);\n",
              "  inputElement.disabled = false;\n",
              "\n",
              "  const outputElement = document.getElementById(outputId);\n",
              "  outputElement.innerHTML = '';\n",
              "\n",
              "  const pickedPromise = new Promise((resolve) => {\n",
              "    inputElement.addEventListener('change', (e) => {\n",
              "      resolve(e.target.files);\n",
              "    });\n",
              "  });\n",
              "\n",
              "  const cancel = document.createElement('button');\n",
              "  inputElement.parentElement.appendChild(cancel);\n",
              "  cancel.textContent = 'Cancel upload';\n",
              "  const cancelPromise = new Promise((resolve) => {\n",
              "    cancel.onclick = () => {\n",
              "      resolve(null);\n",
              "    };\n",
              "  });\n",
              "\n",
              "  // Wait for the user to pick the files.\n",
              "  const files = yield {\n",
              "    promise: Promise.race([pickedPromise, cancelPromise]),\n",
              "    response: {\n",
              "      action: 'starting',\n",
              "    }\n",
              "  };\n",
              "\n",
              "  cancel.remove();\n",
              "\n",
              "  // Disable the input element since further picks are not allowed.\n",
              "  inputElement.disabled = true;\n",
              "\n",
              "  if (!files) {\n",
              "    return {\n",
              "      response: {\n",
              "        action: 'complete',\n",
              "      }\n",
              "    };\n",
              "  }\n",
              "\n",
              "  for (const file of files) {\n",
              "    const li = document.createElement('li');\n",
              "    li.append(span(file.name, {fontWeight: 'bold'}));\n",
              "    li.append(span(\n",
              "        `(${file.type || 'n/a'}) - ${file.size} bytes, ` +\n",
              "        `last modified: ${\n",
              "            file.lastModifiedDate ? file.lastModifiedDate.toLocaleDateString() :\n",
              "                                    'n/a'} - `));\n",
              "    const percent = span('0% done');\n",
              "    li.appendChild(percent);\n",
              "\n",
              "    outputElement.appendChild(li);\n",
              "\n",
              "    const fileDataPromise = new Promise((resolve) => {\n",
              "      const reader = new FileReader();\n",
              "      reader.onload = (e) => {\n",
              "        resolve(e.target.result);\n",
              "      };\n",
              "      reader.readAsArrayBuffer(file);\n",
              "    });\n",
              "    // Wait for the data to be ready.\n",
              "    let fileData = yield {\n",
              "      promise: fileDataPromise,\n",
              "      response: {\n",
              "        action: 'continue',\n",
              "      }\n",
              "    };\n",
              "\n",
              "    // Use a chunked sending to avoid message size limits. See b/62115660.\n",
              "    let position = 0;\n",
              "    do {\n",
              "      const length = Math.min(fileData.byteLength - position, MAX_PAYLOAD_SIZE);\n",
              "      const chunk = new Uint8Array(fileData, position, length);\n",
              "      position += length;\n",
              "\n",
              "      const base64 = btoa(String.fromCharCode.apply(null, chunk));\n",
              "      yield {\n",
              "        response: {\n",
              "          action: 'append',\n",
              "          file: file.name,\n",
              "          data: base64,\n",
              "        },\n",
              "      };\n",
              "\n",
              "      let percentDone = fileData.byteLength === 0 ?\n",
              "          100 :\n",
              "          Math.round((position / fileData.byteLength) * 100);\n",
              "      percent.textContent = `${percentDone}% done`;\n",
              "\n",
              "    } while (position < fileData.byteLength);\n",
              "  }\n",
              "\n",
              "  // All done.\n",
              "  yield {\n",
              "    response: {\n",
              "      action: 'complete',\n",
              "    }\n",
              "  };\n",
              "}\n",
              "\n",
              "scope.google = scope.google || {};\n",
              "scope.google.colab = scope.google.colab || {};\n",
              "scope.google.colab._files = {\n",
              "  _uploadFiles,\n",
              "  _uploadFilesContinue,\n",
              "};\n",
              "})(self);\n",
              "</script> "
            ]
          },
          "metadata": {}
        }
      ]
    },
    {
      "cell_type": "markdown",
      "id": "2e1a932d-0127-4244-b354-54f47d0383e6",
      "metadata": {
        "id": "2e1a932d-0127-4244-b354-54f47d0383e6"
      },
      "source": [
        "### 1. Reading Data from CSV with Specific Features\n",
        "When reading CSV files, we often need to handle special cases:\n",
        "- Different delimiters (here we use ';')\n",
        "- Potential encoding issues\n",
        "- Handling of missing values\n",
        "- Parsing dates correctly"
      ]
    },
    {
      "cell_type": "code",
      "execution_count": null,
      "id": "7116fb06-4285-4f25-91f0-d959e60c51f0",
      "metadata": {
        "id": "7116fb06-4285-4f25-91f0-d959e60c51f0"
      },
      "outputs": [],
      "source": [
        "df = pd.read_csv('session_02_data_practice.csv', delimiter=';', parse_dates=['Creation Date', 'Date when pay'])"
      ]
    },
    {
      "cell_type": "markdown",
      "id": "b06ef571-b74f-46f2-84d0-b1768a6e614c",
      "metadata": {
        "id": "b06ef571-b74f-46f2-84d0-b1768a6e614c"
      },
      "source": [
        "**Note: The parse_dates parameter attempts to convert specified columns to datetime objects**  \n",
        "This is especially useful for time series analysis"
      ]
    },
    {
      "cell_type": "markdown",
      "id": "9338cb59-8345-4e8e-95ec-37577530947e",
      "metadata": {
        "id": "9338cb59-8345-4e8e-95ec-37577530947e"
      },
      "source": [
        "### 2. Initial Data Exploration\n",
        "Understanding your data is the first critical step in any analysis"
      ]
    },
    {
      "cell_type": "markdown",
      "id": "ee43bd9c-2733-4c79-a0f6-d1ab738dc188",
      "metadata": {
        "id": "ee43bd9c-2733-4c79-a0f6-d1ab738dc188"
      },
      "source": [
        "**View first 5 rows to get a quick look at the data structure**"
      ]
    },
    {
      "cell_type": "code",
      "execution_count": null,
      "id": "f0e97b11-6f08-4a49-b879-32b48a97cea0",
      "metadata": {
        "id": "f0e97b11-6f08-4a49-b879-32b48a97cea0"
      },
      "outputs": [],
      "source": []
    },
    {
      "cell_type": "markdown",
      "id": "bcee20bc-9b7c-4aa2-a3b7-feae6d15c64f",
      "metadata": {
        "id": "bcee20bc-9b7c-4aa2-a3b7-feae6d15c64f"
      },
      "source": [
        "**View last 5 rows to check if data is consistent throughout**"
      ]
    },
    {
      "cell_type": "code",
      "execution_count": 1,
      "id": "7e4e1179-1adc-4b6e-919d-44e1ba923d01",
      "metadata": {
        "id": "7e4e1179-1adc-4b6e-919d-44e1ba923d01"
      },
      "outputs": [],
      "source": []
    },
    {
      "cell_type": "markdown",
      "id": "1114d7b2-1859-45cf-a8ba-d43847881adf",
      "metadata": {
        "id": "1114d7b2-1859-45cf-a8ba-d43847881adf"
      },
      "source": [
        "**Get basic information about the DataFrame:**\n",
        "- Number of non-null entries per column\n",
        "- Data types of each column\n",
        "- Memory usage"
      ]
    },
    {
      "cell_type": "code",
      "execution_count": 1,
      "id": "93956bc0-0fbe-43eb-8d28-52853091762b",
      "metadata": {
        "id": "93956bc0-0fbe-43eb-8d28-52853091762b"
      },
      "outputs": [],
      "source": []
    },
    {
      "cell_type": "markdown",
      "id": "9632ab52-8d41-47fd-ac50-865dd084c138",
      "metadata": {
        "id": "9632ab52-8d41-47fd-ac50-865dd084c138"
      },
      "source": [
        "**Generate descriptive statistics for numeric columns:**\n",
        "- Count, mean, std, min, quartiles, max"
      ]
    },
    {
      "cell_type": "code",
      "execution_count": 1,
      "id": "3ef5e891-a355-4b00-b7bb-599dc2e48bf2",
      "metadata": {
        "id": "3ef5e891-a355-4b00-b7bb-599dc2e48bf2"
      },
      "outputs": [],
      "source": []
    },
    {
      "cell_type": "markdown",
      "id": "28a5bc33-dc84-4531-9d1c-f4f4489c8ff5",
      "metadata": {
        "id": "28a5bc33-dc84-4531-9d1c-f4f4489c8ff5"
      },
      "source": [
        "**Get DataFrame dimensions (rows, columns)**"
      ]
    },
    {
      "cell_type": "code",
      "execution_count": 1,
      "id": "fd07f16a-e41d-4906-9a33-c65849ff4e34",
      "metadata": {
        "id": "fd07f16a-e41d-4906-9a33-c65849ff4e34"
      },
      "outputs": [],
      "source": []
    },
    {
      "cell_type": "markdown",
      "id": "89568866-f800-4db1-bfc6-bd11dbe95131",
      "metadata": {
        "id": "89568866-f800-4db1-bfc6-bd11dbe95131"
      },
      "source": [
        "**View column names (important for referencing columns correctly)**"
      ]
    },
    {
      "cell_type": "code",
      "execution_count": 1,
      "id": "e61167e6-4592-4d3d-a17a-421e56c93b15",
      "metadata": {
        "id": "e61167e6-4592-4d3d-a17a-421e56c93b15"
      },
      "outputs": [],
      "source": []
    },
    {
      "cell_type": "code",
      "execution_count": 1,
      "id": "9f20b3b0-fbcb-4a68-a59d-20ef8f2adc4b",
      "metadata": {
        "id": "9f20b3b0-fbcb-4a68-a59d-20ef8f2adc4b"
      },
      "outputs": [],
      "source": []
    },
    {
      "cell_type": "markdown",
      "id": "b4bf8e1a-f2c5-4c77-8e91-5c5767356641",
      "metadata": {
        "id": "b4bf8e1a-f2c5-4c77-8e91-5c5767356641"
      },
      "source": [
        "**Initial observations we might make:**\n",
        "- Mixed data types (numeric, text, dates)\n",
        "- Some columns have missing values (like 'Date when pay')\n",
        "- Potential data quality issues (spaces in city names, inconsistent capitalization)\n",
        "- Numeric columns like 'Money amount' have wide ranges"
      ]
    },
    {
      "cell_type": "markdown",
      "id": "f5cab097-c6e3-4996-9561-46e044ccfea5",
      "metadata": {
        "id": "f5cab097-c6e3-4996-9561-46e044ccfea5"
      },
      "source": [
        "### 3. Renaming Columns\n",
        "**Column renaming is important for:**\n",
        "- Consistency (standard naming conventions)\n",
        "- Readability (clear, descriptive names)\n",
        "- Ease of use (avoid spaces/special characters in names)"
      ]
    },
    {
      "cell_type": "code",
      "execution_count": 1,
      "id": "d47ae0c0-21bf-48c6-936a-5303830e213a",
      "metadata": {
        "id": "d47ae0c0-21bf-48c6-936a-5303830e213a"
      },
      "outputs": [],
      "source": []
    },
    {
      "cell_type": "markdown",
      "id": "1e94de9a-d9d6-475e-bfeb-a344521d316b",
      "metadata": {
        "id": "1e94de9a-d9d6-475e-bfeb-a344521d316b"
      },
      "source": [
        "**Verify the changes**"
      ]
    },
    {
      "cell_type": "code",
      "execution_count": 1,
      "id": "65e6aeb6-55e8-4f32-abc1-4a683ca70b07",
      "metadata": {
        "id": "65e6aeb6-55e8-4f32-abc1-4a683ca70b07"
      },
      "outputs": [],
      "source": []
    },
    {
      "cell_type": "code",
      "source": [],
      "metadata": {
        "id": "xFTOn_gKrMhj"
      },
      "id": "xFTOn_gKrMhj",
      "execution_count": 1,
      "outputs": []
    },
    {
      "cell_type": "markdown",
      "id": "1c64d563-c2ae-413c-9cb9-ac01f8987f43",
      "metadata": {
        "id": "1c64d563-c2ae-413c-9cb9-ac01f8987f43"
      },
      "source": [
        "### 4. Working with Columns and Rows\n",
        "\n",
        "**Selecting Columns**\n",
        "- Single column (returns Series)"
      ]
    },
    {
      "cell_type": "code",
      "execution_count": 2,
      "id": "f6179e82-ac13-47e5-a04e-ddf0ef1b40fd",
      "metadata": {
        "id": "f6179e82-ac13-47e5-a04e-ddf0ef1b40fd"
      },
      "outputs": [],
      "source": []
    },
    {
      "cell_type": "code",
      "source": [],
      "metadata": {
        "id": "ZS0Xvuq2sClJ"
      },
      "id": "ZS0Xvuq2sClJ",
      "execution_count": 2,
      "outputs": []
    },
    {
      "cell_type": "markdown",
      "id": "fd855f71-9c37-4000-8fe3-1edfd1a41331",
      "metadata": {
        "id": "fd855f71-9c37-4000-8fe3-1edfd1a41331"
      },
      "source": [
        "**Multiple columns (returns DataFrame)**"
      ]
    },
    {
      "cell_type": "code",
      "execution_count": 2,
      "id": "f6a5c32d-2212-4b07-aff5-4ab36f27e099",
      "metadata": {
        "id": "f6a5c32d-2212-4b07-aff5-4ab36f27e099"
      },
      "outputs": [],
      "source": []
    },
    {
      "cell_type": "code",
      "source": [],
      "metadata": {
        "id": "rz57BQaTsnzd"
      },
      "id": "rz57BQaTsnzd",
      "execution_count": 2,
      "outputs": []
    },
    {
      "cell_type": "markdown",
      "id": "a998845e-0210-4305-b851-e78cc5f7cd1f",
      "metadata": {
        "id": "a998845e-0210-4305-b851-e78cc5f7cd1f"
      },
      "source": [
        "**Selecting Rows**\n",
        "- By index"
      ]
    },
    {
      "cell_type": "code",
      "execution_count": 2,
      "id": "554a2f2e-e530-456a-a68e-cc9c4334a17e",
      "metadata": {
        "id": "554a2f2e-e530-456a-a68e-cc9c4334a17e"
      },
      "outputs": [],
      "source": []
    },
    {
      "cell_type": "markdown",
      "id": "2b09b292-147f-432a-a2a4-a066c679b0a7",
      "metadata": {
        "id": "2b09b292-147f-432a-a2a4-a066c679b0a7"
      },
      "source": [
        "- By position (iloc)"
      ]
    },
    {
      "cell_type": "code",
      "execution_count": 2,
      "id": "97192207-4bb1-4341-a6ae-daf653e3a4f4",
      "metadata": {
        "id": "97192207-4bb1-4341-a6ae-daf653e3a4f4"
      },
      "outputs": [],
      "source": []
    },
    {
      "cell_type": "markdown",
      "id": "086e75c1-a0bc-4b70-980e-debbab977d9f",
      "metadata": {
        "id": "086e75c1-a0bc-4b70-980e-debbab977d9f"
      },
      "source": [
        "**Filtering Data**\n",
        "- Completed transactions only"
      ]
    },
    {
      "cell_type": "code",
      "execution_count": 2,
      "id": "095b4c5c-cf60-403a-a3f1-8bd7c9563242",
      "metadata": {
        "id": "095b4c5c-cf60-403a-a3f1-8bd7c9563242"
      },
      "outputs": [],
      "source": []
    },
    {
      "cell_type": "code",
      "source": [],
      "metadata": {
        "id": "vijI1FMst_Qw"
      },
      "id": "vijI1FMst_Qw",
      "execution_count": 2,
      "outputs": []
    },
    {
      "cell_type": "markdown",
      "id": "39c4ed7c-4d96-4977-9f62-b43c9e965ce5",
      "metadata": {
        "id": "39c4ed7c-4d96-4977-9f62-b43c9e965ce5"
      },
      "source": [
        "- High-value transactions (> 20,000)"
      ]
    },
    {
      "cell_type": "code",
      "execution_count": 2,
      "id": "a53d1c34-1093-4584-9cac-48ee121ec798",
      "metadata": {
        "id": "a53d1c34-1093-4584-9cac-48ee121ec798"
      },
      "outputs": [],
      "source": []
    },
    {
      "cell_type": "code",
      "source": [],
      "metadata": {
        "id": "ezMEXjc0umiG"
      },
      "id": "ezMEXjc0umiG",
      "execution_count": 2,
      "outputs": []
    },
    {
      "cell_type": "markdown",
      "id": "6ccfdaeb-364a-43ad-ad2e-d70296883af6",
      "metadata": {
        "id": "6ccfdaeb-364a-43ad-ad2e-d70296883af6"
      },
      "source": [
        "- Multiple conditions (use & for AND, | for OR)"
      ]
    },
    {
      "cell_type": "code",
      "execution_count": 2,
      "id": "203ef1cd-8169-4b65-8f8c-12849baf01d9",
      "metadata": {
        "id": "203ef1cd-8169-4b65-8f8c-12849baf01d9"
      },
      "outputs": [],
      "source": []
    },
    {
      "cell_type": "code",
      "source": [],
      "metadata": {
        "id": "Xamwut6LvE3R"
      },
      "id": "Xamwut6LvE3R",
      "execution_count": 2,
      "outputs": []
    },
    {
      "cell_type": "markdown",
      "id": "9cec237f-c8f9-4bfa-b35e-d39f20918010",
      "metadata": {
        "id": "9cec237f-c8f9-4bfa-b35e-d39f20918010"
      },
      "source": [
        "- Filter by string contains (case sensitive)"
      ]
    },
    {
      "cell_type": "code",
      "execution_count": 2,
      "id": "6e0185f2-6fb5-41c7-985c-ee1b3e3386cb",
      "metadata": {
        "id": "6e0185f2-6fb5-41c7-985c-ee1b3e3386cb"
      },
      "outputs": [],
      "source": []
    },
    {
      "cell_type": "code",
      "source": [],
      "metadata": {
        "id": "W2AL_lybvp2Y"
      },
      "id": "W2AL_lybvp2Y",
      "execution_count": 2,
      "outputs": []
    },
    {
      "cell_type": "code",
      "source": [],
      "metadata": {
        "id": "asoHLyXlvwZ8"
      },
      "id": "asoHLyXlvwZ8",
      "execution_count": 2,
      "outputs": []
    },
    {
      "cell_type": "code",
      "source": [],
      "metadata": {
        "id": "zP28N6egv4TP"
      },
      "id": "zP28N6egv4TP",
      "execution_count": 2,
      "outputs": []
    },
    {
      "cell_type": "markdown",
      "id": "874c3a46-8923-48a2-acbf-3cd228b1b6ac",
      "metadata": {
        "id": "874c3a46-8923-48a2-acbf-3cd228b1b6ac"
      },
      "source": [
        "### 5. Basic Data Operations\n",
        "\n",
        "**Adding Columns**\n",
        "- Calculate payment delay in days (for completed transactions)"
      ]
    },
    {
      "cell_type": "code",
      "execution_count": 2,
      "id": "4acd2ea0-a557-4d15-ba35-13d6a4096add",
      "metadata": {
        "id": "4acd2ea0-a557-4d15-ba35-13d6a4096add"
      },
      "outputs": [],
      "source": []
    },
    {
      "cell_type": "markdown",
      "id": "68a4f2c3-d08c-4995-bba6-cd9667b74b79",
      "metadata": {
        "id": "68a4f2c3-d08c-4995-bba6-cd9667b74b79"
      },
      "source": [
        "**Create a binary column indicating high-value transactions**"
      ]
    },
    {
      "cell_type": "code",
      "execution_count": 2,
      "id": "0bc09963-08bc-4cf0-919f-7da73f86235f",
      "metadata": {
        "id": "0bc09963-08bc-4cf0-919f-7da73f86235f"
      },
      "outputs": [],
      "source": []
    },
    {
      "cell_type": "markdown",
      "id": "44ff109b-8f79-48a5-9c0c-1731ea8e0314",
      "metadata": {
        "id": "44ff109b-8f79-48a5-9c0c-1731ea8e0314"
      },
      "source": [
        "**Removing Columns**\n",
        "- Drop the temporary column we created"
      ]
    },
    {
      "cell_type": "code",
      "execution_count": 2,
      "id": "bad879ce-7da5-46c5-9a45-5ad600216351",
      "metadata": {
        "id": "bad879ce-7da5-46c5-9a45-5ad600216351"
      },
      "outputs": [],
      "source": []
    },
    {
      "cell_type": "markdown",
      "id": "1eef9b4e-c622-4b56-999c-763b5e2272f1",
      "metadata": {
        "id": "1eef9b4e-c622-4b56-999c-763b5e2272f1"
      },
      "source": [
        "**Sorting Data**\n",
        "- Sort by amount (descending)"
      ]
    },
    {
      "cell_type": "code",
      "execution_count": 2,
      "id": "5bb35455-d605-4e3e-a009-25edc1cd2b2d",
      "metadata": {
        "id": "5bb35455-d605-4e3e-a009-25edc1cd2b2d"
      },
      "outputs": [],
      "source": []
    },
    {
      "cell_type": "markdown",
      "id": "26b333af-9a8e-4e09-9540-0e023454b959",
      "metadata": {
        "id": "26b333af-9a8e-4e09-9540-0e023454b959"
      },
      "source": [
        "- Multi-column sort"
      ]
    },
    {
      "cell_type": "code",
      "execution_count": 2,
      "id": "03a8a9f0-279f-4e85-a671-7e3ca4bca16f",
      "metadata": {
        "id": "03a8a9f0-279f-4e85-a671-7e3ca4bca16f"
      },
      "outputs": [],
      "source": []
    },
    {
      "cell_type": "markdown",
      "id": "3c11aa46-eb60-40a7-8c81-b42b0b620639",
      "metadata": {
        "id": "3c11aa46-eb60-40a7-8c81-b42b0b620639"
      },
      "source": [
        "### Additional Important Initial Analysis Steps\n",
        "**Checking for Missing Values**"
      ]
    },
    {
      "cell_type": "code",
      "execution_count": null,
      "id": "b443ea34-4f95-4858-a758-68aec3e27e5e",
      "metadata": {
        "id": "b443ea34-4f95-4858-a758-68aec3e27e5e"
      },
      "outputs": [],
      "source": []
    },
    {
      "cell_type": "markdown",
      "id": "f841cd98-4da9-4900-bfa8-c3ac07c5704b",
      "metadata": {
        "id": "f841cd98-4da9-4900-bfa8-c3ac07c5704b"
      },
      "source": [
        "**Examining Unique Values**"
      ]
    },
    {
      "cell_type": "code",
      "execution_count": null,
      "id": "4dba5fc4-71d7-4f2b-9af6-2501680c69ec",
      "metadata": {
        "id": "4dba5fc4-71d7-4f2b-9af6-2501680c69ec"
      },
      "outputs": [],
      "source": []
    },
    {
      "cell_type": "markdown",
      "id": "9091778f-8d04-4fec-9594-86e98aa56a6e",
      "metadata": {
        "id": "9091778f-8d04-4fec-9594-86e98aa56a6e"
      },
      "source": [
        "**Data Quality Checks**\n",
        "- Check for inconsistent city names (case sensitivity, whitespace)"
      ]
    },
    {
      "cell_type": "code",
      "execution_count": null,
      "id": "ff150fc0-cbe5-4818-b991-a64a4646539d",
      "metadata": {
        "id": "ff150fc0-cbe5-4818-b991-a64a4646539d"
      },
      "outputs": [],
      "source": []
    },
    {
      "cell_type": "markdown",
      "id": "8a90b5ce-2bf6-4a9e-b402-dca4757f3a05",
      "metadata": {
        "id": "8a90b5ce-2bf6-4a9e-b402-dca4757f3a05"
      },
      "source": [
        "- Value Counts (useful for categorical data)"
      ]
    },
    {
      "cell_type": "code",
      "execution_count": null,
      "id": "fe3ff958-863e-4d91-8198-94cf9b2c0262",
      "metadata": {
        "id": "fe3ff958-863e-4d91-8198-94cf9b2c0262"
      },
      "outputs": [],
      "source": []
    },
    {
      "cell_type": "markdown",
      "id": "94ce6fc6-fb5e-4241-ae26-2e114478cfe0",
      "metadata": {
        "id": "94ce6fc6-fb5e-4241-ae26-2e114478cfe0"
      },
      "source": [
        "### Initial Observations:\n",
        "\n",
        "1. **Data Structure Preview**:\n",
        "   - The dataset contains transaction records with columns like `Number`, `Creation Date`, `Payment Date`, `Title`, `Status`, `Money Amount`, `City`, and `Payment System`.\n",
        "   - Mixed data types are visible at a glance (dates, numbers, text).\n",
        "\n",
        "2. **Missing Values**:\n",
        "   - `Date when pay` is empty for canceled transactions (e.g., rows 3-7 in head).\n",
        "   - `Money amount` shows `0` for canceled transactions.\n",
        "   - Some `City` and `Payment System` fields are empty (e.g., row 11 in head).\n",
        "\n",
        "3. **Status Patterns**:\n",
        "   - `Completed` status correlates with:\n",
        "     - Filled payment dates\n",
        "     - Positive money amounts\n",
        "     - Specified payment methods\n",
        "   - `Canceled` status shows:\n",
        "     - Empty payment dates\n",
        "     - Zero amounts\n",
        "     - Often missing payment methods\n",
        "\n",
        "4. **Data Quality Indicators**:\n",
        "   - Inconsistent city name formatting:\n",
        "     - Mixed case (e.g., \"TERNOPIL\" vs \"Vinnytsia\")\n",
        "     - Trailing spaces (e.g., \" Lviv\" vs \"Lviv\")\n",
        "     - Combined city names (\"OdesaDnipro\")\n",
        "   - Payment method names use different languages (Ukrainian and English)\n",
        "\n",
        "5. **Temporal Patterns**:\n",
        "   - Transactions span December 2024 (based on creation dates)\n",
        "   - Payment delays vary (e.g., row 1 shows 2-minute delay, while row 14 shows 17-day delay)\n",
        "\n",
        "6. **Business Context Clues**:\n",
        "   - Course titles suggest an educational platform (\"AI Engineering\", \"Frontend Development\", etc.)\n",
        "   - Payment amounts vary significantly (from 1.0 to 42750.0)\n",
        "   - Multiple payment systems are supported (Google Pay, PayPal, bank transfers)\n",
        "\n",
        "7. **Potential Anomalies**:\n",
        "   - Very small payments (1.0) in rows 28-34 might represent test transactions\n",
        "   - Some payment dates (e.g., \"01.01.2020\" in last row) appear inconsistent with creation dates\n",
        "\n",
        "**Key Questions for Further Investigation**:\n",
        "- Why do some completed transactions have payment dates before creation dates?\n",
        "- Should city names be standardized (case, spacing)?\n",
        "- Are the 1.0 payments valid or system artifacts?\n",
        "- What explains the extreme payment amount range?\n",
        "\n",
        "This initial inspection reveals both the dataset's structure and immediate data quality considerations that would need addressing before deeper analysis."
      ]
    },
    {
      "cell_type": "code",
      "execution_count": null,
      "id": "817578da-9ed3-49fa-b725-b2583de213e1",
      "metadata": {
        "id": "817578da-9ed3-49fa-b725-b2583de213e1"
      },
      "outputs": [],
      "source": []
    }
  ],
  "metadata": {
    "kernelspec": {
      "display_name": "Python 3 (ipykernel)",
      "language": "python",
      "name": "python3"
    },
    "language_info": {
      "codemirror_mode": {
        "name": "ipython",
        "version": 3
      },
      "file_extension": ".py",
      "mimetype": "text/x-python",
      "name": "python",
      "nbconvert_exporter": "python",
      "pygments_lexer": "ipython3",
      "version": "3.13.2"
    },
    "colab": {
      "provenance": [],
      "include_colab_link": true
    }
  },
  "nbformat": 4,
  "nbformat_minor": 5
}