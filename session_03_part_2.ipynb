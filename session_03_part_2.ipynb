{
  "nbformat": 4,
  "nbformat_minor": 0,
  "metadata": {
    "colab": {
      "provenance": [],
      "authorship_tag": "ABX9TyN4uxWtTCwFTZvX9cwPaw9n",
      "include_colab_link": true
    },
    "kernelspec": {
      "name": "python3",
      "display_name": "Python 3"
    },
    "language_info": {
      "name": "python"
    }
  },
  "cells": [
    {
      "cell_type": "markdown",
      "metadata": {
        "id": "view-in-github",
        "colab_type": "text"
      },
      "source": [
        "<a href=\"https://colab.research.google.com/github/cpython-projects/E1402/blob/main/session_03_part_2.ipynb\" target=\"_parent\"><img src=\"https://colab.research.google.com/assets/colab-badge.svg\" alt=\"Open In Colab\"/></a>"
      ]
    },
    {
      "cell_type": "code",
      "source": [
        "import pandas as pd\n",
        "df = pd.read_csv(\"https://raw.githubusercontent.com/cpython-projects/E1402/refs/heads/main/session_03_part_2.csv\", delimiter=\",\", encoding='utf-8')"
      ],
      "metadata": {
        "id": "ynje9wPQzpH3"
      },
      "execution_count": null,
      "outputs": []
    },
    {
      "cell_type": "code",
      "source": [
        "df"
      ],
      "metadata": {
        "colab": {
          "base_uri": "https://localhost:8080/",
          "height": 425
        },
        "id": "poMJ_8b30D_m",
        "outputId": "43d9a848-61c1-4d62-c14d-76ecbb9609d3"
      },
      "execution_count": null,
      "outputs": [
        {
          "output_type": "execute_result",
          "data": {
            "text/plain": [
              "    Unnamed: 0  ID     Name gender     Age  Salary ($)      Hire Date  \\\n",
              "0            0   1    Alice      F      25     50000.0     2023-01-10   \n",
              "1            1   2    Bob        M  Thirty     60000.0     2022-12-05   \n",
              "2            2   3  CHARLIE      M      40         NaN     01/15/2021   \n",
              "3            3   4     Dave      M      22     70000.0  March 1, 2020   \n",
              "4            4   5      Eve      F     NaN     80000.0     2021-07-20   \n",
              "5            5   6    Frank      M      35    120000.0     08/10/2019   \n",
              "6            6   7   George      M      29         NaN     2020-05-30   \n",
              "7            7   8   Hannah      F      33    150000.0   July 4, 2018   \n",
              "8            8   9    Isaac      M      45    200000.0     06-01-2017   \n",
              "9            9  10     Jack      M  Twenty    250000.0     2016-09-15   \n",
              "10          10   5      Eve      F     NaN     80000.0     2021-07-20   \n",
              "11          11   6    Frank      M      35    120000.0     08/10/2019   \n",
              "\n",
              "           Country  Weight  \n",
              "0              USA    70kg  \n",
              "1           U.S.A.  154lbs  \n",
              "2               UK    65kg  \n",
              "3   United Kingdom  140lbs  \n",
              "4           canada    75kg  \n",
              "5           Canada  165lbs  \n",
              "6          Germany    80kg  \n",
              "7           France  180lbs  \n",
              "8           France    90kg  \n",
              "9           Brazil  200lbs  \n",
              "10          canada    75kg  \n",
              "11          Canada  165lbs  "
            ],
            "text/html": [
              "\n",
              "  <div id=\"df-6d5ff0de-08f9-4770-b315-3f9d1384e742\" class=\"colab-df-container\">\n",
              "    <div>\n",
              "<style scoped>\n",
              "    .dataframe tbody tr th:only-of-type {\n",
              "        vertical-align: middle;\n",
              "    }\n",
              "\n",
              "    .dataframe tbody tr th {\n",
              "        vertical-align: top;\n",
              "    }\n",
              "\n",
              "    .dataframe thead th {\n",
              "        text-align: right;\n",
              "    }\n",
              "</style>\n",
              "<table border=\"1\" class=\"dataframe\">\n",
              "  <thead>\n",
              "    <tr style=\"text-align: right;\">\n",
              "      <th></th>\n",
              "      <th>Unnamed: 0</th>\n",
              "      <th>ID</th>\n",
              "      <th>Name</th>\n",
              "      <th>gender</th>\n",
              "      <th>Age</th>\n",
              "      <th>Salary ($)</th>\n",
              "      <th>Hire Date</th>\n",
              "      <th>Country</th>\n",
              "      <th>Weight</th>\n",
              "    </tr>\n",
              "  </thead>\n",
              "  <tbody>\n",
              "    <tr>\n",
              "      <th>0</th>\n",
              "      <td>0</td>\n",
              "      <td>1</td>\n",
              "      <td>Alice</td>\n",
              "      <td>F</td>\n",
              "      <td>25</td>\n",
              "      <td>50000.0</td>\n",
              "      <td>2023-01-10</td>\n",
              "      <td>USA</td>\n",
              "      <td>70kg</td>\n",
              "    </tr>\n",
              "    <tr>\n",
              "      <th>1</th>\n",
              "      <td>1</td>\n",
              "      <td>2</td>\n",
              "      <td>Bob</td>\n",
              "      <td>M</td>\n",
              "      <td>Thirty</td>\n",
              "      <td>60000.0</td>\n",
              "      <td>2022-12-05</td>\n",
              "      <td>U.S.A.</td>\n",
              "      <td>154lbs</td>\n",
              "    </tr>\n",
              "    <tr>\n",
              "      <th>2</th>\n",
              "      <td>2</td>\n",
              "      <td>3</td>\n",
              "      <td>CHARLIE</td>\n",
              "      <td>M</td>\n",
              "      <td>40</td>\n",
              "      <td>NaN</td>\n",
              "      <td>01/15/2021</td>\n",
              "      <td>UK</td>\n",
              "      <td>65kg</td>\n",
              "    </tr>\n",
              "    <tr>\n",
              "      <th>3</th>\n",
              "      <td>3</td>\n",
              "      <td>4</td>\n",
              "      <td>Dave</td>\n",
              "      <td>M</td>\n",
              "      <td>22</td>\n",
              "      <td>70000.0</td>\n",
              "      <td>March 1, 2020</td>\n",
              "      <td>United Kingdom</td>\n",
              "      <td>140lbs</td>\n",
              "    </tr>\n",
              "    <tr>\n",
              "      <th>4</th>\n",
              "      <td>4</td>\n",
              "      <td>5</td>\n",
              "      <td>Eve</td>\n",
              "      <td>F</td>\n",
              "      <td>NaN</td>\n",
              "      <td>80000.0</td>\n",
              "      <td>2021-07-20</td>\n",
              "      <td>canada</td>\n",
              "      <td>75kg</td>\n",
              "    </tr>\n",
              "    <tr>\n",
              "      <th>5</th>\n",
              "      <td>5</td>\n",
              "      <td>6</td>\n",
              "      <td>Frank</td>\n",
              "      <td>M</td>\n",
              "      <td>35</td>\n",
              "      <td>120000.0</td>\n",
              "      <td>08/10/2019</td>\n",
              "      <td>Canada</td>\n",
              "      <td>165lbs</td>\n",
              "    </tr>\n",
              "    <tr>\n",
              "      <th>6</th>\n",
              "      <td>6</td>\n",
              "      <td>7</td>\n",
              "      <td>George</td>\n",
              "      <td>M</td>\n",
              "      <td>29</td>\n",
              "      <td>NaN</td>\n",
              "      <td>2020-05-30</td>\n",
              "      <td>Germany</td>\n",
              "      <td>80kg</td>\n",
              "    </tr>\n",
              "    <tr>\n",
              "      <th>7</th>\n",
              "      <td>7</td>\n",
              "      <td>8</td>\n",
              "      <td>Hannah</td>\n",
              "      <td>F</td>\n",
              "      <td>33</td>\n",
              "      <td>150000.0</td>\n",
              "      <td>July 4, 2018</td>\n",
              "      <td>France</td>\n",
              "      <td>180lbs</td>\n",
              "    </tr>\n",
              "    <tr>\n",
              "      <th>8</th>\n",
              "      <td>8</td>\n",
              "      <td>9</td>\n",
              "      <td>Isaac</td>\n",
              "      <td>M</td>\n",
              "      <td>45</td>\n",
              "      <td>200000.0</td>\n",
              "      <td>06-01-2017</td>\n",
              "      <td>France</td>\n",
              "      <td>90kg</td>\n",
              "    </tr>\n",
              "    <tr>\n",
              "      <th>9</th>\n",
              "      <td>9</td>\n",
              "      <td>10</td>\n",
              "      <td>Jack</td>\n",
              "      <td>M</td>\n",
              "      <td>Twenty</td>\n",
              "      <td>250000.0</td>\n",
              "      <td>2016-09-15</td>\n",
              "      <td>Brazil</td>\n",
              "      <td>200lbs</td>\n",
              "    </tr>\n",
              "    <tr>\n",
              "      <th>10</th>\n",
              "      <td>10</td>\n",
              "      <td>5</td>\n",
              "      <td>Eve</td>\n",
              "      <td>F</td>\n",
              "      <td>NaN</td>\n",
              "      <td>80000.0</td>\n",
              "      <td>2021-07-20</td>\n",
              "      <td>canada</td>\n",
              "      <td>75kg</td>\n",
              "    </tr>\n",
              "    <tr>\n",
              "      <th>11</th>\n",
              "      <td>11</td>\n",
              "      <td>6</td>\n",
              "      <td>Frank</td>\n",
              "      <td>M</td>\n",
              "      <td>35</td>\n",
              "      <td>120000.0</td>\n",
              "      <td>08/10/2019</td>\n",
              "      <td>Canada</td>\n",
              "      <td>165lbs</td>\n",
              "    </tr>\n",
              "  </tbody>\n",
              "</table>\n",
              "</div>\n",
              "    <div class=\"colab-df-buttons\">\n",
              "\n",
              "  <div class=\"colab-df-container\">\n",
              "    <button class=\"colab-df-convert\" onclick=\"convertToInteractive('df-6d5ff0de-08f9-4770-b315-3f9d1384e742')\"\n",
              "            title=\"Convert this dataframe to an interactive table.\"\n",
              "            style=\"display:none;\">\n",
              "\n",
              "  <svg xmlns=\"http://www.w3.org/2000/svg\" height=\"24px\" viewBox=\"0 -960 960 960\">\n",
              "    <path d=\"M120-120v-720h720v720H120Zm60-500h600v-160H180v160Zm220 220h160v-160H400v160Zm0 220h160v-160H400v160ZM180-400h160v-160H180v160Zm440 0h160v-160H620v160ZM180-180h160v-160H180v160Zm440 0h160v-160H620v160Z\"/>\n",
              "  </svg>\n",
              "    </button>\n",
              "\n",
              "  <style>\n",
              "    .colab-df-container {\n",
              "      display:flex;\n",
              "      gap: 12px;\n",
              "    }\n",
              "\n",
              "    .colab-df-convert {\n",
              "      background-color: #E8F0FE;\n",
              "      border: none;\n",
              "      border-radius: 50%;\n",
              "      cursor: pointer;\n",
              "      display: none;\n",
              "      fill: #1967D2;\n",
              "      height: 32px;\n",
              "      padding: 0 0 0 0;\n",
              "      width: 32px;\n",
              "    }\n",
              "\n",
              "    .colab-df-convert:hover {\n",
              "      background-color: #E2EBFA;\n",
              "      box-shadow: 0px 1px 2px rgba(60, 64, 67, 0.3), 0px 1px 3px 1px rgba(60, 64, 67, 0.15);\n",
              "      fill: #174EA6;\n",
              "    }\n",
              "\n",
              "    .colab-df-buttons div {\n",
              "      margin-bottom: 4px;\n",
              "    }\n",
              "\n",
              "    [theme=dark] .colab-df-convert {\n",
              "      background-color: #3B4455;\n",
              "      fill: #D2E3FC;\n",
              "    }\n",
              "\n",
              "    [theme=dark] .colab-df-convert:hover {\n",
              "      background-color: #434B5C;\n",
              "      box-shadow: 0px 1px 3px 1px rgba(0, 0, 0, 0.15);\n",
              "      filter: drop-shadow(0px 1px 2px rgba(0, 0, 0, 0.3));\n",
              "      fill: #FFFFFF;\n",
              "    }\n",
              "  </style>\n",
              "\n",
              "    <script>\n",
              "      const buttonEl =\n",
              "        document.querySelector('#df-6d5ff0de-08f9-4770-b315-3f9d1384e742 button.colab-df-convert');\n",
              "      buttonEl.style.display =\n",
              "        google.colab.kernel.accessAllowed ? 'block' : 'none';\n",
              "\n",
              "      async function convertToInteractive(key) {\n",
              "        const element = document.querySelector('#df-6d5ff0de-08f9-4770-b315-3f9d1384e742');\n",
              "        const dataTable =\n",
              "          await google.colab.kernel.invokeFunction('convertToInteractive',\n",
              "                                                    [key], {});\n",
              "        if (!dataTable) return;\n",
              "\n",
              "        const docLinkHtml = 'Like what you see? Visit the ' +\n",
              "          '<a target=\"_blank\" href=https://colab.research.google.com/notebooks/data_table.ipynb>data table notebook</a>'\n",
              "          + ' to learn more about interactive tables.';\n",
              "        element.innerHTML = '';\n",
              "        dataTable['output_type'] = 'display_data';\n",
              "        await google.colab.output.renderOutput(dataTable, element);\n",
              "        const docLink = document.createElement('div');\n",
              "        docLink.innerHTML = docLinkHtml;\n",
              "        element.appendChild(docLink);\n",
              "      }\n",
              "    </script>\n",
              "  </div>\n",
              "\n",
              "\n",
              "    <div id=\"df-aba80913-b02d-4d28-ab76-5ce9d4eb1983\">\n",
              "      <button class=\"colab-df-quickchart\" onclick=\"quickchart('df-aba80913-b02d-4d28-ab76-5ce9d4eb1983')\"\n",
              "                title=\"Suggest charts\"\n",
              "                style=\"display:none;\">\n",
              "\n",
              "<svg xmlns=\"http://www.w3.org/2000/svg\" height=\"24px\"viewBox=\"0 0 24 24\"\n",
              "     width=\"24px\">\n",
              "    <g>\n",
              "        <path d=\"M19 3H5c-1.1 0-2 .9-2 2v14c0 1.1.9 2 2 2h14c1.1 0 2-.9 2-2V5c0-1.1-.9-2-2-2zM9 17H7v-7h2v7zm4 0h-2V7h2v10zm4 0h-2v-4h2v4z\"/>\n",
              "    </g>\n",
              "</svg>\n",
              "      </button>\n",
              "\n",
              "<style>\n",
              "  .colab-df-quickchart {\n",
              "      --bg-color: #E8F0FE;\n",
              "      --fill-color: #1967D2;\n",
              "      --hover-bg-color: #E2EBFA;\n",
              "      --hover-fill-color: #174EA6;\n",
              "      --disabled-fill-color: #AAA;\n",
              "      --disabled-bg-color: #DDD;\n",
              "  }\n",
              "\n",
              "  [theme=dark] .colab-df-quickchart {\n",
              "      --bg-color: #3B4455;\n",
              "      --fill-color: #D2E3FC;\n",
              "      --hover-bg-color: #434B5C;\n",
              "      --hover-fill-color: #FFFFFF;\n",
              "      --disabled-bg-color: #3B4455;\n",
              "      --disabled-fill-color: #666;\n",
              "  }\n",
              "\n",
              "  .colab-df-quickchart {\n",
              "    background-color: var(--bg-color);\n",
              "    border: none;\n",
              "    border-radius: 50%;\n",
              "    cursor: pointer;\n",
              "    display: none;\n",
              "    fill: var(--fill-color);\n",
              "    height: 32px;\n",
              "    padding: 0;\n",
              "    width: 32px;\n",
              "  }\n",
              "\n",
              "  .colab-df-quickchart:hover {\n",
              "    background-color: var(--hover-bg-color);\n",
              "    box-shadow: 0 1px 2px rgba(60, 64, 67, 0.3), 0 1px 3px 1px rgba(60, 64, 67, 0.15);\n",
              "    fill: var(--button-hover-fill-color);\n",
              "  }\n",
              "\n",
              "  .colab-df-quickchart-complete:disabled,\n",
              "  .colab-df-quickchart-complete:disabled:hover {\n",
              "    background-color: var(--disabled-bg-color);\n",
              "    fill: var(--disabled-fill-color);\n",
              "    box-shadow: none;\n",
              "  }\n",
              "\n",
              "  .colab-df-spinner {\n",
              "    border: 2px solid var(--fill-color);\n",
              "    border-color: transparent;\n",
              "    border-bottom-color: var(--fill-color);\n",
              "    animation:\n",
              "      spin 1s steps(1) infinite;\n",
              "  }\n",
              "\n",
              "  @keyframes spin {\n",
              "    0% {\n",
              "      border-color: transparent;\n",
              "      border-bottom-color: var(--fill-color);\n",
              "      border-left-color: var(--fill-color);\n",
              "    }\n",
              "    20% {\n",
              "      border-color: transparent;\n",
              "      border-left-color: var(--fill-color);\n",
              "      border-top-color: var(--fill-color);\n",
              "    }\n",
              "    30% {\n",
              "      border-color: transparent;\n",
              "      border-left-color: var(--fill-color);\n",
              "      border-top-color: var(--fill-color);\n",
              "      border-right-color: var(--fill-color);\n",
              "    }\n",
              "    40% {\n",
              "      border-color: transparent;\n",
              "      border-right-color: var(--fill-color);\n",
              "      border-top-color: var(--fill-color);\n",
              "    }\n",
              "    60% {\n",
              "      border-color: transparent;\n",
              "      border-right-color: var(--fill-color);\n",
              "    }\n",
              "    80% {\n",
              "      border-color: transparent;\n",
              "      border-right-color: var(--fill-color);\n",
              "      border-bottom-color: var(--fill-color);\n",
              "    }\n",
              "    90% {\n",
              "      border-color: transparent;\n",
              "      border-bottom-color: var(--fill-color);\n",
              "    }\n",
              "  }\n",
              "</style>\n",
              "\n",
              "      <script>\n",
              "        async function quickchart(key) {\n",
              "          const quickchartButtonEl =\n",
              "            document.querySelector('#' + key + ' button');\n",
              "          quickchartButtonEl.disabled = true;  // To prevent multiple clicks.\n",
              "          quickchartButtonEl.classList.add('colab-df-spinner');\n",
              "          try {\n",
              "            const charts = await google.colab.kernel.invokeFunction(\n",
              "                'suggestCharts', [key], {});\n",
              "          } catch (error) {\n",
              "            console.error('Error during call to suggestCharts:', error);\n",
              "          }\n",
              "          quickchartButtonEl.classList.remove('colab-df-spinner');\n",
              "          quickchartButtonEl.classList.add('colab-df-quickchart-complete');\n",
              "        }\n",
              "        (() => {\n",
              "          let quickchartButtonEl =\n",
              "            document.querySelector('#df-aba80913-b02d-4d28-ab76-5ce9d4eb1983 button');\n",
              "          quickchartButtonEl.style.display =\n",
              "            google.colab.kernel.accessAllowed ? 'block' : 'none';\n",
              "        })();\n",
              "      </script>\n",
              "    </div>\n",
              "\n",
              "  <div id=\"id_1381956e-1d1a-4ae9-9829-f7644ab201d4\">\n",
              "    <style>\n",
              "      .colab-df-generate {\n",
              "        background-color: #E8F0FE;\n",
              "        border: none;\n",
              "        border-radius: 50%;\n",
              "        cursor: pointer;\n",
              "        display: none;\n",
              "        fill: #1967D2;\n",
              "        height: 32px;\n",
              "        padding: 0 0 0 0;\n",
              "        width: 32px;\n",
              "      }\n",
              "\n",
              "      .colab-df-generate:hover {\n",
              "        background-color: #E2EBFA;\n",
              "        box-shadow: 0px 1px 2px rgba(60, 64, 67, 0.3), 0px 1px 3px 1px rgba(60, 64, 67, 0.15);\n",
              "        fill: #174EA6;\n",
              "      }\n",
              "\n",
              "      [theme=dark] .colab-df-generate {\n",
              "        background-color: #3B4455;\n",
              "        fill: #D2E3FC;\n",
              "      }\n",
              "\n",
              "      [theme=dark] .colab-df-generate:hover {\n",
              "        background-color: #434B5C;\n",
              "        box-shadow: 0px 1px 3px 1px rgba(0, 0, 0, 0.15);\n",
              "        filter: drop-shadow(0px 1px 2px rgba(0, 0, 0, 0.3));\n",
              "        fill: #FFFFFF;\n",
              "      }\n",
              "    </style>\n",
              "    <button class=\"colab-df-generate\" onclick=\"generateWithVariable('df')\"\n",
              "            title=\"Generate code using this dataframe.\"\n",
              "            style=\"display:none;\">\n",
              "\n",
              "  <svg xmlns=\"http://www.w3.org/2000/svg\" height=\"24px\"viewBox=\"0 0 24 24\"\n",
              "       width=\"24px\">\n",
              "    <path d=\"M7,19H8.4L18.45,9,17,7.55,7,17.6ZM5,21V16.75L18.45,3.32a2,2,0,0,1,2.83,0l1.4,1.43a1.91,1.91,0,0,1,.58,1.4,1.91,1.91,0,0,1-.58,1.4L9.25,21ZM18.45,9,17,7.55Zm-12,3A5.31,5.31,0,0,0,4.9,8.1,5.31,5.31,0,0,0,1,6.5,5.31,5.31,0,0,0,4.9,4.9,5.31,5.31,0,0,0,6.5,1,5.31,5.31,0,0,0,8.1,4.9,5.31,5.31,0,0,0,12,6.5,5.46,5.46,0,0,0,6.5,12Z\"/>\n",
              "  </svg>\n",
              "    </button>\n",
              "    <script>\n",
              "      (() => {\n",
              "      const buttonEl =\n",
              "        document.querySelector('#id_1381956e-1d1a-4ae9-9829-f7644ab201d4 button.colab-df-generate');\n",
              "      buttonEl.style.display =\n",
              "        google.colab.kernel.accessAllowed ? 'block' : 'none';\n",
              "\n",
              "      buttonEl.onclick = () => {\n",
              "        google.colab.notebook.generateWithVariable('df');\n",
              "      }\n",
              "      })();\n",
              "    </script>\n",
              "  </div>\n",
              "\n",
              "    </div>\n",
              "  </div>\n"
            ],
            "application/vnd.google.colaboratory.intrinsic+json": {
              "type": "dataframe",
              "variable_name": "df",
              "summary": "{\n  \"name\": \"df\",\n  \"rows\": 12,\n  \"fields\": [\n    {\n      \"column\": \"Unnamed: 0\",\n      \"properties\": {\n        \"dtype\": \"number\",\n        \"std\": 3,\n        \"min\": 0,\n        \"max\": 11,\n        \"num_unique_values\": 12,\n        \"samples\": [\n          10,\n          9,\n          0\n        ],\n        \"semantic_type\": \"\",\n        \"description\": \"\"\n      }\n    },\n    {\n      \"column\": \"ID\",\n      \"properties\": {\n        \"dtype\": \"number\",\n        \"std\": 2,\n        \"min\": 1,\n        \"max\": 10,\n        \"num_unique_values\": 10,\n        \"samples\": [\n          9,\n          2,\n          6\n        ],\n        \"semantic_type\": \"\",\n        \"description\": \"\"\n      }\n    },\n    {\n      \"column\": \"Name\",\n      \"properties\": {\n        \"dtype\": \"string\",\n        \"num_unique_values\": 10,\n        \"samples\": [\n          \"Isaac\",\n          \"  Bob  \",\n          \"Frank\"\n        ],\n        \"semantic_type\": \"\",\n        \"description\": \"\"\n      }\n    },\n    {\n      \"column\": \"gender\",\n      \"properties\": {\n        \"dtype\": \"category\",\n        \"num_unique_values\": 2,\n        \"samples\": [\n          \"M\",\n          \"F\"\n        ],\n        \"semantic_type\": \"\",\n        \"description\": \"\"\n      }\n    },\n    {\n      \"column\": \"Age\",\n      \"properties\": {\n        \"dtype\": \"string\",\n        \"num_unique_values\": 9,\n        \"samples\": [\n          \"45\",\n          \"Thirty\"\n        ],\n        \"semantic_type\": \"\",\n        \"description\": \"\"\n      }\n    },\n    {\n      \"column\": \"Salary ($)\",\n      \"properties\": {\n        \"dtype\": \"number\",\n        \"std\": 65285.696919173824,\n        \"min\": 50000.0,\n        \"max\": 250000.0,\n        \"num_unique_values\": 8,\n        \"samples\": [\n          60000.0,\n          150000.0\n        ],\n        \"semantic_type\": \"\",\n        \"description\": \"\"\n      }\n    },\n    {\n      \"column\": \"Hire Date\",\n      \"properties\": {\n        \"dtype\": \"string\",\n        \"num_unique_values\": 10,\n        \"samples\": [\n          \"06-01-2017\",\n          \"2022-12-05\"\n        ],\n        \"semantic_type\": \"\",\n        \"description\": \"\"\n      }\n    },\n    {\n      \"column\": \"Country\",\n      \"properties\": {\n        \"dtype\": \"string\",\n        \"num_unique_values\": 9,\n        \"samples\": [\n          \"France\",\n          \"U.S.A.\"\n        ],\n        \"semantic_type\": \"\",\n        \"description\": \"\"\n      }\n    },\n    {\n      \"column\": \"Weight\",\n      \"properties\": {\n        \"dtype\": \"string\",\n        \"num_unique_values\": 10,\n        \"samples\": [\n          \"90kg\",\n          \"154lbs\"\n        ],\n        \"semantic_type\": \"\",\n        \"description\": \"\"\n      }\n    }\n  ]\n}"
            }
          },
          "metadata": {},
          "execution_count": 2
        }
      ]
    },
    {
      "cell_type": "code",
      "source": [],
      "metadata": {
        "id": "rG2KsxE5ahw2"
      },
      "execution_count": null,
      "outputs": []
    },
    {
      "cell_type": "markdown",
      "source": [
        "### Handle Duplicates"
      ],
      "metadata": {
        "id": "hA08gS1vGMBb"
      }
    },
    {
      "cell_type": "markdown",
      "source": [
        "**Checking for Exact Duplicates**"
      ],
      "metadata": {
        "id": "xjy0b7b1GZNy"
      }
    },
    {
      "cell_type": "code",
      "source": [],
      "metadata": {
        "id": "SweeZEQwalnA"
      },
      "execution_count": null,
      "outputs": []
    },
    {
      "cell_type": "markdown",
      "source": [
        "**df.drop_duplicates()**"
      ],
      "metadata": {
        "id": "dE0xOUtbIvPD"
      }
    },
    {
      "cell_type": "code",
      "source": [],
      "metadata": {
        "id": "VnV_1CWWaoub"
      },
      "execution_count": null,
      "outputs": []
    },
    {
      "cell_type": "markdown",
      "source": [
        "### Handling Incorrect Formats"
      ],
      "metadata": {
        "id": "yKApQYsM_ZxS"
      }
    },
    {
      "cell_type": "markdown",
      "source": [
        "**Numeric data stored as strings**"
      ],
      "metadata": {
        "id": "xxpI33rQ_eUN"
      }
    },
    {
      "cell_type": "code",
      "source": [],
      "metadata": {
        "id": "E2c8K_eLaq-I"
      },
      "execution_count": null,
      "outputs": []
    },
    {
      "cell_type": "markdown",
      "source": [
        "**Dates stored as strings**"
      ],
      "metadata": {
        "id": "HDRkTehbBJAA"
      }
    },
    {
      "cell_type": "code",
      "source": [],
      "metadata": {
        "id": "gghWUUvTaraL"
      },
      "execution_count": null,
      "outputs": []
    },
    {
      "cell_type": "markdown",
      "source": [
        "**Categorical data stored as strings/numbers**"
      ],
      "metadata": {
        "id": "aG-6JEpLC6eQ"
      }
    },
    {
      "cell_type": "code",
      "source": [],
      "metadata": {
        "id": "wHEkT05tavWr"
      },
      "execution_count": null,
      "outputs": []
    },
    {
      "cell_type": "markdown",
      "source": [
        "### Handling Common Inconsistencies"
      ],
      "metadata": {
        "id": "jPbKSnpODLLV"
      }
    },
    {
      "cell_type": "markdown",
      "source": [
        "**Text: Mixed cases and extra spaces**"
      ],
      "metadata": {
        "id": "S5EbX3lmDNaM"
      }
    },
    {
      "cell_type": "code",
      "source": [],
      "metadata": {
        "id": "4zDpsu9dawyy"
      },
      "execution_count": null,
      "outputs": []
    },
    {
      "cell_type": "markdown",
      "source": [
        "**Units: Inconsistent measurements**"
      ],
      "metadata": {
        "id": "B7W_G5chDc8g"
      }
    },
    {
      "cell_type": "code",
      "source": [],
      "metadata": {
        "id": "S5F-iNcPayXZ"
      },
      "execution_count": null,
      "outputs": []
    },
    {
      "cell_type": "markdown",
      "source": [
        "**Categories: Different spellings**"
      ],
      "metadata": {
        "id": "Rcil3nKgEznn"
      }
    },
    {
      "cell_type": "code",
      "source": [],
      "metadata": {
        "id": "yXQ5UJzrayyt"
      },
      "execution_count": null,
      "outputs": []
    },
    {
      "cell_type": "markdown",
      "source": [
        "### Handling Missing Values"
      ],
      "metadata": {
        "id": "k7PDeQ1t8p4l"
      }
    },
    {
      "cell_type": "markdown",
      "source": [
        "**df.dropna()**"
      ],
      "metadata": {
        "id": "oH3BvqRr80LB"
      }
    },
    {
      "cell_type": "code",
      "source": [],
      "metadata": {
        "id": "rcreLItBa1WT"
      },
      "execution_count": null,
      "outputs": []
    },
    {
      "cell_type": "markdown",
      "source": [
        "**df.dropna(axis=1)**"
      ],
      "metadata": {
        "id": "S4eAjIz89J0Y"
      }
    },
    {
      "cell_type": "code",
      "source": [],
      "metadata": {
        "id": "qG0RRdQva2PQ"
      },
      "execution_count": null,
      "outputs": []
    },
    {
      "cell_type": "markdown",
      "source": [
        "**df.fillna(0)**"
      ],
      "metadata": {
        "id": "whUosahw9Z3p"
      }
    },
    {
      "cell_type": "code",
      "source": [],
      "metadata": {
        "id": "d7eS4lr-a4gJ"
      },
      "execution_count": null,
      "outputs": []
    },
    {
      "cell_type": "markdown",
      "source": [
        "**df.fillna(df.mean())**"
      ],
      "metadata": {
        "id": "6iqtHEkK9kmp"
      }
    },
    {
      "cell_type": "code",
      "source": [],
      "metadata": {
        "id": "uOWumT7xa47_"
      },
      "execution_count": null,
      "outputs": []
    },
    {
      "cell_type": "markdown",
      "source": [
        "**df.fillna(df.median())**"
      ],
      "metadata": {
        "id": "bYGvQmoN9zxF"
      }
    },
    {
      "cell_type": "code",
      "source": [],
      "metadata": {
        "id": "iNRF3A72a6dv"
      },
      "execution_count": null,
      "outputs": []
    },
    {
      "cell_type": "markdown",
      "source": [
        "**df.fillna(method='ffill')**"
      ],
      "metadata": {
        "id": "JnKIqDIN-Dz4"
      }
    },
    {
      "cell_type": "code",
      "source": [],
      "metadata": {
        "id": "O0c_aL9ca7wf"
      },
      "execution_count": null,
      "outputs": []
    },
    {
      "cell_type": "markdown",
      "source": [
        "**df.fillna(method='bfill')**"
      ],
      "metadata": {
        "id": "4TtS7jLs-QEH"
      }
    },
    {
      "cell_type": "code",
      "source": [],
      "metadata": {
        "id": "TUeHR0Rca9p8"
      },
      "execution_count": null,
      "outputs": []
    },
    {
      "cell_type": "markdown",
      "source": [
        "**df.interpolate()**"
      ],
      "metadata": {
        "id": "vt7ZllQu-mN5"
      }
    },
    {
      "cell_type": "code",
      "source": [],
      "metadata": {
        "id": "UkX-JgmBa-lJ"
      },
      "execution_count": null,
      "outputs": []
    },
    {
      "cell_type": "markdown",
      "source": [
        "**Fill df**"
      ],
      "metadata": {
        "id": "Fb_MkActPgXk"
      }
    },
    {
      "cell_type": "code",
      "source": [],
      "metadata": {
        "id": "rNekYORcbBMx"
      },
      "execution_count": null,
      "outputs": []
    },
    {
      "cell_type": "markdown",
      "source": [
        "### Handling Outliers"
      ],
      "metadata": {
        "id": "cjRaO05xF--i"
      }
    },
    {
      "cell_type": "markdown",
      "source": [
        "**Detecting outliers using Interquartile Range (IQR)**"
      ],
      "metadata": {
        "id": "EQ1dq2rMJ0XS"
      }
    },
    {
      "cell_type": "code",
      "source": [],
      "metadata": {
        "id": "KQWgWd1bbDuW"
      },
      "execution_count": null,
      "outputs": []
    },
    {
      "cell_type": "markdown",
      "source": [
        "### Identifying the Highest-Paid Employees by Country\n"
      ],
      "metadata": {
        "id": "eLrfX6mQMLjs"
      }
    },
    {
      "cell_type": "code",
      "source": [],
      "metadata": {
        "id": "cEY9FoRlbFeG"
      },
      "execution_count": null,
      "outputs": []
    },
    {
      "cell_type": "markdown",
      "source": [
        "### Calculating Average Age of Employees"
      ],
      "metadata": {
        "id": "oVHhq8dASVra"
      }
    },
    {
      "cell_type": "code",
      "source": [],
      "metadata": {
        "id": "GBqK6Y5ubGe5"
      },
      "execution_count": null,
      "outputs": []
    }
  ]
}