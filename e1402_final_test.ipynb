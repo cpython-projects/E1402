{
  "nbformat": 4,
  "nbformat_minor": 0,
  "metadata": {
    "colab": {
      "provenance": [],
      "authorship_tag": "ABX9TyMXo4g5bwQxSzVv2nqdPXKK",
      "include_colab_link": true
    },
    "kernelspec": {
      "name": "python3",
      "display_name": "Python 3"
    },
    "language_info": {
      "name": "python"
    }
  },
  "cells": [
    {
      "cell_type": "markdown",
      "metadata": {
        "id": "view-in-github",
        "colab_type": "text"
      },
      "source": [
        "<a href=\"https://colab.research.google.com/github/cpython-projects/E1402/blob/main/e1402_final_test.ipynb\" target=\"_parent\"><img src=\"https://colab.research.google.com/assets/colab-badge.svg\" alt=\"Open In Colab\"/></a>"
      ]
    },
    {
      "cell_type": "markdown",
      "source": [
        "## Business Task: Investigation of Declining Course Sales\n",
        "\n",
        "**Background**  \n",
        "Our company specializes in selling online programming courses, available for purchase year-round. We have synthetic sales data covering the period from *January 2023 to May 2025*.\n",
        "\n",
        "In *May 2025*, a significant decline in sales was observed. Senior management has expressed concern and requested an urgent analysis to determine the causes of this drop and provide actionable recommendations.\n",
        "\n",
        "**Objectives**\n",
        "\n",
        "1. Identify the primary reasons for the sales decline.\n",
        "2. Evaluate potential actions, such as:\n",
        "\n",
        "   * Adjusting marketing strategies\n",
        "   * Relaunching or updating courses\n",
        "   * Introducing discounts or special offers\n",
        "3. Provide data-driven recommendations for reversing the trend and increasing sales.\n",
        "\n",
        "**Scope of Work**\n",
        "\n",
        "* *Stage 1:* Initial Data Analysis (EDA)\n",
        "* *Stage 2:* In-depth Investigation\n",
        "* *Stage 3:* Conclusions & Recommendations\n",
        "\n",
        "  * Why did sales actually drop?\n",
        "  * Is any action required?\n",
        "  * Which measures should be prioritized?\n",
        "\n",
        "**Deliverables**\n",
        "\n",
        "1. Jupyter Notebook containing:\n",
        "\n",
        "   * Data cleaning and preparation\n",
        "   * Exploratory Data Analysis with visualizations\n",
        "   * Key statistical findings\n",
        "2. Google Presentation for the CEO including:\n",
        "\n",
        "   * Brief description of the task and data sources\n",
        "   * Key findings in clear, business-friendly language\n",
        "   * 3–5 actionable recommendations to increase sales\n",
        "   * Estimated potential impact of implementing recommendations\n",
        "\n",
        "**Expected Outcome**\n",
        "A clear understanding of the sales drop causes and a set of well-supported strategic recommendations to improve sales performance in the coming months."
      ],
      "metadata": {
        "id": "IB-On2Cix55Q"
      }
    }
  ]
}