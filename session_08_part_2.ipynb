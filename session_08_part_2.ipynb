{
 "cells": [
  {
   "cell_type": "markdown",
   "id": "d9276a6c",
   "metadata": {},
   "source": [
    "# Practical Session: Working with Polars on a 9GB E-Commerce Dataset\n",
    "\n",
    "---\n",
    "\n",
    "## Introduction\n",
    "In this hands-on session, we will explore **Polars**, a high-performance DataFrame library in Python. \n",
    "Polars is designed for fast and memory-efficient data processing, and in this session, we will apply it \n",
    "to a **9GB CSV file** containing e-commerce behavior data from [Kaggle](https://www.kaggle.com/mkechinov/ecommerce-behavior-data-from-multi-category-store).\n",
    "\n",
    "The dataset records user activity on an online store, including page views, cart additions, and purchases. \n",
    "We will use Polars to explore, clean, and analyze this data step by step.\n"
   ]
  },
  {
   "cell_type": "markdown",
   "id": "5c4e1cc3",
   "metadata": {},
   "source": [
    "## Step 1: Installation of Polars"
   ]
  },
  {
   "cell_type": "code",
   "execution_count": null,
   "id": "248ce3ee",
   "metadata": {},
   "outputs": [],
   "source": []
  },
  {
   "cell_type": "markdown",
   "id": "067e55a8",
   "metadata": {},
   "source": [
    "## Step 2: Importing Polars"
   ]
  },
  {
   "cell_type": "code",
   "execution_count": null,
   "id": "c9618d27",
   "metadata": {},
   "outputs": [],
   "source": []
  },
  {
   "cell_type": "markdown",
   "id": "4a3b12c4",
   "metadata": {},
   "source": [
    "## Step 3: Reading the Dataset"
   ]
  },
  {
   "cell_type": "code",
   "execution_count": null,
   "id": "d385939d",
   "metadata": {},
   "outputs": [],
   "source": []
  },
  {
   "cell_type": "markdown",
   "id": "a21be45b",
   "metadata": {},
   "source": [
    "## Step 4: Exploring the DataFrame"
   ]
  },
  {
   "cell_type": "code",
   "execution_count": null,
   "id": "1c7fd010",
   "metadata": {},
   "outputs": [],
   "source": []
  },
  {
   "cell_type": "code",
   "execution_count": null,
   "id": "20d4d83f",
   "metadata": {},
   "outputs": [],
   "source": []
  },
  {
   "cell_type": "code",
   "execution_count": null,
   "id": "39a1df5c",
   "metadata": {},
   "outputs": [],
   "source": []
  },
  {
   "cell_type": "code",
   "execution_count": null,
   "id": "8df96138",
   "metadata": {},
   "outputs": [],
   "source": []
  },
  {
   "cell_type": "markdown",
   "id": "778935b5",
   "metadata": {},
   "source": [
    "## Step 5: Summary Statistics"
   ]
  },
  {
   "cell_type": "code",
   "execution_count": null,
   "id": "ec5ab7a1",
   "metadata": {},
   "outputs": [],
   "source": []
  },
  {
   "cell_type": "markdown",
   "id": "e31ce720",
   "metadata": {},
   "source": [
    "## Step 6: Sampling Rows"
   ]
  },
  {
   "cell_type": "code",
   "execution_count": null,
   "id": "c414427b",
   "metadata": {},
   "outputs": [],
   "source": []
  },
  {
   "cell_type": "code",
   "execution_count": null,
   "id": "b280ef8c",
   "metadata": {},
   "outputs": [],
   "source": []
  },
  {
   "cell_type": "markdown",
   "id": "ef53e5cd",
   "metadata": {},
   "source": [
    "## Step 7: Indexing and Selection"
   ]
  },
  {
   "cell_type": "code",
   "execution_count": null,
   "id": "98c139ae",
   "metadata": {},
   "outputs": [],
   "source": []
  },
  {
   "cell_type": "code",
   "execution_count": null,
   "id": "def9d34f",
   "metadata": {},
   "outputs": [],
   "source": []
  },
  {
   "cell_type": "markdown",
   "id": "f3f14424",
   "metadata": {},
   "source": [
    "## Step 8: Using `select` for Column Projection"
   ]
  },
  {
   "cell_type": "code",
   "execution_count": null,
   "id": "e55e1628",
   "metadata": {},
   "outputs": [],
   "source": []
  },
  {
   "cell_type": "markdown",
   "id": "a540b7cf",
   "metadata": {},
   "source": [
    "## Step 9: Filtering Rows"
   ]
  },
  {
   "cell_type": "code",
   "execution_count": null,
   "id": "bebe7b5f",
   "metadata": {},
   "outputs": [],
   "source": []
  },
  {
   "cell_type": "code",
   "execution_count": null,
   "id": "075ccd16",
   "metadata": {},
   "outputs": [],
   "source": []
  },
  {
   "cell_type": "markdown",
   "id": "84872f85",
   "metadata": {},
   "source": [
    "## Step 10: Creating New Columns"
   ]
  },
  {
   "cell_type": "code",
   "execution_count": null,
   "id": "9636e54f",
   "metadata": {},
   "outputs": [],
   "source": []
  },
  {
   "cell_type": "markdown",
   "id": "e40a85a2",
   "metadata": {},
   "source": [
    "## Step 11: Filtering with `is_in`"
   ]
  },
  {
   "cell_type": "code",
   "execution_count": null,
   "id": "b08fe22f",
   "metadata": {},
   "outputs": [],
   "source": []
  },
  {
   "cell_type": "markdown",
   "id": "889940a1",
   "metadata": {},
   "source": [
    "## Step 12: Unique Values"
   ]
  },
  {
   "cell_type": "code",
   "execution_count": null,
   "id": "40bd7db8",
   "metadata": {},
   "outputs": [],
   "source": []
  },
  {
   "cell_type": "markdown",
   "id": "90c0c070",
   "metadata": {},
   "source": [
    "## Step 13: Column Statistics"
   ]
  },
  {
   "cell_type": "code",
   "execution_count": null,
   "id": "80e67a2d",
   "metadata": {},
   "outputs": [],
   "source": []
  },
  {
   "cell_type": "markdown",
   "id": "58c76525",
   "metadata": {},
   "source": [
    "## Step 14: Percentiles"
   ]
  },
  {
   "cell_type": "code",
   "execution_count": null,
   "id": "c822aa0f",
   "metadata": {},
   "outputs": [],
   "source": []
  },
  {
   "cell_type": "markdown",
   "id": "265bb4b1",
   "metadata": {},
   "source": [
    "## Step 15: Grouping and Aggregation"
   ]
  },
  {
   "cell_type": "code",
   "execution_count": null,
   "id": "5543feaf",
   "metadata": {},
   "outputs": [],
   "source": []
  },
  {
   "cell_type": "markdown",
   "id": "6c307a1e",
   "metadata": {},
   "source": [
    "## Step 16: Lazy Evaluation"
   ]
  },
  {
   "cell_type": "code",
   "execution_count": null,
   "id": "dc0f5c84",
   "metadata": {},
   "outputs": [],
   "source": []
  },
  {
   "cell_type": "markdown",
   "id": "dc5c7b68",
   "metadata": {},
   "source": [
    "## Step 17: Visualization with Plotly"
   ]
  },
  {
   "cell_type": "code",
   "execution_count": null,
   "id": "0468948c",
   "metadata": {},
   "outputs": [],
   "source": []
  },
  {
   "cell_type": "markdown",
   "id": "81363bb9-f026-4f23-b85c-422ea8f88ead",
   "metadata": {},
   "source": [
    "## Step 18: Transform to Parquet File"
   ]
  },
  {
   "cell_type": "code",
   "execution_count": null,
   "id": "c1ce5b49-5c1c-4caa-8a64-af65ef71ca3e",
   "metadata": {},
   "outputs": [],
   "source": []
  }
 ],
 "metadata": {
  "kernelspec": {
   "display_name": "Python 3 (ipykernel)",
   "language": "python",
   "name": "python3"
  },
  "language_info": {
   "codemirror_mode": {
    "name": "ipython",
    "version": 3
   },
   "file_extension": ".py",
   "mimetype": "text/x-python",
   "name": "python",
   "nbconvert_exporter": "python",
   "pygments_lexer": "ipython3",
   "version": "3.13.3"
  }
 },
 "nbformat": 4,
 "nbformat_minor": 5
}
