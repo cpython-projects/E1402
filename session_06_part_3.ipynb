{
  "nbformat": 4,
  "nbformat_minor": 0,
  "metadata": {
    "colab": {
      "provenance": [],
      "toc_visible": true,
      "include_colab_link": true
    },
    "kernelspec": {
      "name": "python3",
      "display_name": "Python 3"
    },
    "language_info": {
      "name": "python"
    }
  },
  "cells": [
    {
      "cell_type": "markdown",
      "metadata": {
        "id": "view-in-github",
        "colab_type": "text"
      },
      "source": [
        "<a href=\"https://colab.research.google.com/github/cpython-projects/E1402/blob/main/session_06_part_3.ipynb\" target=\"_parent\"><img src=\"https://colab.research.google.com/assets/colab-badge.svg\" alt=\"Open In Colab\"/></a>"
      ]
    },
    {
      "cell_type": "markdown",
      "source": [
        "### Grouping and Aggregating Data\n",
        "\n",
        "You are given an e-commerce dataset (`ecommerce_data.csv`).\n",
        "---"
      ],
      "metadata": {
        "id": "XyL-ODRMMoFM"
      }
    },
    {
      "cell_type": "markdown",
      "source": [
        "### E-commerce Legend\n",
        "\n",
        "\n",
        "| Column Name         | Description |\n",
        "|---------------------|-------------|\n",
        "| `order_id`          | Unique identifier for each order |\n",
        "| `customer_id`       | Unique identifier for the customer |\n",
        "| `order_date`        | Date when the order was placed |\n",
        "| `product_id`        | Unique identifier for the product |\n",
        "| `product_name`      | Name of the purchased product |\n",
        "| `category`          | Product category (e.g. Electronics, Fashion) |\n",
        "| `price`             | Unit price of the product (in USD) |\n",
        "| `quantity`          | Quantity of the product ordered |\n",
        "| `weight`            | Weight of the product (e.g., \"0.5kg\") |\n",
        "| `discount`          | Discount applied on the product (in decimal, e.g. 0.15 = 15%) |\n",
        "| `shipping_cost`     | Cost to ship the product |\n",
        "| `payment_method`    | Method used for payment (e.g., Credit Card, PayPal, Debit) |\n",
        "| `delivery_status`   | Status of delivery (e.g., Delivered, Shipped, Processing) |\n",
        "| `customer_city`     | Customer's city |\n",
        "| `customer_state`    | Customer's state |\n",
        "| `customer_country`  | Customer's country |\n",
        "| `return_requested`  | 1 if a return was requested, 0 otherwise |\n",
        "| `review_score`      | Customer review rating (1 to 5) |\n",
        "| `days_to_deliver`   | Number of days it took to deliver the product |\n",
        "\n",
        "---"
      ],
      "metadata": {
        "id": "29TNAzSxNG6F"
      }
    },
    {
      "cell_type": "markdown",
      "source": [
        "### Data Reading"
      ],
      "metadata": {
        "id": "ySGbKViANR-p"
      }
    },
    {
      "cell_type": "code",
      "source": [
        "import pandas as pd\n",
        "df = pd.read_csv('https://raw.githubusercontent.com/cpython-projects/E1402/refs/heads/main/ecommerce_data.csv')\n",
        "df.head()"
      ],
      "metadata": {
        "colab": {
          "base_uri": "https://localhost:8080/",
          "height": 243
        },
        "id": "3iqeSU-z3NY-",
        "outputId": "3dbb7454-ee13-4847-c8a0-7d4c234636b9"
      },
      "execution_count": null,
      "outputs": [
        {
          "output_type": "execute_result",
          "data": {
            "text/plain": [
              "   order_id customer_id  order_date product_id      product_name     category  \\\n",
              "0      1001        C101  2023-01-15       P001      Smartphone X  Electronics   \n",
              "1      1002        C102  2023-01-16       P002        Laptop Pro  Electronics   \n",
              "2      1003        C103  2023-01-17       P003  Wireless Earbuds  Electronics   \n",
              "3      1004        C104  2023-01-18       P004       Smart Watch  Electronics   \n",
              "4      1005        C105  2023-01-19       P005       Tablet Mini  Electronics   \n",
              "\n",
              "     price  quantity weight  discount  shipping_cost payment_method  \\\n",
              "0   599.99         1  0.5kg      0.10           5.99    Credit Card   \n",
              "1  1299.99         1  2.2kg      0.15          12.99         paypal   \n",
              "2    79.99         2  0.1kg      0.00            NaN    Credit Card   \n",
              "3   199.99         1  0.3kg      0.05           4.99          debit   \n",
              "4   299.99         1  0.7kg       NaN           6.99         credit   \n",
              "\n",
              "  delivery_status customer_city customer_state customer_country  \\\n",
              "0       Delivered      New York             NY              USA   \n",
              "1       Delivered   los angeles             CA              USA   \n",
              "2         Shipped       Chicago             IL              USA   \n",
              "3       Delivered       Houston             TX              USA   \n",
              "4      Processing       PHOENIX             AZ              USA   \n",
              "\n",
              "   return_requested  review_score  days_to_deliver  \n",
              "0                 0           5.0              3.0  \n",
              "1                 1           4.0              5.0  \n",
              "2                 0           NaN              NaN  \n",
              "3                 0           5.0              4.0  \n",
              "4                 1           2.0              NaN  "
            ],
            "text/html": [
              "\n",
              "  <div id=\"df-37c5d264-407f-4181-be6d-90860afeb220\" class=\"colab-df-container\">\n",
              "    <div>\n",
              "<style scoped>\n",
              "    .dataframe tbody tr th:only-of-type {\n",
              "        vertical-align: middle;\n",
              "    }\n",
              "\n",
              "    .dataframe tbody tr th {\n",
              "        vertical-align: top;\n",
              "    }\n",
              "\n",
              "    .dataframe thead th {\n",
              "        text-align: right;\n",
              "    }\n",
              "</style>\n",
              "<table border=\"1\" class=\"dataframe\">\n",
              "  <thead>\n",
              "    <tr style=\"text-align: right;\">\n",
              "      <th></th>\n",
              "      <th>order_id</th>\n",
              "      <th>customer_id</th>\n",
              "      <th>order_date</th>\n",
              "      <th>product_id</th>\n",
              "      <th>product_name</th>\n",
              "      <th>category</th>\n",
              "      <th>price</th>\n",
              "      <th>quantity</th>\n",
              "      <th>weight</th>\n",
              "      <th>discount</th>\n",
              "      <th>shipping_cost</th>\n",
              "      <th>payment_method</th>\n",
              "      <th>delivery_status</th>\n",
              "      <th>customer_city</th>\n",
              "      <th>customer_state</th>\n",
              "      <th>customer_country</th>\n",
              "      <th>return_requested</th>\n",
              "      <th>review_score</th>\n",
              "      <th>days_to_deliver</th>\n",
              "    </tr>\n",
              "  </thead>\n",
              "  <tbody>\n",
              "    <tr>\n",
              "      <th>0</th>\n",
              "      <td>1001</td>\n",
              "      <td>C101</td>\n",
              "      <td>2023-01-15</td>\n",
              "      <td>P001</td>\n",
              "      <td>Smartphone X</td>\n",
              "      <td>Electronics</td>\n",
              "      <td>599.99</td>\n",
              "      <td>1</td>\n",
              "      <td>0.5kg</td>\n",
              "      <td>0.10</td>\n",
              "      <td>5.99</td>\n",
              "      <td>Credit Card</td>\n",
              "      <td>Delivered</td>\n",
              "      <td>New York</td>\n",
              "      <td>NY</td>\n",
              "      <td>USA</td>\n",
              "      <td>0</td>\n",
              "      <td>5.0</td>\n",
              "      <td>3.0</td>\n",
              "    </tr>\n",
              "    <tr>\n",
              "      <th>1</th>\n",
              "      <td>1002</td>\n",
              "      <td>C102</td>\n",
              "      <td>2023-01-16</td>\n",
              "      <td>P002</td>\n",
              "      <td>Laptop Pro</td>\n",
              "      <td>Electronics</td>\n",
              "      <td>1299.99</td>\n",
              "      <td>1</td>\n",
              "      <td>2.2kg</td>\n",
              "      <td>0.15</td>\n",
              "      <td>12.99</td>\n",
              "      <td>paypal</td>\n",
              "      <td>Delivered</td>\n",
              "      <td>los angeles</td>\n",
              "      <td>CA</td>\n",
              "      <td>USA</td>\n",
              "      <td>1</td>\n",
              "      <td>4.0</td>\n",
              "      <td>5.0</td>\n",
              "    </tr>\n",
              "    <tr>\n",
              "      <th>2</th>\n",
              "      <td>1003</td>\n",
              "      <td>C103</td>\n",
              "      <td>2023-01-17</td>\n",
              "      <td>P003</td>\n",
              "      <td>Wireless Earbuds</td>\n",
              "      <td>Electronics</td>\n",
              "      <td>79.99</td>\n",
              "      <td>2</td>\n",
              "      <td>0.1kg</td>\n",
              "      <td>0.00</td>\n",
              "      <td>NaN</td>\n",
              "      <td>Credit Card</td>\n",
              "      <td>Shipped</td>\n",
              "      <td>Chicago</td>\n",
              "      <td>IL</td>\n",
              "      <td>USA</td>\n",
              "      <td>0</td>\n",
              "      <td>NaN</td>\n",
              "      <td>NaN</td>\n",
              "    </tr>\n",
              "    <tr>\n",
              "      <th>3</th>\n",
              "      <td>1004</td>\n",
              "      <td>C104</td>\n",
              "      <td>2023-01-18</td>\n",
              "      <td>P004</td>\n",
              "      <td>Smart Watch</td>\n",
              "      <td>Electronics</td>\n",
              "      <td>199.99</td>\n",
              "      <td>1</td>\n",
              "      <td>0.3kg</td>\n",
              "      <td>0.05</td>\n",
              "      <td>4.99</td>\n",
              "      <td>debit</td>\n",
              "      <td>Delivered</td>\n",
              "      <td>Houston</td>\n",
              "      <td>TX</td>\n",
              "      <td>USA</td>\n",
              "      <td>0</td>\n",
              "      <td>5.0</td>\n",
              "      <td>4.0</td>\n",
              "    </tr>\n",
              "    <tr>\n",
              "      <th>4</th>\n",
              "      <td>1005</td>\n",
              "      <td>C105</td>\n",
              "      <td>2023-01-19</td>\n",
              "      <td>P005</td>\n",
              "      <td>Tablet Mini</td>\n",
              "      <td>Electronics</td>\n",
              "      <td>299.99</td>\n",
              "      <td>1</td>\n",
              "      <td>0.7kg</td>\n",
              "      <td>NaN</td>\n",
              "      <td>6.99</td>\n",
              "      <td>credit</td>\n",
              "      <td>Processing</td>\n",
              "      <td>PHOENIX</td>\n",
              "      <td>AZ</td>\n",
              "      <td>USA</td>\n",
              "      <td>1</td>\n",
              "      <td>2.0</td>\n",
              "      <td>NaN</td>\n",
              "    </tr>\n",
              "  </tbody>\n",
              "</table>\n",
              "</div>\n",
              "    <div class=\"colab-df-buttons\">\n",
              "\n",
              "  <div class=\"colab-df-container\">\n",
              "    <button class=\"colab-df-convert\" onclick=\"convertToInteractive('df-37c5d264-407f-4181-be6d-90860afeb220')\"\n",
              "            title=\"Convert this dataframe to an interactive table.\"\n",
              "            style=\"display:none;\">\n",
              "\n",
              "  <svg xmlns=\"http://www.w3.org/2000/svg\" height=\"24px\" viewBox=\"0 -960 960 960\">\n",
              "    <path d=\"M120-120v-720h720v720H120Zm60-500h600v-160H180v160Zm220 220h160v-160H400v160Zm0 220h160v-160H400v160ZM180-400h160v-160H180v160Zm440 0h160v-160H620v160ZM180-180h160v-160H180v160Zm440 0h160v-160H620v160Z\"/>\n",
              "  </svg>\n",
              "    </button>\n",
              "\n",
              "  <style>\n",
              "    .colab-df-container {\n",
              "      display:flex;\n",
              "      gap: 12px;\n",
              "    }\n",
              "\n",
              "    .colab-df-convert {\n",
              "      background-color: #E8F0FE;\n",
              "      border: none;\n",
              "      border-radius: 50%;\n",
              "      cursor: pointer;\n",
              "      display: none;\n",
              "      fill: #1967D2;\n",
              "      height: 32px;\n",
              "      padding: 0 0 0 0;\n",
              "      width: 32px;\n",
              "    }\n",
              "\n",
              "    .colab-df-convert:hover {\n",
              "      background-color: #E2EBFA;\n",
              "      box-shadow: 0px 1px 2px rgba(60, 64, 67, 0.3), 0px 1px 3px 1px rgba(60, 64, 67, 0.15);\n",
              "      fill: #174EA6;\n",
              "    }\n",
              "\n",
              "    .colab-df-buttons div {\n",
              "      margin-bottom: 4px;\n",
              "    }\n",
              "\n",
              "    [theme=dark] .colab-df-convert {\n",
              "      background-color: #3B4455;\n",
              "      fill: #D2E3FC;\n",
              "    }\n",
              "\n",
              "    [theme=dark] .colab-df-convert:hover {\n",
              "      background-color: #434B5C;\n",
              "      box-shadow: 0px 1px 3px 1px rgba(0, 0, 0, 0.15);\n",
              "      filter: drop-shadow(0px 1px 2px rgba(0, 0, 0, 0.3));\n",
              "      fill: #FFFFFF;\n",
              "    }\n",
              "  </style>\n",
              "\n",
              "    <script>\n",
              "      const buttonEl =\n",
              "        document.querySelector('#df-37c5d264-407f-4181-be6d-90860afeb220 button.colab-df-convert');\n",
              "      buttonEl.style.display =\n",
              "        google.colab.kernel.accessAllowed ? 'block' : 'none';\n",
              "\n",
              "      async function convertToInteractive(key) {\n",
              "        const element = document.querySelector('#df-37c5d264-407f-4181-be6d-90860afeb220');\n",
              "        const dataTable =\n",
              "          await google.colab.kernel.invokeFunction('convertToInteractive',\n",
              "                                                    [key], {});\n",
              "        if (!dataTable) return;\n",
              "\n",
              "        const docLinkHtml = 'Like what you see? Visit the ' +\n",
              "          '<a target=\"_blank\" href=https://colab.research.google.com/notebooks/data_table.ipynb>data table notebook</a>'\n",
              "          + ' to learn more about interactive tables.';\n",
              "        element.innerHTML = '';\n",
              "        dataTable['output_type'] = 'display_data';\n",
              "        await google.colab.output.renderOutput(dataTable, element);\n",
              "        const docLink = document.createElement('div');\n",
              "        docLink.innerHTML = docLinkHtml;\n",
              "        element.appendChild(docLink);\n",
              "      }\n",
              "    </script>\n",
              "  </div>\n",
              "\n",
              "\n",
              "    <div id=\"df-e3bb3a44-932d-4a2b-ac81-774d649ece13\">\n",
              "      <button class=\"colab-df-quickchart\" onclick=\"quickchart('df-e3bb3a44-932d-4a2b-ac81-774d649ece13')\"\n",
              "                title=\"Suggest charts\"\n",
              "                style=\"display:none;\">\n",
              "\n",
              "<svg xmlns=\"http://www.w3.org/2000/svg\" height=\"24px\"viewBox=\"0 0 24 24\"\n",
              "     width=\"24px\">\n",
              "    <g>\n",
              "        <path d=\"M19 3H5c-1.1 0-2 .9-2 2v14c0 1.1.9 2 2 2h14c1.1 0 2-.9 2-2V5c0-1.1-.9-2-2-2zM9 17H7v-7h2v7zm4 0h-2V7h2v10zm4 0h-2v-4h2v4z\"/>\n",
              "    </g>\n",
              "</svg>\n",
              "      </button>\n",
              "\n",
              "<style>\n",
              "  .colab-df-quickchart {\n",
              "      --bg-color: #E8F0FE;\n",
              "      --fill-color: #1967D2;\n",
              "      --hover-bg-color: #E2EBFA;\n",
              "      --hover-fill-color: #174EA6;\n",
              "      --disabled-fill-color: #AAA;\n",
              "      --disabled-bg-color: #DDD;\n",
              "  }\n",
              "\n",
              "  [theme=dark] .colab-df-quickchart {\n",
              "      --bg-color: #3B4455;\n",
              "      --fill-color: #D2E3FC;\n",
              "      --hover-bg-color: #434B5C;\n",
              "      --hover-fill-color: #FFFFFF;\n",
              "      --disabled-bg-color: #3B4455;\n",
              "      --disabled-fill-color: #666;\n",
              "  }\n",
              "\n",
              "  .colab-df-quickchart {\n",
              "    background-color: var(--bg-color);\n",
              "    border: none;\n",
              "    border-radius: 50%;\n",
              "    cursor: pointer;\n",
              "    display: none;\n",
              "    fill: var(--fill-color);\n",
              "    height: 32px;\n",
              "    padding: 0;\n",
              "    width: 32px;\n",
              "  }\n",
              "\n",
              "  .colab-df-quickchart:hover {\n",
              "    background-color: var(--hover-bg-color);\n",
              "    box-shadow: 0 1px 2px rgba(60, 64, 67, 0.3), 0 1px 3px 1px rgba(60, 64, 67, 0.15);\n",
              "    fill: var(--button-hover-fill-color);\n",
              "  }\n",
              "\n",
              "  .colab-df-quickchart-complete:disabled,\n",
              "  .colab-df-quickchart-complete:disabled:hover {\n",
              "    background-color: var(--disabled-bg-color);\n",
              "    fill: var(--disabled-fill-color);\n",
              "    box-shadow: none;\n",
              "  }\n",
              "\n",
              "  .colab-df-spinner {\n",
              "    border: 2px solid var(--fill-color);\n",
              "    border-color: transparent;\n",
              "    border-bottom-color: var(--fill-color);\n",
              "    animation:\n",
              "      spin 1s steps(1) infinite;\n",
              "  }\n",
              "\n",
              "  @keyframes spin {\n",
              "    0% {\n",
              "      border-color: transparent;\n",
              "      border-bottom-color: var(--fill-color);\n",
              "      border-left-color: var(--fill-color);\n",
              "    }\n",
              "    20% {\n",
              "      border-color: transparent;\n",
              "      border-left-color: var(--fill-color);\n",
              "      border-top-color: var(--fill-color);\n",
              "    }\n",
              "    30% {\n",
              "      border-color: transparent;\n",
              "      border-left-color: var(--fill-color);\n",
              "      border-top-color: var(--fill-color);\n",
              "      border-right-color: var(--fill-color);\n",
              "    }\n",
              "    40% {\n",
              "      border-color: transparent;\n",
              "      border-right-color: var(--fill-color);\n",
              "      border-top-color: var(--fill-color);\n",
              "    }\n",
              "    60% {\n",
              "      border-color: transparent;\n",
              "      border-right-color: var(--fill-color);\n",
              "    }\n",
              "    80% {\n",
              "      border-color: transparent;\n",
              "      border-right-color: var(--fill-color);\n",
              "      border-bottom-color: var(--fill-color);\n",
              "    }\n",
              "    90% {\n",
              "      border-color: transparent;\n",
              "      border-bottom-color: var(--fill-color);\n",
              "    }\n",
              "  }\n",
              "</style>\n",
              "\n",
              "      <script>\n",
              "        async function quickchart(key) {\n",
              "          const quickchartButtonEl =\n",
              "            document.querySelector('#' + key + ' button');\n",
              "          quickchartButtonEl.disabled = true;  // To prevent multiple clicks.\n",
              "          quickchartButtonEl.classList.add('colab-df-spinner');\n",
              "          try {\n",
              "            const charts = await google.colab.kernel.invokeFunction(\n",
              "                'suggestCharts', [key], {});\n",
              "          } catch (error) {\n",
              "            console.error('Error during call to suggestCharts:', error);\n",
              "          }\n",
              "          quickchartButtonEl.classList.remove('colab-df-spinner');\n",
              "          quickchartButtonEl.classList.add('colab-df-quickchart-complete');\n",
              "        }\n",
              "        (() => {\n",
              "          let quickchartButtonEl =\n",
              "            document.querySelector('#df-e3bb3a44-932d-4a2b-ac81-774d649ece13 button');\n",
              "          quickchartButtonEl.style.display =\n",
              "            google.colab.kernel.accessAllowed ? 'block' : 'none';\n",
              "        })();\n",
              "      </script>\n",
              "    </div>\n",
              "\n",
              "    </div>\n",
              "  </div>\n"
            ],
            "application/vnd.google.colaboratory.intrinsic+json": {
              "type": "dataframe",
              "variable_name": "df",
              "summary": "{\n  \"name\": \"df\",\n  \"rows\": 40,\n  \"fields\": [\n    {\n      \"column\": \"order_id\",\n      \"properties\": {\n        \"dtype\": \"number\",\n        \"std\": 156,\n        \"min\": 1001,\n        \"max\": 2006,\n        \"num_unique_values\": 31,\n        \"samples\": [\n          1028,\n          1016,\n          1024\n        ],\n        \"semantic_type\": \"\",\n        \"description\": \"\"\n      }\n    },\n    {\n      \"column\": \"customer_id\",\n      \"properties\": {\n        \"dtype\": \"string\",\n        \"num_unique_values\": 29,\n        \"samples\": [\n          \"C129\",\n          \"C117\",\n          \"C113\"\n        ],\n        \"semantic_type\": \"\",\n        \"description\": \"\"\n      }\n    },\n    {\n      \"column\": \"order_date\",\n      \"properties\": {\n        \"dtype\": \"object\",\n        \"num_unique_values\": 30,\n        \"samples\": [\n          \"2023-02-11\",\n          \"2023-01-30\",\n          \"2023-02-07\"\n        ],\n        \"semantic_type\": \"\",\n        \"description\": \"\"\n      }\n    },\n    {\n      \"column\": \"product_id\",\n      \"properties\": {\n        \"dtype\": \"string\",\n        \"num_unique_values\": 29,\n        \"samples\": [\n          \"P029\",\n          \"P017\",\n          \"P013\"\n        ],\n        \"semantic_type\": \"\",\n        \"description\": \"\"\n      }\n    },\n    {\n      \"column\": \"product_name\",\n      \"properties\": {\n        \"dtype\": \"string\",\n        \"num_unique_values\": 29,\n        \"samples\": [\n          \"VR Headset\",\n          \"Projector\",\n          \"Wireless Mouse\"\n        ],\n        \"semantic_type\": \"\",\n        \"description\": \"\"\n      }\n    },\n    {\n      \"column\": \"category\",\n      \"properties\": {\n        \"dtype\": \"category\",\n        \"num_unique_values\": 2,\n        \"samples\": [\n          \"Smart Home\",\n          \"Electronics\"\n        ],\n        \"semantic_type\": \"\",\n        \"description\": \"\"\n      }\n    },\n    {\n      \"column\": \"price\",\n      \"properties\": {\n        \"dtype\": \"number\",\n        \"std\": 273.0689485112243,\n        \"min\": 24.99,\n        \"max\": 1299.99,\n        \"num_unique_values\": 21,\n        \"samples\": [\n          599.99,\n          69.99\n        ],\n        \"semantic_type\": \"\",\n        \"description\": \"\"\n      }\n    },\n    {\n      \"column\": \"quantity\",\n      \"properties\": {\n        \"dtype\": \"number\",\n        \"std\": 0,\n        \"min\": 1,\n        \"max\": 4,\n        \"num_unique_values\": 4,\n        \"samples\": [\n          2,\n          4\n        ],\n        \"semantic_type\": \"\",\n        \"description\": \"\"\n      }\n    },\n    {\n      \"column\": \"weight\",\n      \"properties\": {\n        \"dtype\": \"category\",\n        \"num_unique_values\": 19,\n        \"samples\": [\n          \"0.5kg\",\n          \"1.1lbs\"\n        ],\n        \"semantic_type\": \"\",\n        \"description\": \"\"\n      }\n    },\n    {\n      \"column\": \"discount\",\n      \"properties\": {\n        \"dtype\": \"number\",\n        \"std\": 0.07371984389983056,\n        \"min\": 0.0,\n        \"max\": 0.25,\n        \"num_unique_values\": 6,\n        \"samples\": [\n          0.1,\n          0.15\n        ],\n        \"semantic_type\": \"\",\n        \"description\": \"\"\n      }\n    },\n    {\n      \"column\": \"shipping_cost\",\n      \"properties\": {\n        \"dtype\": \"number\",\n        \"std\": 5.005054916046744,\n        \"min\": 2.99,\n        \"max\": 19.99,\n        \"num_unique_values\": 11,\n        \"samples\": [\n          3.49,\n          5.99\n        ],\n        \"semantic_type\": \"\",\n        \"description\": \"\"\n      }\n    },\n    {\n      \"column\": \"payment_method\",\n      \"properties\": {\n        \"dtype\": \"category\",\n        \"num_unique_values\": 7,\n        \"samples\": [\n          \"Credit Card\",\n          \"paypal\"\n        ],\n        \"semantic_type\": \"\",\n        \"description\": \"\"\n      }\n    },\n    {\n      \"column\": \"delivery_status\",\n      \"properties\": {\n        \"dtype\": \"category\",\n        \"num_unique_values\": 6,\n        \"samples\": [\n          \"Delivered\",\n          \"Shipped\"\n        ],\n        \"semantic_type\": \"\",\n        \"description\": \"\"\n      }\n    },\n    {\n      \"column\": \"customer_city\",\n      \"properties\": {\n        \"dtype\": \"string\",\n        \"num_unique_values\": 30,\n        \"samples\": [\n          \"Oklahoma City\",\n          \"San Francisco\"\n        ],\n        \"semantic_type\": \"\",\n        \"description\": \"\"\n      }\n    },\n    {\n      \"column\": \"customer_state\",\n      \"properties\": {\n        \"dtype\": \"string\",\n        \"num_unique_values\": 20,\n        \"samples\": [\n          \"NY\",\n          \"OK\"\n        ],\n        \"semantic_type\": \"\",\n        \"description\": \"\"\n      }\n    },\n    {\n      \"column\": \"customer_country\",\n      \"properties\": {\n        \"dtype\": \"category\",\n        \"num_unique_values\": 3,\n        \"samples\": [\n          \"USA\",\n          \"U.S.A\"\n        ],\n        \"semantic_type\": \"\",\n        \"description\": \"\"\n      }\n    },\n    {\n      \"column\": \"return_requested\",\n      \"properties\": {\n        \"dtype\": \"number\",\n        \"std\": 0,\n        \"min\": 0,\n        \"max\": 1,\n        \"num_unique_values\": 2,\n        \"samples\": [\n          1,\n          0\n        ],\n        \"semantic_type\": \"\",\n        \"description\": \"\"\n      }\n    },\n    {\n      \"column\": \"review_score\",\n      \"properties\": {\n        \"dtype\": \"number\",\n        \"std\": 1.1024994234297238,\n        \"min\": 1.0,\n        \"max\": 5.0,\n        \"num_unique_values\": 5,\n        \"samples\": [\n          4.0,\n          1.0\n        ],\n        \"semantic_type\": \"\",\n        \"description\": \"\"\n      }\n    },\n    {\n      \"column\": \"days_to_deliver\",\n      \"properties\": {\n        \"dtype\": \"number\",\n        \"std\": 1.0235326314383177,\n        \"min\": 3.0,\n        \"max\": 6.0,\n        \"num_unique_values\": 4,\n        \"samples\": [\n          5.0,\n          6.0\n        ],\n        \"semantic_type\": \"\",\n        \"description\": \"\"\n      }\n    }\n  ]\n}"
            }
          },
          "metadata": {},
          "execution_count": 2
        }
      ]
    },
    {
      "cell_type": "code",
      "source": [
        "df.info()"
      ],
      "metadata": {
        "colab": {
          "base_uri": "https://localhost:8080/"
        },
        "id": "Tve7uCfP3dlg",
        "outputId": "f3a0498d-e257-4fcc-c350-b1ff742a99f5"
      },
      "execution_count": null,
      "outputs": [
        {
          "output_type": "stream",
          "name": "stdout",
          "text": [
            "<class 'pandas.core.frame.DataFrame'>\n",
            "RangeIndex: 40 entries, 0 to 39\n",
            "Data columns (total 19 columns):\n",
            " #   Column            Non-Null Count  Dtype  \n",
            "---  ------            --------------  -----  \n",
            " 0   order_id          40 non-null     int64  \n",
            " 1   customer_id       40 non-null     object \n",
            " 2   order_date        40 non-null     object \n",
            " 3   product_id        40 non-null     object \n",
            " 4   product_name      40 non-null     object \n",
            " 5   category          40 non-null     object \n",
            " 6   price             40 non-null     float64\n",
            " 7   quantity          40 non-null     int64  \n",
            " 8   weight            40 non-null     object \n",
            " 9   discount          26 non-null     float64\n",
            " 10  shipping_cost     30 non-null     float64\n",
            " 11  payment_method    40 non-null     object \n",
            " 12  delivery_status   40 non-null     object \n",
            " 13  customer_city     40 non-null     object \n",
            " 14  customer_state    40 non-null     object \n",
            " 15  customer_country  40 non-null     object \n",
            " 16  return_requested  40 non-null     int64  \n",
            " 17  review_score      38 non-null     float64\n",
            " 18  days_to_deliver   21 non-null     float64\n",
            "dtypes: float64(5), int64(3), object(11)\n",
            "memory usage: 6.1+ KB\n"
          ]
        }
      ]
    },
    {
      "cell_type": "markdown",
      "source": [
        "### Data Cleaning and Preparation"
      ],
      "metadata": {
        "id": "mxZR5jzt0qLe"
      }
    },
    {
      "cell_type": "code",
      "source": [
        "duplicate_rows = df.duplicated().sum()\n",
        "print(duplicate_rows)"
      ],
      "metadata": {
        "colab": {
          "base_uri": "https://localhost:8080/"
        },
        "id": "kxiytPsp4pxy",
        "outputId": "6b520464-4bb0-4ec4-f83d-eb0c15e642b5"
      },
      "execution_count": null,
      "outputs": [
        {
          "output_type": "stream",
          "name": "stdout",
          "text": [
            "5\n"
          ]
        }
      ]
    },
    {
      "cell_type": "code",
      "source": [
        "df = df.drop_duplicates()"
      ],
      "metadata": {
        "id": "CUvXiwrP4wEh"
      },
      "execution_count": null,
      "outputs": []
    },
    {
      "cell_type": "code",
      "source": [
        "df['discount'] = df.discount.fillna(0)\n",
        "\n",
        "shipping_cost_median = df.shipping_cost.median()\n",
        "df['shipping_cost'] = df.shipping_cost.fillna(shipping_cost_median)"
      ],
      "metadata": {
        "id": "Yl_z44nQ30by"
      },
      "execution_count": null,
      "outputs": []
    },
    {
      "cell_type": "code",
      "source": [
        "def convert_weight(x):\n",
        "    if not isinstance(x, str):\n",
        "        return x\n",
        "\n",
        "    if 'kg' in x:\n",
        "        return float(x.replace('kg', ''))\n",
        "    if 'lbs' in x:\n",
        "        return float(x.replace('lbs', '')) * 0.453592\n",
        "\n",
        "df['weight_kg'] = df.weight.apply(convert_weight)\n",
        "df.drop('weight', axis=1, inplace=True)"
      ],
      "metadata": {
        "id": "s830bcZd4Ry9"
      },
      "execution_count": null,
      "outputs": []
    },
    {
      "cell_type": "code",
      "source": [
        "# Standardize text fields\n",
        "df['payment_method'] = df['payment_method'].str.title()\n",
        "df['delivery_status'] = df['delivery_status'].str.title()\n",
        "df['customer_city'] = df['customer_city'].str.title()\n",
        "df['customer_country'] = df['customer_country'].replace(['U.S.A', 'United States'], 'USA')"
      ],
      "metadata": {
        "id": "gaW0YqFr4ZzW"
      },
      "execution_count": null,
      "outputs": []
    },
    {
      "cell_type": "code",
      "source": [
        "from dateutil import parser\n",
        "def date_parse(item):\n",
        "  if pd.notna(item):\n",
        "    return parser.parse(item).strftime('%Y-%m-%d')\n",
        "  return item\n",
        "df['order_date'] = df['order_date'].apply(date_parse)\n",
        "df['order_date'] = pd.to_datetime(df['order_date'], format='%Y-%m-%d')"
      ],
      "metadata": {
        "id": "h7hOOM2F5-zH"
      },
      "execution_count": null,
      "outputs": []
    },
    {
      "cell_type": "code",
      "source": [
        "df.describe()"
      ],
      "metadata": {
        "colab": {
          "base_uri": "https://localhost:8080/",
          "height": 337
        },
        "id": "wXG8YlS86gVX",
        "outputId": "9a34e9ce-95ab-43f5-9310-86958af2f89c"
      },
      "execution_count": null,
      "outputs": [
        {
          "output_type": "execute_result",
          "data": {
            "text/plain": [
              "          order_id                     order_date        price   quantity  \\\n",
              "count    35.000000                             35    35.000000  35.000000   \n",
              "mean   1044.114286  2023-01-29 13:01:42.857142784   268.704286   1.400000   \n",
              "min    1001.000000            2023-01-15 00:00:00    24.990000   1.000000   \n",
              "25%    1008.500000            2023-01-21 12:00:00    74.990000   1.000000   \n",
              "50%    1016.000000            2023-01-29 00:00:00   179.990000   1.000000   \n",
              "75%    1024.500000            2023-02-06 12:00:00   324.990000   1.000000   \n",
              "max    2006.000000            2023-02-13 00:00:00  1299.990000   4.000000   \n",
              "std     167.595938                            NaN   285.459750   0.811679   \n",
              "\n",
              "        discount  shipping_cost  return_requested  review_score  \\\n",
              "count  35.000000      35.000000         35.000000     33.000000   \n",
              "mean    0.050000       8.161429          0.142857      4.000000   \n",
              "min     0.000000       2.990000          0.000000      1.000000   \n",
              "25%     0.000000       5.490000          0.000000      4.000000   \n",
              "50%     0.000000       6.990000          0.000000      4.000000   \n",
              "75%     0.100000       8.990000          0.000000      5.000000   \n",
              "max     0.250000      19.990000          1.000000      5.000000   \n",
              "std     0.068599       3.964814          0.355036      1.118034   \n",
              "\n",
              "       days_to_deliver  weight_kg  \n",
              "count        20.000000  35.000000  \n",
              "mean          4.100000   1.808511  \n",
              "min           3.000000   0.050000  \n",
              "25%           3.000000   0.250000  \n",
              "50%           4.000000   0.500000  \n",
              "75%           5.000000   1.800000  \n",
              "max           6.000000  15.400000  \n",
              "std           1.020836   3.077948  "
            ],
            "text/html": [
              "\n",
              "  <div id=\"df-a944ea3a-6c66-44eb-876a-1a93728f0b3f\" class=\"colab-df-container\">\n",
              "    <div>\n",
              "<style scoped>\n",
              "    .dataframe tbody tr th:only-of-type {\n",
              "        vertical-align: middle;\n",
              "    }\n",
              "\n",
              "    .dataframe tbody tr th {\n",
              "        vertical-align: top;\n",
              "    }\n",
              "\n",
              "    .dataframe thead th {\n",
              "        text-align: right;\n",
              "    }\n",
              "</style>\n",
              "<table border=\"1\" class=\"dataframe\">\n",
              "  <thead>\n",
              "    <tr style=\"text-align: right;\">\n",
              "      <th></th>\n",
              "      <th>order_id</th>\n",
              "      <th>order_date</th>\n",
              "      <th>price</th>\n",
              "      <th>quantity</th>\n",
              "      <th>discount</th>\n",
              "      <th>shipping_cost</th>\n",
              "      <th>return_requested</th>\n",
              "      <th>review_score</th>\n",
              "      <th>days_to_deliver</th>\n",
              "      <th>weight_kg</th>\n",
              "    </tr>\n",
              "  </thead>\n",
              "  <tbody>\n",
              "    <tr>\n",
              "      <th>count</th>\n",
              "      <td>35.000000</td>\n",
              "      <td>35</td>\n",
              "      <td>35.000000</td>\n",
              "      <td>35.000000</td>\n",
              "      <td>35.000000</td>\n",
              "      <td>35.000000</td>\n",
              "      <td>35.000000</td>\n",
              "      <td>33.000000</td>\n",
              "      <td>20.000000</td>\n",
              "      <td>35.000000</td>\n",
              "    </tr>\n",
              "    <tr>\n",
              "      <th>mean</th>\n",
              "      <td>1044.114286</td>\n",
              "      <td>2023-01-29 13:01:42.857142784</td>\n",
              "      <td>268.704286</td>\n",
              "      <td>1.400000</td>\n",
              "      <td>0.050000</td>\n",
              "      <td>8.161429</td>\n",
              "      <td>0.142857</td>\n",
              "      <td>4.000000</td>\n",
              "      <td>4.100000</td>\n",
              "      <td>1.808511</td>\n",
              "    </tr>\n",
              "    <tr>\n",
              "      <th>min</th>\n",
              "      <td>1001.000000</td>\n",
              "      <td>2023-01-15 00:00:00</td>\n",
              "      <td>24.990000</td>\n",
              "      <td>1.000000</td>\n",
              "      <td>0.000000</td>\n",
              "      <td>2.990000</td>\n",
              "      <td>0.000000</td>\n",
              "      <td>1.000000</td>\n",
              "      <td>3.000000</td>\n",
              "      <td>0.050000</td>\n",
              "    </tr>\n",
              "    <tr>\n",
              "      <th>25%</th>\n",
              "      <td>1008.500000</td>\n",
              "      <td>2023-01-21 12:00:00</td>\n",
              "      <td>74.990000</td>\n",
              "      <td>1.000000</td>\n",
              "      <td>0.000000</td>\n",
              "      <td>5.490000</td>\n",
              "      <td>0.000000</td>\n",
              "      <td>4.000000</td>\n",
              "      <td>3.000000</td>\n",
              "      <td>0.250000</td>\n",
              "    </tr>\n",
              "    <tr>\n",
              "      <th>50%</th>\n",
              "      <td>1016.000000</td>\n",
              "      <td>2023-01-29 00:00:00</td>\n",
              "      <td>179.990000</td>\n",
              "      <td>1.000000</td>\n",
              "      <td>0.000000</td>\n",
              "      <td>6.990000</td>\n",
              "      <td>0.000000</td>\n",
              "      <td>4.000000</td>\n",
              "      <td>4.000000</td>\n",
              "      <td>0.500000</td>\n",
              "    </tr>\n",
              "    <tr>\n",
              "      <th>75%</th>\n",
              "      <td>1024.500000</td>\n",
              "      <td>2023-02-06 12:00:00</td>\n",
              "      <td>324.990000</td>\n",
              "      <td>1.000000</td>\n",
              "      <td>0.100000</td>\n",
              "      <td>8.990000</td>\n",
              "      <td>0.000000</td>\n",
              "      <td>5.000000</td>\n",
              "      <td>5.000000</td>\n",
              "      <td>1.800000</td>\n",
              "    </tr>\n",
              "    <tr>\n",
              "      <th>max</th>\n",
              "      <td>2006.000000</td>\n",
              "      <td>2023-02-13 00:00:00</td>\n",
              "      <td>1299.990000</td>\n",
              "      <td>4.000000</td>\n",
              "      <td>0.250000</td>\n",
              "      <td>19.990000</td>\n",
              "      <td>1.000000</td>\n",
              "      <td>5.000000</td>\n",
              "      <td>6.000000</td>\n",
              "      <td>15.400000</td>\n",
              "    </tr>\n",
              "    <tr>\n",
              "      <th>std</th>\n",
              "      <td>167.595938</td>\n",
              "      <td>NaN</td>\n",
              "      <td>285.459750</td>\n",
              "      <td>0.811679</td>\n",
              "      <td>0.068599</td>\n",
              "      <td>3.964814</td>\n",
              "      <td>0.355036</td>\n",
              "      <td>1.118034</td>\n",
              "      <td>1.020836</td>\n",
              "      <td>3.077948</td>\n",
              "    </tr>\n",
              "  </tbody>\n",
              "</table>\n",
              "</div>\n",
              "    <div class=\"colab-df-buttons\">\n",
              "\n",
              "  <div class=\"colab-df-container\">\n",
              "    <button class=\"colab-df-convert\" onclick=\"convertToInteractive('df-a944ea3a-6c66-44eb-876a-1a93728f0b3f')\"\n",
              "            title=\"Convert this dataframe to an interactive table.\"\n",
              "            style=\"display:none;\">\n",
              "\n",
              "  <svg xmlns=\"http://www.w3.org/2000/svg\" height=\"24px\" viewBox=\"0 -960 960 960\">\n",
              "    <path d=\"M120-120v-720h720v720H120Zm60-500h600v-160H180v160Zm220 220h160v-160H400v160Zm0 220h160v-160H400v160ZM180-400h160v-160H180v160Zm440 0h160v-160H620v160ZM180-180h160v-160H180v160Zm440 0h160v-160H620v160Z\"/>\n",
              "  </svg>\n",
              "    </button>\n",
              "\n",
              "  <style>\n",
              "    .colab-df-container {\n",
              "      display:flex;\n",
              "      gap: 12px;\n",
              "    }\n",
              "\n",
              "    .colab-df-convert {\n",
              "      background-color: #E8F0FE;\n",
              "      border: none;\n",
              "      border-radius: 50%;\n",
              "      cursor: pointer;\n",
              "      display: none;\n",
              "      fill: #1967D2;\n",
              "      height: 32px;\n",
              "      padding: 0 0 0 0;\n",
              "      width: 32px;\n",
              "    }\n",
              "\n",
              "    .colab-df-convert:hover {\n",
              "      background-color: #E2EBFA;\n",
              "      box-shadow: 0px 1px 2px rgba(60, 64, 67, 0.3), 0px 1px 3px 1px rgba(60, 64, 67, 0.15);\n",
              "      fill: #174EA6;\n",
              "    }\n",
              "\n",
              "    .colab-df-buttons div {\n",
              "      margin-bottom: 4px;\n",
              "    }\n",
              "\n",
              "    [theme=dark] .colab-df-convert {\n",
              "      background-color: #3B4455;\n",
              "      fill: #D2E3FC;\n",
              "    }\n",
              "\n",
              "    [theme=dark] .colab-df-convert:hover {\n",
              "      background-color: #434B5C;\n",
              "      box-shadow: 0px 1px 3px 1px rgba(0, 0, 0, 0.15);\n",
              "      filter: drop-shadow(0px 1px 2px rgba(0, 0, 0, 0.3));\n",
              "      fill: #FFFFFF;\n",
              "    }\n",
              "  </style>\n",
              "\n",
              "    <script>\n",
              "      const buttonEl =\n",
              "        document.querySelector('#df-a944ea3a-6c66-44eb-876a-1a93728f0b3f button.colab-df-convert');\n",
              "      buttonEl.style.display =\n",
              "        google.colab.kernel.accessAllowed ? 'block' : 'none';\n",
              "\n",
              "      async function convertToInteractive(key) {\n",
              "        const element = document.querySelector('#df-a944ea3a-6c66-44eb-876a-1a93728f0b3f');\n",
              "        const dataTable =\n",
              "          await google.colab.kernel.invokeFunction('convertToInteractive',\n",
              "                                                    [key], {});\n",
              "        if (!dataTable) return;\n",
              "\n",
              "        const docLinkHtml = 'Like what you see? Visit the ' +\n",
              "          '<a target=\"_blank\" href=https://colab.research.google.com/notebooks/data_table.ipynb>data table notebook</a>'\n",
              "          + ' to learn more about interactive tables.';\n",
              "        element.innerHTML = '';\n",
              "        dataTable['output_type'] = 'display_data';\n",
              "        await google.colab.output.renderOutput(dataTable, element);\n",
              "        const docLink = document.createElement('div');\n",
              "        docLink.innerHTML = docLinkHtml;\n",
              "        element.appendChild(docLink);\n",
              "      }\n",
              "    </script>\n",
              "  </div>\n",
              "\n",
              "\n",
              "    <div id=\"df-21de2d06-17e9-42da-b43b-0de7b7e1b9b5\">\n",
              "      <button class=\"colab-df-quickchart\" onclick=\"quickchart('df-21de2d06-17e9-42da-b43b-0de7b7e1b9b5')\"\n",
              "                title=\"Suggest charts\"\n",
              "                style=\"display:none;\">\n",
              "\n",
              "<svg xmlns=\"http://www.w3.org/2000/svg\" height=\"24px\"viewBox=\"0 0 24 24\"\n",
              "     width=\"24px\">\n",
              "    <g>\n",
              "        <path d=\"M19 3H5c-1.1 0-2 .9-2 2v14c0 1.1.9 2 2 2h14c1.1 0 2-.9 2-2V5c0-1.1-.9-2-2-2zM9 17H7v-7h2v7zm4 0h-2V7h2v10zm4 0h-2v-4h2v4z\"/>\n",
              "    </g>\n",
              "</svg>\n",
              "      </button>\n",
              "\n",
              "<style>\n",
              "  .colab-df-quickchart {\n",
              "      --bg-color: #E8F0FE;\n",
              "      --fill-color: #1967D2;\n",
              "      --hover-bg-color: #E2EBFA;\n",
              "      --hover-fill-color: #174EA6;\n",
              "      --disabled-fill-color: #AAA;\n",
              "      --disabled-bg-color: #DDD;\n",
              "  }\n",
              "\n",
              "  [theme=dark] .colab-df-quickchart {\n",
              "      --bg-color: #3B4455;\n",
              "      --fill-color: #D2E3FC;\n",
              "      --hover-bg-color: #434B5C;\n",
              "      --hover-fill-color: #FFFFFF;\n",
              "      --disabled-bg-color: #3B4455;\n",
              "      --disabled-fill-color: #666;\n",
              "  }\n",
              "\n",
              "  .colab-df-quickchart {\n",
              "    background-color: var(--bg-color);\n",
              "    border: none;\n",
              "    border-radius: 50%;\n",
              "    cursor: pointer;\n",
              "    display: none;\n",
              "    fill: var(--fill-color);\n",
              "    height: 32px;\n",
              "    padding: 0;\n",
              "    width: 32px;\n",
              "  }\n",
              "\n",
              "  .colab-df-quickchart:hover {\n",
              "    background-color: var(--hover-bg-color);\n",
              "    box-shadow: 0 1px 2px rgba(60, 64, 67, 0.3), 0 1px 3px 1px rgba(60, 64, 67, 0.15);\n",
              "    fill: var(--button-hover-fill-color);\n",
              "  }\n",
              "\n",
              "  .colab-df-quickchart-complete:disabled,\n",
              "  .colab-df-quickchart-complete:disabled:hover {\n",
              "    background-color: var(--disabled-bg-color);\n",
              "    fill: var(--disabled-fill-color);\n",
              "    box-shadow: none;\n",
              "  }\n",
              "\n",
              "  .colab-df-spinner {\n",
              "    border: 2px solid var(--fill-color);\n",
              "    border-color: transparent;\n",
              "    border-bottom-color: var(--fill-color);\n",
              "    animation:\n",
              "      spin 1s steps(1) infinite;\n",
              "  }\n",
              "\n",
              "  @keyframes spin {\n",
              "    0% {\n",
              "      border-color: transparent;\n",
              "      border-bottom-color: var(--fill-color);\n",
              "      border-left-color: var(--fill-color);\n",
              "    }\n",
              "    20% {\n",
              "      border-color: transparent;\n",
              "      border-left-color: var(--fill-color);\n",
              "      border-top-color: var(--fill-color);\n",
              "    }\n",
              "    30% {\n",
              "      border-color: transparent;\n",
              "      border-left-color: var(--fill-color);\n",
              "      border-top-color: var(--fill-color);\n",
              "      border-right-color: var(--fill-color);\n",
              "    }\n",
              "    40% {\n",
              "      border-color: transparent;\n",
              "      border-right-color: var(--fill-color);\n",
              "      border-top-color: var(--fill-color);\n",
              "    }\n",
              "    60% {\n",
              "      border-color: transparent;\n",
              "      border-right-color: var(--fill-color);\n",
              "    }\n",
              "    80% {\n",
              "      border-color: transparent;\n",
              "      border-right-color: var(--fill-color);\n",
              "      border-bottom-color: var(--fill-color);\n",
              "    }\n",
              "    90% {\n",
              "      border-color: transparent;\n",
              "      border-bottom-color: var(--fill-color);\n",
              "    }\n",
              "  }\n",
              "</style>\n",
              "\n",
              "      <script>\n",
              "        async function quickchart(key) {\n",
              "          const quickchartButtonEl =\n",
              "            document.querySelector('#' + key + ' button');\n",
              "          quickchartButtonEl.disabled = true;  // To prevent multiple clicks.\n",
              "          quickchartButtonEl.classList.add('colab-df-spinner');\n",
              "          try {\n",
              "            const charts = await google.colab.kernel.invokeFunction(\n",
              "                'suggestCharts', [key], {});\n",
              "          } catch (error) {\n",
              "            console.error('Error during call to suggestCharts:', error);\n",
              "          }\n",
              "          quickchartButtonEl.classList.remove('colab-df-spinner');\n",
              "          quickchartButtonEl.classList.add('colab-df-quickchart-complete');\n",
              "        }\n",
              "        (() => {\n",
              "          let quickchartButtonEl =\n",
              "            document.querySelector('#df-21de2d06-17e9-42da-b43b-0de7b7e1b9b5 button');\n",
              "          quickchartButtonEl.style.display =\n",
              "            google.colab.kernel.accessAllowed ? 'block' : 'none';\n",
              "        })();\n",
              "      </script>\n",
              "    </div>\n",
              "\n",
              "    </div>\n",
              "  </div>\n"
            ],
            "application/vnd.google.colaboratory.intrinsic+json": {
              "type": "dataframe",
              "summary": "{\n  \"name\": \"df\",\n  \"rows\": 8,\n  \"fields\": [\n    {\n      \"column\": \"order_id\",\n      \"properties\": {\n        \"dtype\": \"number\",\n        \"std\": 606.8956681499784,\n        \"min\": 35.0,\n        \"max\": 2006.0,\n        \"num_unique_values\": 8,\n        \"samples\": [\n          1044.1142857142856,\n          1024.5,\n          35.0\n        ],\n        \"semantic_type\": \"\",\n        \"description\": \"\"\n      }\n    },\n    {\n      \"column\": \"order_date\",\n      \"properties\": {\n        \"dtype\": \"date\",\n        \"min\": \"1970-01-01 00:00:00.000000035\",\n        \"max\": \"2023-02-13 00:00:00\",\n        \"num_unique_values\": 7,\n        \"samples\": [\n          \"35\",\n          \"2023-01-29 13:01:42.857142784\",\n          \"2023-02-06 12:00:00\"\n        ],\n        \"semantic_type\": \"\",\n        \"description\": \"\"\n      }\n    },\n    {\n      \"column\": \"price\",\n      \"properties\": {\n        \"dtype\": \"number\",\n        \"std\": 416.03151660051225,\n        \"min\": 24.99,\n        \"max\": 1299.99,\n        \"num_unique_values\": 8,\n        \"samples\": [\n          268.70428571428573,\n          324.99,\n          35.0\n        ],\n        \"semantic_type\": \"\",\n        \"description\": \"\"\n      }\n    },\n    {\n      \"column\": \"quantity\",\n      \"properties\": {\n        \"dtype\": \"number\",\n        \"std\": 11.905021921706561,\n        \"min\": 0.811679449913428,\n        \"max\": 35.0,\n        \"num_unique_values\": 5,\n        \"samples\": [\n          1.4,\n          0.811679449913428,\n          1.0\n        ],\n        \"semantic_type\": \"\",\n        \"description\": \"\"\n      }\n    },\n    {\n      \"column\": \"discount\",\n      \"properties\": {\n        \"dtype\": \"number\",\n        \"std\": 12.350980369738464,\n        \"min\": 0.0,\n        \"max\": 35.0,\n        \"num_unique_values\": 6,\n        \"samples\": [\n          35.0,\n          0.05,\n          0.06859943405700354\n        ],\n        \"semantic_type\": \"\",\n        \"description\": \"\"\n      }\n    },\n    {\n      \"column\": \"shipping_cost\",\n      \"properties\": {\n        \"dtype\": \"number\",\n        \"std\": 10.872068701895353,\n        \"min\": 2.99,\n        \"max\": 35.0,\n        \"num_unique_values\": 8,\n        \"samples\": [\n          8.161428571428573,\n          8.99,\n          35.0\n        ],\n        \"semantic_type\": \"\",\n        \"description\": \"\"\n      }\n    },\n    {\n      \"column\": \"return_requested\",\n      \"properties\": {\n        \"dtype\": \"number\",\n        \"std\": 12.303509574295749,\n        \"min\": 0.0,\n        \"max\": 35.0,\n        \"num_unique_values\": 5,\n        \"samples\": [\n          0.14285714285714285,\n          0.355035801248363,\n          0.0\n        ],\n        \"semantic_type\": \"\",\n        \"description\": \"\"\n      }\n    },\n    {\n      \"column\": \"review_score\",\n      \"properties\": {\n        \"dtype\": \"number\",\n        \"std\": 10.565721354303545,\n        \"min\": 1.0,\n        \"max\": 33.0,\n        \"num_unique_values\": 5,\n        \"samples\": [\n          4.0,\n          1.118033988749895,\n          1.0\n        ],\n        \"semantic_type\": \"\",\n        \"description\": \"\"\n      }\n    },\n    {\n      \"column\": \"days_to_deliver\",\n      \"properties\": {\n        \"dtype\": \"number\",\n        \"std\": 5.939705031654957,\n        \"min\": 1.0208355710680808,\n        \"max\": 20.0,\n        \"num_unique_values\": 7,\n        \"samples\": [\n          20.0,\n          4.1,\n          6.0\n        ],\n        \"semantic_type\": \"\",\n        \"description\": \"\"\n      }\n    },\n    {\n      \"column\": \"weight_kg\",\n      \"properties\": {\n        \"dtype\": \"number\",\n        \"std\": 12.303334075709008,\n        \"min\": 0.05,\n        \"max\": 35.0,\n        \"num_unique_values\": 8,\n        \"samples\": [\n          1.8085114971428575,\n          1.8,\n          35.0\n        ],\n        \"semantic_type\": \"\",\n        \"description\": \"\"\n      }\n    }\n  ]\n}"
            }
          },
          "metadata": {},
          "execution_count": 10
        }
      ]
    },
    {
      "cell_type": "markdown",
      "source": [
        "### Aggregating Data"
      ],
      "metadata": {
        "id": "EIz1nE6m1fV8"
      }
    },
    {
      "cell_type": "markdown",
      "source": [
        "**Calculate total revenue: sum(price * quantity)**"
      ],
      "metadata": {
        "id": "NsvECm1H1lmn"
      }
    },
    {
      "cell_type": "code",
      "source": [],
      "metadata": {
        "id": "01UW4V8x1mIy"
      },
      "execution_count": null,
      "outputs": []
    },
    {
      "cell_type": "markdown",
      "source": [
        "**Calculate total number of items sold**"
      ],
      "metadata": {
        "id": "e4M9Ql57LG6m"
      }
    },
    {
      "cell_type": "code",
      "source": [],
      "metadata": {
        "id": "PlVDk2qPLr8y"
      },
      "execution_count": null,
      "outputs": []
    },
    {
      "cell_type": "markdown",
      "source": [
        "**Average shipping cost**"
      ],
      "metadata": {
        "id": "BXcD3MrzLb2C"
      }
    },
    {
      "cell_type": "code",
      "source": [],
      "metadata": {
        "id": "T2iD3KmsL0J_"
      },
      "execution_count": null,
      "outputs": []
    },
    {
      "cell_type": "markdown",
      "source": [
        "**Average delivery time (from days_to_deliver)**"
      ],
      "metadata": {
        "id": "t3x3VR5WLcDu"
      }
    },
    {
      "cell_type": "code",
      "source": [],
      "metadata": {
        "id": "6ENAVFnKL7b_"
      },
      "execution_count": null,
      "outputs": []
    },
    {
      "cell_type": "markdown",
      "source": [
        "### Grouping Data"
      ],
      "metadata": {
        "id": "yIpdpLjALcJ2"
      }
    },
    {
      "cell_type": "markdown",
      "source": [
        "**Calculate total revenue by category (e.g., Electronics, Fashion)**"
      ],
      "metadata": {
        "id": "mlu1EddY20WY"
      }
    },
    {
      "cell_type": "code",
      "source": [],
      "metadata": {
        "id": "atpUx-1u3To_"
      },
      "execution_count": null,
      "outputs": []
    },
    {
      "cell_type": "markdown",
      "source": [
        "**Calculate average review score by product**"
      ],
      "metadata": {
        "id": "yh89T1yi3NGv"
      }
    },
    {
      "cell_type": "code",
      "source": [],
      "metadata": {
        "id": "8JidVjHC3UNe"
      },
      "execution_count": null,
      "outputs": []
    },
    {
      "cell_type": "markdown",
      "source": [
        "**Calculate number of orders per customer_city**"
      ],
      "metadata": {
        "id": "dMsrYhxy3PKd"
      }
    },
    {
      "cell_type": "code",
      "source": [],
      "metadata": {
        "id": "XseoRsGP3Urq"
      },
      "execution_count": null,
      "outputs": []
    },
    {
      "cell_type": "markdown",
      "source": [
        "**Calculate average discount per payment_method**"
      ],
      "metadata": {
        "id": "EucztajP3Q_G"
      }
    },
    {
      "cell_type": "code",
      "source": [],
      "metadata": {
        "id": "ZdBDlGHo3VSC"
      },
      "execution_count": null,
      "outputs": []
    },
    {
      "cell_type": "markdown",
      "source": [
        "**Calculate number of return requests per category**"
      ],
      "metadata": {
        "id": "GGNzHJO23SdM"
      }
    },
    {
      "cell_type": "code",
      "source": [],
      "metadata": {
        "id": "MCIU8KyyMC6F"
      },
      "execution_count": null,
      "outputs": []
    },
    {
      "cell_type": "markdown",
      "source": [
        "### Pivot Tables and Cross Tables"
      ],
      "metadata": {
        "id": "HJD5rIsGLcNx"
      }
    },
    {
      "cell_type": "markdown",
      "source": [
        "**Pivot table showing average price by category and payment_method**"
      ],
      "metadata": {
        "id": "ldofjwxO3gWl"
      }
    },
    {
      "cell_type": "code",
      "source": [],
      "metadata": {
        "id": "WBjEzqlQMKHJ"
      },
      "execution_count": null,
      "outputs": []
    },
    {
      "cell_type": "markdown",
      "source": [
        "**Pivot table with total quantity sold by product_name and customer_state**"
      ],
      "metadata": {
        "id": "XXhZyk6VLcRy"
      }
    },
    {
      "cell_type": "code",
      "source": [],
      "metadata": {
        "id": "HHRUJe1ZMS0h"
      },
      "execution_count": null,
      "outputs": []
    },
    {
      "cell_type": "markdown",
      "source": [
        "**Pivot table showing average review score by product_name and delivery_status**"
      ],
      "metadata": {
        "id": "RnqVdrLtLcVs"
      }
    },
    {
      "cell_type": "code",
      "source": [],
      "metadata": {
        "id": "fXUD7343306Q"
      },
      "execution_count": null,
      "outputs": []
    },
    {
      "cell_type": "markdown",
      "source": [
        "**Crosstab of delivery_status vs. return_requested (e.g., how often returned items were delivered or not)**"
      ],
      "metadata": {
        "id": "74vBZ2lW31cP"
      }
    },
    {
      "cell_type": "code",
      "source": [],
      "metadata": {
        "id": "t2buXWHz33M8"
      },
      "execution_count": null,
      "outputs": []
    },
    {
      "cell_type": "markdown",
      "source": [
        "**Crosstab of payment_method vs. customer_country**"
      ],
      "metadata": {
        "id": "LV1kUVGI33ig"
      }
    },
    {
      "cell_type": "code",
      "source": [],
      "metadata": {
        "id": "xDG-QNCI34IL"
      },
      "execution_count": null,
      "outputs": []
    },
    {
      "cell_type": "markdown",
      "source": [
        "### Data Visualization"
      ],
      "metadata": {
        "id": "fYKMz0RN4NKr"
      }
    },
    {
      "cell_type": "markdown",
      "source": [
        "**Bar Chart + GroupBy**  \n",
        "*Total Revenue by Category*"
      ],
      "metadata": {
        "id": "burF-zQJ4RQi"
      }
    },
    {
      "cell_type": "code",
      "source": [],
      "metadata": {
        "id": "eE02yIi54V3Z"
      },
      "execution_count": null,
      "outputs": []
    },
    {
      "cell_type": "markdown",
      "source": [
        "**Stacked Bar Chart with Crosstab**  \n",
        "*Return Requests by Category*"
      ],
      "metadata": {
        "id": "7yi7W9AV4WXt"
      }
    },
    {
      "cell_type": "code",
      "source": [],
      "metadata": {
        "id": "yNIG_Ls84qpZ"
      },
      "execution_count": null,
      "outputs": []
    }
  ]
}