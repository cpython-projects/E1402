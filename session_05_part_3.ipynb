{
  "nbformat": 4,
  "nbformat_minor": 0,
  "metadata": {
    "colab": {
      "provenance": [],
      "authorship_tag": "ABX9TyNS9HNt3yLjZf0lIc6aNLrK",
      "include_colab_link": true
    },
    "kernelspec": {
      "name": "python3",
      "display_name": "Python 3"
    },
    "language_info": {
      "name": "python"
    }
  },
  "cells": [
    {
      "cell_type": "markdown",
      "metadata": {
        "id": "view-in-github",
        "colab_type": "text"
      },
      "source": [
        "<a href=\"https://colab.research.google.com/github/cpython-projects/E1402/blob/main/session_05_part_3.ipynb\" target=\"_parent\"><img src=\"https://colab.research.google.com/assets/colab-badge.svg\" alt=\"Open In Colab\"/></a>"
      ]
    },
    {
      "cell_type": "code",
      "source": [
        "import warnings\n",
        "warnings.filterwarnings(\"ignore\")"
      ],
      "metadata": {
        "id": "1Ci54W1y8PvP"
      },
      "execution_count": 2,
      "outputs": []
    },
    {
      "cell_type": "markdown",
      "source": [
        "# 🏡 Real Estate Data Visualization Tasks"
      ],
      "metadata": {
        "id": "wxm46OE17nmh"
      }
    },
    {
      "cell_type": "code",
      "execution_count": 1,
      "metadata": {
        "colab": {
          "base_uri": "https://localhost:8080/",
          "height": 243
        },
        "id": "DLQumLyY7gCi",
        "outputId": "e142bc39-c589-4fb3-b182-eca3656577e0"
      },
      "outputs": [
        {
          "output_type": "execute_result",
          "data": {
            "text/plain": [
              "   Unnamed: 0  last_price  total_area first_day_exposition  rooms  \\\n",
              "0           0   7312500.0       108.0           2024-05-15      3   \n",
              "1           1   1884375.0        40.4           2024-08-14      1   \n",
              "2           2   2922750.0        56.0           2023-11-06      2   \n",
              "3           3  36506250.0       159.0           2024-03-19      3   \n",
              "4           4   5625000.0       100.0           2024-06-12      2   \n",
              "\n",
              "   ceiling_height  floors_total  living_area  floor is_apartment  studio  \\\n",
              "0            2.70          16.0         51.0      8          NaN   False   \n",
              "1             NaN          11.0         18.6      1          NaN   False   \n",
              "2             NaN           5.0         34.3      4          NaN   False   \n",
              "3             NaN          14.0          NaN      9          NaN   False   \n",
              "4            3.03          14.0         32.0     13          NaN   False   \n",
              "\n",
              "   kitchen_area  balcony locality_name  days_exposition  \n",
              "0          25.0      NaN          Kyiv              NaN  \n",
              "1          11.0      2.0       Brovary             81.0  \n",
              "2           8.3      0.0          Kyiv            558.0  \n",
              "3           NaN      0.0          Kyiv            424.0  \n",
              "4          41.0      NaN          Kyiv            121.0  "
            ],
            "text/html": [
              "\n",
              "  <div id=\"df-d2c9199a-9249-4b92-bce0-ba7fb7222cf7\" class=\"colab-df-container\">\n",
              "    <div>\n",
              "<style scoped>\n",
              "    .dataframe tbody tr th:only-of-type {\n",
              "        vertical-align: middle;\n",
              "    }\n",
              "\n",
              "    .dataframe tbody tr th {\n",
              "        vertical-align: top;\n",
              "    }\n",
              "\n",
              "    .dataframe thead th {\n",
              "        text-align: right;\n",
              "    }\n",
              "</style>\n",
              "<table border=\"1\" class=\"dataframe\">\n",
              "  <thead>\n",
              "    <tr style=\"text-align: right;\">\n",
              "      <th></th>\n",
              "      <th>Unnamed: 0</th>\n",
              "      <th>last_price</th>\n",
              "      <th>total_area</th>\n",
              "      <th>first_day_exposition</th>\n",
              "      <th>rooms</th>\n",
              "      <th>ceiling_height</th>\n",
              "      <th>floors_total</th>\n",
              "      <th>living_area</th>\n",
              "      <th>floor</th>\n",
              "      <th>is_apartment</th>\n",
              "      <th>studio</th>\n",
              "      <th>kitchen_area</th>\n",
              "      <th>balcony</th>\n",
              "      <th>locality_name</th>\n",
              "      <th>days_exposition</th>\n",
              "    </tr>\n",
              "  </thead>\n",
              "  <tbody>\n",
              "    <tr>\n",
              "      <th>0</th>\n",
              "      <td>0</td>\n",
              "      <td>7312500.0</td>\n",
              "      <td>108.0</td>\n",
              "      <td>2024-05-15</td>\n",
              "      <td>3</td>\n",
              "      <td>2.70</td>\n",
              "      <td>16.0</td>\n",
              "      <td>51.0</td>\n",
              "      <td>8</td>\n",
              "      <td>NaN</td>\n",
              "      <td>False</td>\n",
              "      <td>25.0</td>\n",
              "      <td>NaN</td>\n",
              "      <td>Kyiv</td>\n",
              "      <td>NaN</td>\n",
              "    </tr>\n",
              "    <tr>\n",
              "      <th>1</th>\n",
              "      <td>1</td>\n",
              "      <td>1884375.0</td>\n",
              "      <td>40.4</td>\n",
              "      <td>2024-08-14</td>\n",
              "      <td>1</td>\n",
              "      <td>NaN</td>\n",
              "      <td>11.0</td>\n",
              "      <td>18.6</td>\n",
              "      <td>1</td>\n",
              "      <td>NaN</td>\n",
              "      <td>False</td>\n",
              "      <td>11.0</td>\n",
              "      <td>2.0</td>\n",
              "      <td>Brovary</td>\n",
              "      <td>81.0</td>\n",
              "    </tr>\n",
              "    <tr>\n",
              "      <th>2</th>\n",
              "      <td>2</td>\n",
              "      <td>2922750.0</td>\n",
              "      <td>56.0</td>\n",
              "      <td>2023-11-06</td>\n",
              "      <td>2</td>\n",
              "      <td>NaN</td>\n",
              "      <td>5.0</td>\n",
              "      <td>34.3</td>\n",
              "      <td>4</td>\n",
              "      <td>NaN</td>\n",
              "      <td>False</td>\n",
              "      <td>8.3</td>\n",
              "      <td>0.0</td>\n",
              "      <td>Kyiv</td>\n",
              "      <td>558.0</td>\n",
              "    </tr>\n",
              "    <tr>\n",
              "      <th>3</th>\n",
              "      <td>3</td>\n",
              "      <td>36506250.0</td>\n",
              "      <td>159.0</td>\n",
              "      <td>2024-03-19</td>\n",
              "      <td>3</td>\n",
              "      <td>NaN</td>\n",
              "      <td>14.0</td>\n",
              "      <td>NaN</td>\n",
              "      <td>9</td>\n",
              "      <td>NaN</td>\n",
              "      <td>False</td>\n",
              "      <td>NaN</td>\n",
              "      <td>0.0</td>\n",
              "      <td>Kyiv</td>\n",
              "      <td>424.0</td>\n",
              "    </tr>\n",
              "    <tr>\n",
              "      <th>4</th>\n",
              "      <td>4</td>\n",
              "      <td>5625000.0</td>\n",
              "      <td>100.0</td>\n",
              "      <td>2024-06-12</td>\n",
              "      <td>2</td>\n",
              "      <td>3.03</td>\n",
              "      <td>14.0</td>\n",
              "      <td>32.0</td>\n",
              "      <td>13</td>\n",
              "      <td>NaN</td>\n",
              "      <td>False</td>\n",
              "      <td>41.0</td>\n",
              "      <td>NaN</td>\n",
              "      <td>Kyiv</td>\n",
              "      <td>121.0</td>\n",
              "    </tr>\n",
              "  </tbody>\n",
              "</table>\n",
              "</div>\n",
              "    <div class=\"colab-df-buttons\">\n",
              "\n",
              "  <div class=\"colab-df-container\">\n",
              "    <button class=\"colab-df-convert\" onclick=\"convertToInteractive('df-d2c9199a-9249-4b92-bce0-ba7fb7222cf7')\"\n",
              "            title=\"Convert this dataframe to an interactive table.\"\n",
              "            style=\"display:none;\">\n",
              "\n",
              "  <svg xmlns=\"http://www.w3.org/2000/svg\" height=\"24px\" viewBox=\"0 -960 960 960\">\n",
              "    <path d=\"M120-120v-720h720v720H120Zm60-500h600v-160H180v160Zm220 220h160v-160H400v160Zm0 220h160v-160H400v160ZM180-400h160v-160H180v160Zm440 0h160v-160H620v160ZM180-180h160v-160H180v160Zm440 0h160v-160H620v160Z\"/>\n",
              "  </svg>\n",
              "    </button>\n",
              "\n",
              "  <style>\n",
              "    .colab-df-container {\n",
              "      display:flex;\n",
              "      gap: 12px;\n",
              "    }\n",
              "\n",
              "    .colab-df-convert {\n",
              "      background-color: #E8F0FE;\n",
              "      border: none;\n",
              "      border-radius: 50%;\n",
              "      cursor: pointer;\n",
              "      display: none;\n",
              "      fill: #1967D2;\n",
              "      height: 32px;\n",
              "      padding: 0 0 0 0;\n",
              "      width: 32px;\n",
              "    }\n",
              "\n",
              "    .colab-df-convert:hover {\n",
              "      background-color: #E2EBFA;\n",
              "      box-shadow: 0px 1px 2px rgba(60, 64, 67, 0.3), 0px 1px 3px 1px rgba(60, 64, 67, 0.15);\n",
              "      fill: #174EA6;\n",
              "    }\n",
              "\n",
              "    .colab-df-buttons div {\n",
              "      margin-bottom: 4px;\n",
              "    }\n",
              "\n",
              "    [theme=dark] .colab-df-convert {\n",
              "      background-color: #3B4455;\n",
              "      fill: #D2E3FC;\n",
              "    }\n",
              "\n",
              "    [theme=dark] .colab-df-convert:hover {\n",
              "      background-color: #434B5C;\n",
              "      box-shadow: 0px 1px 3px 1px rgba(0, 0, 0, 0.15);\n",
              "      filter: drop-shadow(0px 1px 2px rgba(0, 0, 0, 0.3));\n",
              "      fill: #FFFFFF;\n",
              "    }\n",
              "  </style>\n",
              "\n",
              "    <script>\n",
              "      const buttonEl =\n",
              "        document.querySelector('#df-d2c9199a-9249-4b92-bce0-ba7fb7222cf7 button.colab-df-convert');\n",
              "      buttonEl.style.display =\n",
              "        google.colab.kernel.accessAllowed ? 'block' : 'none';\n",
              "\n",
              "      async function convertToInteractive(key) {\n",
              "        const element = document.querySelector('#df-d2c9199a-9249-4b92-bce0-ba7fb7222cf7');\n",
              "        const dataTable =\n",
              "          await google.colab.kernel.invokeFunction('convertToInteractive',\n",
              "                                                    [key], {});\n",
              "        if (!dataTable) return;\n",
              "\n",
              "        const docLinkHtml = 'Like what you see? Visit the ' +\n",
              "          '<a target=\"_blank\" href=https://colab.research.google.com/notebooks/data_table.ipynb>data table notebook</a>'\n",
              "          + ' to learn more about interactive tables.';\n",
              "        element.innerHTML = '';\n",
              "        dataTable['output_type'] = 'display_data';\n",
              "        await google.colab.output.renderOutput(dataTable, element);\n",
              "        const docLink = document.createElement('div');\n",
              "        docLink.innerHTML = docLinkHtml;\n",
              "        element.appendChild(docLink);\n",
              "      }\n",
              "    </script>\n",
              "  </div>\n",
              "\n",
              "\n",
              "    <div id=\"df-d4b5a7e4-e3b5-4a0a-bb4b-23957d3c6e30\">\n",
              "      <button class=\"colab-df-quickchart\" onclick=\"quickchart('df-d4b5a7e4-e3b5-4a0a-bb4b-23957d3c6e30')\"\n",
              "                title=\"Suggest charts\"\n",
              "                style=\"display:none;\">\n",
              "\n",
              "<svg xmlns=\"http://www.w3.org/2000/svg\" height=\"24px\"viewBox=\"0 0 24 24\"\n",
              "     width=\"24px\">\n",
              "    <g>\n",
              "        <path d=\"M19 3H5c-1.1 0-2 .9-2 2v14c0 1.1.9 2 2 2h14c1.1 0 2-.9 2-2V5c0-1.1-.9-2-2-2zM9 17H7v-7h2v7zm4 0h-2V7h2v10zm4 0h-2v-4h2v4z\"/>\n",
              "    </g>\n",
              "</svg>\n",
              "      </button>\n",
              "\n",
              "<style>\n",
              "  .colab-df-quickchart {\n",
              "      --bg-color: #E8F0FE;\n",
              "      --fill-color: #1967D2;\n",
              "      --hover-bg-color: #E2EBFA;\n",
              "      --hover-fill-color: #174EA6;\n",
              "      --disabled-fill-color: #AAA;\n",
              "      --disabled-bg-color: #DDD;\n",
              "  }\n",
              "\n",
              "  [theme=dark] .colab-df-quickchart {\n",
              "      --bg-color: #3B4455;\n",
              "      --fill-color: #D2E3FC;\n",
              "      --hover-bg-color: #434B5C;\n",
              "      --hover-fill-color: #FFFFFF;\n",
              "      --disabled-bg-color: #3B4455;\n",
              "      --disabled-fill-color: #666;\n",
              "  }\n",
              "\n",
              "  .colab-df-quickchart {\n",
              "    background-color: var(--bg-color);\n",
              "    border: none;\n",
              "    border-radius: 50%;\n",
              "    cursor: pointer;\n",
              "    display: none;\n",
              "    fill: var(--fill-color);\n",
              "    height: 32px;\n",
              "    padding: 0;\n",
              "    width: 32px;\n",
              "  }\n",
              "\n",
              "  .colab-df-quickchart:hover {\n",
              "    background-color: var(--hover-bg-color);\n",
              "    box-shadow: 0 1px 2px rgba(60, 64, 67, 0.3), 0 1px 3px 1px rgba(60, 64, 67, 0.15);\n",
              "    fill: var(--button-hover-fill-color);\n",
              "  }\n",
              "\n",
              "  .colab-df-quickchart-complete:disabled,\n",
              "  .colab-df-quickchart-complete:disabled:hover {\n",
              "    background-color: var(--disabled-bg-color);\n",
              "    fill: var(--disabled-fill-color);\n",
              "    box-shadow: none;\n",
              "  }\n",
              "\n",
              "  .colab-df-spinner {\n",
              "    border: 2px solid var(--fill-color);\n",
              "    border-color: transparent;\n",
              "    border-bottom-color: var(--fill-color);\n",
              "    animation:\n",
              "      spin 1s steps(1) infinite;\n",
              "  }\n",
              "\n",
              "  @keyframes spin {\n",
              "    0% {\n",
              "      border-color: transparent;\n",
              "      border-bottom-color: var(--fill-color);\n",
              "      border-left-color: var(--fill-color);\n",
              "    }\n",
              "    20% {\n",
              "      border-color: transparent;\n",
              "      border-left-color: var(--fill-color);\n",
              "      border-top-color: var(--fill-color);\n",
              "    }\n",
              "    30% {\n",
              "      border-color: transparent;\n",
              "      border-left-color: var(--fill-color);\n",
              "      border-top-color: var(--fill-color);\n",
              "      border-right-color: var(--fill-color);\n",
              "    }\n",
              "    40% {\n",
              "      border-color: transparent;\n",
              "      border-right-color: var(--fill-color);\n",
              "      border-top-color: var(--fill-color);\n",
              "    }\n",
              "    60% {\n",
              "      border-color: transparent;\n",
              "      border-right-color: var(--fill-color);\n",
              "    }\n",
              "    80% {\n",
              "      border-color: transparent;\n",
              "      border-right-color: var(--fill-color);\n",
              "      border-bottom-color: var(--fill-color);\n",
              "    }\n",
              "    90% {\n",
              "      border-color: transparent;\n",
              "      border-bottom-color: var(--fill-color);\n",
              "    }\n",
              "  }\n",
              "</style>\n",
              "\n",
              "      <script>\n",
              "        async function quickchart(key) {\n",
              "          const quickchartButtonEl =\n",
              "            document.querySelector('#' + key + ' button');\n",
              "          quickchartButtonEl.disabled = true;  // To prevent multiple clicks.\n",
              "          quickchartButtonEl.classList.add('colab-df-spinner');\n",
              "          try {\n",
              "            const charts = await google.colab.kernel.invokeFunction(\n",
              "                'suggestCharts', [key], {});\n",
              "          } catch (error) {\n",
              "            console.error('Error during call to suggestCharts:', error);\n",
              "          }\n",
              "          quickchartButtonEl.classList.remove('colab-df-spinner');\n",
              "          quickchartButtonEl.classList.add('colab-df-quickchart-complete');\n",
              "        }\n",
              "        (() => {\n",
              "          let quickchartButtonEl =\n",
              "            document.querySelector('#df-d4b5a7e4-e3b5-4a0a-bb4b-23957d3c6e30 button');\n",
              "          quickchartButtonEl.style.display =\n",
              "            google.colab.kernel.accessAllowed ? 'block' : 'none';\n",
              "        })();\n",
              "      </script>\n",
              "    </div>\n",
              "\n",
              "    </div>\n",
              "  </div>\n"
            ],
            "application/vnd.google.colaboratory.intrinsic+json": {
              "type": "dataframe",
              "variable_name": "df",
              "summary": "{\n  \"name\": \"df\",\n  \"rows\": 23699,\n  \"fields\": [\n    {\n      \"column\": \"Unnamed: 0\",\n      \"properties\": {\n        \"dtype\": \"number\",\n        \"std\": 6841,\n        \"min\": 0,\n        \"max\": 23698,\n        \"num_unique_values\": 23699,\n        \"samples\": [\n          7944,\n          7539,\n          9889\n        ],\n        \"semantic_type\": \"\",\n        \"description\": \"\"\n      }\n    },\n    {\n      \"column\": \"last_price\",\n      \"properties\": {\n        \"dtype\": \"number\",\n        \"std\": 6123944.963214545,\n        \"min\": 6856.0,\n        \"max\": 429187500.0,\n        \"num_unique_values\": 2978,\n        \"samples\": [\n          2338369.0,\n          2620356.0,\n          4825072.0\n        ],\n        \"semantic_type\": \"\",\n        \"description\": \"\"\n      }\n    },\n    {\n      \"column\": \"total_area\",\n      \"properties\": {\n        \"dtype\": \"number\",\n        \"std\": 35.65408290337163,\n        \"min\": 12.0,\n        \"max\": 900.0,\n        \"num_unique_values\": 2182,\n        \"samples\": [\n          69.0,\n          41.7,\n          99.9\n        ],\n        \"semantic_type\": \"\",\n        \"description\": \"\"\n      }\n    },\n    {\n      \"column\": \"first_day_exposition\",\n      \"properties\": {\n        \"dtype\": \"object\",\n        \"num_unique_values\": 1026,\n        \"samples\": [\n          \"2024-03-26\",\n          \"2023-01-26\",\n          \"2022-02-28\"\n        ],\n        \"semantic_type\": \"\",\n        \"description\": \"\"\n      }\n    },\n    {\n      \"column\": \"rooms\",\n      \"properties\": {\n        \"dtype\": \"number\",\n        \"std\": 1,\n        \"min\": 0,\n        \"max\": 19,\n        \"num_unique_values\": 17,\n        \"samples\": [\n          3,\n          1,\n          6\n        ],\n        \"semantic_type\": \"\",\n        \"description\": \"\"\n      }\n    },\n    {\n      \"column\": \"ceiling_height\",\n      \"properties\": {\n        \"dtype\": \"number\",\n        \"std\": 1.261055830986799,\n        \"min\": 1.0,\n        \"max\": 100.0,\n        \"num_unique_values\": 183,\n        \"samples\": [\n          2.64,\n          5.2,\n          3.93\n        ],\n        \"semantic_type\": \"\",\n        \"description\": \"\"\n      }\n    },\n    {\n      \"column\": \"floors_total\",\n      \"properties\": {\n        \"dtype\": \"number\",\n        \"std\": 6.597172989041479,\n        \"min\": 1.0,\n        \"max\": 60.0,\n        \"num_unique_values\": 36,\n        \"samples\": [\n          37.0,\n          23.0,\n          36.0\n        ],\n        \"semantic_type\": \"\",\n        \"description\": \"\"\n      }\n    },\n    {\n      \"column\": \"living_area\",\n      \"properties\": {\n        \"dtype\": \"number\",\n        \"std\": 22.030445215166257,\n        \"min\": 2.0,\n        \"max\": 409.7,\n        \"num_unique_values\": 1782,\n        \"samples\": [\n          43.46,\n          27.29,\n          41.8\n        ],\n        \"semantic_type\": \"\",\n        \"description\": \"\"\n      }\n    },\n    {\n      \"column\": \"floor\",\n      \"properties\": {\n        \"dtype\": \"number\",\n        \"std\": 4,\n        \"min\": 1,\n        \"max\": 33,\n        \"num_unique_values\": 33,\n        \"samples\": [\n          33,\n          10,\n          24\n        ],\n        \"semantic_type\": \"\",\n        \"description\": \"\"\n      }\n    },\n    {\n      \"column\": \"is_apartment\",\n      \"properties\": {\n        \"dtype\": \"category\",\n        \"num_unique_values\": 2,\n        \"samples\": [\n          true,\n          false\n        ],\n        \"semantic_type\": \"\",\n        \"description\": \"\"\n      }\n    },\n    {\n      \"column\": \"studio\",\n      \"properties\": {\n        \"dtype\": \"boolean\",\n        \"num_unique_values\": 2,\n        \"samples\": [\n          true,\n          false\n        ],\n        \"semantic_type\": \"\",\n        \"description\": \"\"\n      }\n    },\n    {\n      \"column\": \"kitchen_area\",\n      \"properties\": {\n        \"dtype\": \"number\",\n        \"std\": 5.90543793417423,\n        \"min\": 1.3,\n        \"max\": 112.0,\n        \"num_unique_values\": 971,\n        \"samples\": [\n          12.24,\n          9.42\n        ],\n        \"semantic_type\": \"\",\n        \"description\": \"\"\n      }\n    },\n    {\n      \"column\": \"balcony\",\n      \"properties\": {\n        \"dtype\": \"number\",\n        \"std\": 1.0713003930828429,\n        \"min\": 0.0,\n        \"max\": 5.0,\n        \"num_unique_values\": 6,\n        \"samples\": [\n          2.0,\n          0.0\n        ],\n        \"semantic_type\": \"\",\n        \"description\": \"\"\n      }\n    },\n    {\n      \"column\": \"locality_name\",\n      \"properties\": {\n        \"dtype\": \"category\",\n        \"num_unique_values\": 9,\n        \"samples\": [\n          \"Vyshneve\",\n          \"Brovary\"\n        ],\n        \"semantic_type\": \"\",\n        \"description\": \"\"\n      }\n    },\n    {\n      \"column\": \"days_exposition\",\n      \"properties\": {\n        \"dtype\": \"number\",\n        \"std\": 219.72798815035102,\n        \"min\": 1.0,\n        \"max\": 1580.0,\n        \"num_unique_values\": 1141,\n        \"samples\": [\n          1202.0,\n          1553.0000000000002\n        ],\n        \"semantic_type\": \"\",\n        \"description\": \"\"\n      }\n    }\n  ]\n}"
            }
          },
          "metadata": {},
          "execution_count": 1
        }
      ],
      "source": [
        "import pandas as pd\n",
        "df = pd.read_csv('https://raw.githubusercontent.com/cpython-projects/E1402/refs/heads/main/real_estate_data.csv')\n",
        "df.head()"
      ]
    },
    {
      "cell_type": "markdown",
      "source": [
        "## 💰 Prices"
      ],
      "metadata": {
        "id": "05nLu8uI7qNs"
      }
    },
    {
      "cell_type": "markdown",
      "source": [
        "1. Build a **histogram of apartment prices (`last_price`)**. Identify the main price segments: mass market vs premium."
      ],
      "metadata": {
        "id": "HZt0uzjC7tSU"
      }
    },
    {
      "cell_type": "code",
      "source": [],
      "metadata": {
        "id": "fLB7kGT38SWS"
      },
      "execution_count": null,
      "outputs": []
    },
    {
      "cell_type": "markdown",
      "source": [
        "2. Create a **barplot of the median price per square meter by city (`locality_name`)**. Which city is the most expensive?"
      ],
      "metadata": {
        "id": "a8WLq7OO7vAm"
      }
    },
    {
      "cell_type": "code",
      "source": [],
      "metadata": {
        "id": "g7TFNWmG8StM"
      },
      "execution_count": null,
      "outputs": []
    },
    {
      "cell_type": "markdown",
      "source": [
        "3. Build a **boxplot of price per square meter vs number of rooms**. Are one-room apartments more expensive per m² than three-room apartments?"
      ],
      "metadata": {
        "id": "TF8QsnGp7wiT"
      }
    },
    {
      "cell_type": "code",
      "source": [],
      "metadata": {
        "id": "Oqw-Wxl98Tdd"
      },
      "execution_count": null,
      "outputs": []
    },
    {
      "cell_type": "markdown",
      "source": [
        "## 🏠 Area and Layout"
      ],
      "metadata": {
        "id": "T8kuIDLN71ED"
      }
    },
    {
      "cell_type": "markdown",
      "source": [
        "4. Create a **scatterplot of living area vs total area**. Is the share of living area consistent?"
      ],
      "metadata": {
        "id": "lURSKkY98Wjr"
      }
    },
    {
      "cell_type": "code",
      "source": [],
      "metadata": {
        "id": "DCEzMZ7b8a8h"
      },
      "execution_count": null,
      "outputs": []
    },
    {
      "cell_type": "markdown",
      "source": [
        "5. Plot a **histogram of apartment total areas**. Do we see standard sizes (e.g., 30–35 m² for one-room flats)?"
      ],
      "metadata": {
        "id": "iKuqV2fg8YKj"
      }
    },
    {
      "cell_type": "code",
      "source": [],
      "metadata": {
        "id": "ByCWRLNj8amp"
      },
      "execution_count": null,
      "outputs": []
    },
    {
      "cell_type": "markdown",
      "source": [
        "6. Build a **scatterplot of total area vs number of rooms**. Are there anomalies, like a one-room flat with 100 m²?"
      ],
      "metadata": {
        "id": "I9SHRoDk8ZsP"
      }
    },
    {
      "cell_type": "code",
      "source": [],
      "metadata": {
        "id": "FsuXdEuX8aO3"
      },
      "execution_count": null,
      "outputs": []
    },
    {
      "cell_type": "markdown",
      "source": [
        "## 📈 Market Dynamics"
      ],
      "metadata": {
        "id": "_Hg9QmvE73Rl"
      }
    },
    {
      "cell_type": "markdown",
      "source": [
        "7. Use a **lineplot of monthly publications (`first_day_exposition`)**. Is there seasonality in new listings?"
      ],
      "metadata": {
        "id": "jxAZFgHQ8ez6"
      }
    },
    {
      "cell_type": "code",
      "source": [],
      "metadata": {
        "id": "XQeSsSGV8jNo"
      },
      "execution_count": null,
      "outputs": []
    },
    {
      "cell_type": "markdown",
      "source": [
        "8. Plot a **lineplot of average price per m² over time**. Do we observe growth or decline?"
      ],
      "metadata": {
        "id": "Bh-8s5cz8gfj"
      }
    },
    {
      "cell_type": "code",
      "source": [],
      "metadata": {
        "id": "A5dMN7xj8izA"
      },
      "execution_count": null,
      "outputs": []
    },
    {
      "cell_type": "markdown",
      "source": [
        "9. Create a **lineplot of average exposure time (`days_exposition`) over time**. Are apartments selling faster or slower?"
      ],
      "metadata": {
        "id": "hkfNpxo98h9b"
      }
    },
    {
      "cell_type": "code",
      "source": [],
      "metadata": {
        "id": "DSzSwHK38icW"
      },
      "execution_count": null,
      "outputs": []
    },
    {
      "cell_type": "markdown",
      "source": [
        "## 🏢 Buildings and Floors"
      ],
      "metadata": {
        "id": "G8bo0Jqg75cG"
      }
    },
    {
      "cell_type": "markdown",
      "source": [
        "10. Build a **boxplot of prices by floor category**: first, last, and middle floors. Which category is more expensive?"
      ],
      "metadata": {
        "id": "x3j5Y-wt8l_R"
      }
    },
    {
      "cell_type": "code",
      "source": [],
      "metadata": {
        "id": "i0ZzK1LD8nxF"
      },
      "execution_count": null,
      "outputs": []
    },
    {
      "cell_type": "markdown",
      "source": [
        "11. Create a **scatterplot of price per m² vs total number of floors in the building (`floors_total`)**. Do high-rise apartments cost more?"
      ],
      "metadata": {
        "id": "xyvhw4If8oHI"
      }
    },
    {
      "cell_type": "code",
      "source": [],
      "metadata": {
        "id": "GSTzGX9O8pOH"
      },
      "execution_count": null,
      "outputs": []
    },
    {
      "cell_type": "markdown",
      "source": [
        "12. Make a **barplot of the number of listings by total floors**. Which types of buildings dominate in each city?\n"
      ],
      "metadata": {
        "id": "uXFSgROs8plY"
      }
    },
    {
      "cell_type": "code",
      "source": [],
      "metadata": {
        "id": "hs6NuVYD8qJm"
      },
      "execution_count": null,
      "outputs": []
    },
    {
      "cell_type": "markdown",
      "source": [
        "## 🛋️ Apartment Features"
      ],
      "metadata": {
        "id": "ITkfvZyk77aT"
      }
    },
    {
      "cell_type": "markdown",
      "source": [
        "13. Build a **barplot of average prices for apartments with and without balconies**. Does having a balcony increase the price?"
      ],
      "metadata": {
        "id": "jCoQPAMM8s7S"
      }
    },
    {
      "cell_type": "code",
      "source": [],
      "metadata": {
        "id": "mUqzr5fc8w8y"
      },
      "execution_count": null,
      "outputs": []
    },
    {
      "cell_type": "markdown",
      "source": [
        "14. Plot a **boxplot of price per m² for studios vs non-studios**. Are studios cheaper per square meter?"
      ],
      "metadata": {
        "id": "CAcGjgGt8urs"
      }
    },
    {
      "cell_type": "code",
      "source": [],
      "metadata": {
        "id": "lr-Uq-B-8yFd"
      },
      "execution_count": null,
      "outputs": []
    },
    {
      "cell_type": "markdown",
      "source": [
        "15. Create a **scatterplot of ceiling height vs price per m²**. Are apartments with ceilings above 3 meters more expensive?"
      ],
      "metadata": {
        "id": "Gaj7zW1_8wId"
      }
    },
    {
      "cell_type": "code",
      "source": [],
      "metadata": {
        "id": "27d-sDGW8ymo"
      },
      "execution_count": null,
      "outputs": []
    },
    {
      "cell_type": "markdown",
      "source": [
        "## 🔥 Sales and Exposure"
      ],
      "metadata": {
        "id": "6ZZ7-UTF79Ma"
      }
    },
    {
      "cell_type": "markdown",
      "source": [
        "16. Build a **barplot of median exposure time (`days_exposition`) by city**. In which city do apartments sell fastest?"
      ],
      "metadata": {
        "id": "V85lSm3a82RL"
      }
    },
    {
      "cell_type": "code",
      "source": [],
      "metadata": {
        "id": "ksTz8s5886Jy"
      },
      "execution_count": null,
      "outputs": []
    },
    {
      "cell_type": "markdown",
      "source": [
        "17. Create a **scatterplot of price vs exposure time**. Do more expensive apartments take longer to sell?"
      ],
      "metadata": {
        "id": "k9yNoswl83t_"
      }
    },
    {
      "cell_type": "code",
      "source": [],
      "metadata": {
        "id": "wKVs0A1K88Fc"
      },
      "execution_count": null,
      "outputs": []
    },
    {
      "cell_type": "code",
      "source": [],
      "metadata": {
        "id": "0juFTIev870c"
      },
      "execution_count": null,
      "outputs": []
    },
    {
      "cell_type": "markdown",
      "source": [
        "18. Plot a **barplot of average exposure time by number of rooms**. Which type of apartment sells the fastest?"
      ],
      "metadata": {
        "id": "T7D3TzdO85FE"
      }
    },
    {
      "cell_type": "code",
      "source": [],
      "metadata": {
        "id": "cq0gZxu387ji"
      },
      "execution_count": null,
      "outputs": []
    },
    {
      "cell_type": "markdown",
      "source": [
        "## 🔗 Correlations"
      ],
      "metadata": {
        "id": "-zgbRZkN7gp9"
      }
    },
    {
      "cell_type": "markdown",
      "source": [
        "19. Build a **heatmap of correlations between numeric features** (price, area, rooms, floors, exposure time). Which factors influence price the most?"
      ],
      "metadata": {
        "id": "FsoETJZs8_pa"
      }
    },
    {
      "cell_type": "code",
      "source": [],
      "metadata": {
        "id": "y4EegU139CMV"
      },
      "execution_count": null,
      "outputs": []
    },
    {
      "cell_type": "markdown",
      "source": [
        "20. Create a **scatterplot matrix (pairplot)** of price, total area, living area, kitchen area, and number of rooms. What relationships can you see?"
      ],
      "metadata": {
        "id": "Jlk-fZ3X9BSe"
      }
    },
    {
      "cell_type": "code",
      "source": [],
      "metadata": {
        "id": "PpYtdvJj9Cuc"
      },
      "execution_count": null,
      "outputs": []
    }
  ]
}